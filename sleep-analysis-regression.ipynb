{
 "cells": [
  {
   "cell_type": "code",
   "execution_count": 50,
   "id": "3327f158",
   "metadata": {
    "pycharm": {
     "name": "#%%\n"
    }
   },
   "outputs": [],
   "source": [
    "import numpy as np\n",
    "import pandas as pd\n",
    "from sklearn.model_selection import train_test_split"
   ]
  },
  {
   "cell_type": "markdown",
   "id": "96a15e56",
   "metadata": {
    "pycharm": {
     "name": "#%% md\n"
    }
   },
   "source": [
    "# CAS Data Science Projekt Sleep Analysis - Linear Regression"
   ]
  },
  {
   "cell_type": "markdown",
   "source": [
    "# Prepare data\n"
   ],
   "metadata": {
    "collapsed": false,
    "pycharm": {
     "name": "#%% md\n"
    }
   }
  },
  {
   "cell_type": "code",
   "execution_count": 51,
   "outputs": [],
   "source": [
    "data = pd.read_csv('prepared/fitbit_data_moon_crisp.csv', index_col=0)\n",
    "data.dropna(inplace=True)\n",
    "data.drop(columns=['date'], inplace=True)"
   ],
   "metadata": {
    "collapsed": false,
    "pycharm": {
     "name": "#%%\n"
    }
   }
  },
  {
   "cell_type": "code",
   "execution_count": 52,
   "outputs": [
    {
     "data": {
      "text/plain": "   temperature  overall_score  composition_score  revitalization_score  \\\n0    -2.494845             67                 17                    15   \n2    -3.100641             88                 21                    22   \n3    -3.082295             56                 15                    15   \n\n   duration_score  deep_sleep_in_minutes  resting_heart_rate  restlessness  \\\n0              35                     66                  60      0.073479   \n2              45                    126                  60      0.054695   \n3              26                     23                  56      0.100186   \n\n         bpm     Moon Phase  \n0  68.873969       New Moon  \n2  67.206731  First Quarter  \n3  67.187992  Third Quarter  ",
      "text/html": "<div>\n<style scoped>\n    .dataframe tbody tr th:only-of-type {\n        vertical-align: middle;\n    }\n\n    .dataframe tbody tr th {\n        vertical-align: top;\n    }\n\n    .dataframe thead th {\n        text-align: right;\n    }\n</style>\n<table border=\"1\" class=\"dataframe\">\n  <thead>\n    <tr style=\"text-align: right;\">\n      <th></th>\n      <th>temperature</th>\n      <th>overall_score</th>\n      <th>composition_score</th>\n      <th>revitalization_score</th>\n      <th>duration_score</th>\n      <th>deep_sleep_in_minutes</th>\n      <th>resting_heart_rate</th>\n      <th>restlessness</th>\n      <th>bpm</th>\n      <th>Moon Phase</th>\n    </tr>\n  </thead>\n  <tbody>\n    <tr>\n      <th>0</th>\n      <td>-2.494845</td>\n      <td>67</td>\n      <td>17</td>\n      <td>15</td>\n      <td>35</td>\n      <td>66</td>\n      <td>60</td>\n      <td>0.073479</td>\n      <td>68.873969</td>\n      <td>New Moon</td>\n    </tr>\n    <tr>\n      <th>2</th>\n      <td>-3.100641</td>\n      <td>88</td>\n      <td>21</td>\n      <td>22</td>\n      <td>45</td>\n      <td>126</td>\n      <td>60</td>\n      <td>0.054695</td>\n      <td>67.206731</td>\n      <td>First Quarter</td>\n    </tr>\n    <tr>\n      <th>3</th>\n      <td>-3.082295</td>\n      <td>56</td>\n      <td>15</td>\n      <td>15</td>\n      <td>26</td>\n      <td>23</td>\n      <td>56</td>\n      <td>0.100186</td>\n      <td>67.187992</td>\n      <td>Third Quarter</td>\n    </tr>\n  </tbody>\n</table>\n</div>"
     },
     "execution_count": 52,
     "metadata": {},
     "output_type": "execute_result"
    }
   ],
   "source": [
    "data.head(3)"
   ],
   "metadata": {
    "collapsed": false,
    "pycharm": {
     "name": "#%%\n"
    }
   }
  },
  {
   "cell_type": "code",
   "execution_count": 53,
   "outputs": [],
   "source": [
    "# Split data into X and y\n",
    "X_data = data.drop(columns='overall_score')\n",
    "y_data = data['overall_score']"
   ],
   "metadata": {
    "collapsed": false,
    "pycharm": {
     "name": "#%%\n"
    }
   }
  },
  {
   "cell_type": "code",
   "execution_count": 54,
   "outputs": [],
   "source": [
    "# set aside 20% of train and test data for evaluation\n",
    "X_train, X_test, y_train, y_test = train_test_split(X_data, y_data, stratify=X_data['Moon Phase'], shuffle = True)"
   ],
   "metadata": {
    "collapsed": false,
    "pycharm": {
     "name": "#%%\n"
    }
   }
  },
  {
   "cell_type": "code",
   "execution_count": 55,
   "outputs": [],
   "source": [
    "# same for the validation set\n",
    "X_train, X_val, y_train, y_val = train_test_split(X_train, y_train, test_size=0.25, random_state= 8)"
   ],
   "metadata": {
    "collapsed": false,
    "pycharm": {
     "name": "#%%\n"
    }
   }
  },
  {
   "cell_type": "code",
   "execution_count": 63,
   "outputs": [
    {
     "name": "stdout",
     "output_type": "stream",
     "text": [
      "X_train shape: (65, 9)\n",
      "X_test shape: (30, 9)\n",
      "X_val shape: (65,)\n"
     ]
    }
   ],
   "source": [
    "print(\"X_train shape: {}\".format(X_train.shape))\n",
    "print(\"X_test shape: {}\".format(X_test.shape))\n",
    "print(\"X_val shape: {}\".format(y_train.shape))"
   ],
   "metadata": {
    "collapsed": false,
    "pycharm": {
     "name": "#%%\n"
    }
   }
  },
  {
   "cell_type": "code",
   "execution_count": 64,
   "outputs": [
    {
     "name": "stdout",
     "output_type": "stream",
     "text": [
      "y_train shape: (65,)\n",
      "y_test shape: (30,)\n",
      "y val shape: (30,)\n"
     ]
    }
   ],
   "source": [
    "print(\"y_train shape: {}\".format(y_train.shape))\n",
    "print(\"y_test shape: {}\".format(y_test.shape))\n",
    "print(\"y val shape: {}\".format(y_test.shape))"
   ],
   "metadata": {
    "collapsed": false,
    "pycharm": {
     "name": "#%%\n"
    }
   }
  },
  {
   "cell_type": "markdown",
   "source": [
    "# Define and train model"
   ],
   "metadata": {
    "collapsed": false,
    "pycharm": {
     "name": "#%% md\n"
    }
   }
  },
  {
   "cell_type": "code",
   "execution_count": 65,
   "outputs": [],
   "source": [
    "from sklearn.linear_model import LinearRegression\n",
    "from sklearn.preprocessing import OneHotEncoder\n",
    "from sklearn.compose import make_column_transformer\n",
    "from sklearn.pipeline import Pipeline"
   ],
   "metadata": {
    "collapsed": false,
    "pycharm": {
     "name": "#%%\n"
    }
   }
  },
  {
   "cell_type": "code",
   "execution_count": 66,
   "outputs": [],
   "source": [
    "# Define model\n",
    "model = Pipeline([\n",
    "    ('ohe', make_column_transformer(\n",
    "        (OneHotEncoder(handle_unknown='ignore'),\n",
    "        ['Moon Phase']),\n",
    "        remainder='passthrough')\n",
    "    ),\n",
    "    ('reg', LinearRegression())\n",
    "])"
   ],
   "metadata": {
    "collapsed": false,
    "pycharm": {
     "name": "#%%\n"
    }
   }
  },
  {
   "cell_type": "code",
   "execution_count": 67,
   "outputs": [],
   "source": [
    "# Train (fit) the model with the train data.\n",
    "_ = model.fit(X_train, y_train)"
   ],
   "metadata": {
    "collapsed": false,
    "pycharm": {
     "name": "#%%\n"
    }
   }
  },
  {
   "cell_type": "code",
   "execution_count": 68,
   "outputs": [],
   "source": [
    "def mean_absolute_percentage_error(y_true, y_pred):\n",
    "    return np.mean(np.abs((y_true - y_pred) / y_true)) * 100"
   ],
   "metadata": {
    "collapsed": false,
    "pycharm": {
     "name": "#%%\n"
    }
   }
  },
  {
   "cell_type": "code",
   "execution_count": 69,
   "outputs": [],
   "source": [
    "# Predict with the model the validation data.\n",
    "y_val_pred = model.predict(X_val)"
   ],
   "metadata": {
    "collapsed": false,
    "pycharm": {
     "name": "#%%\n"
    }
   }
  },
  {
   "cell_type": "code",
   "execution_count": 70,
   "outputs": [
    {
     "name": "stdout",
     "output_type": "stream",
     "text": [
      "1.2753007852500084e-14\n"
     ]
    }
   ],
   "source": [
    "# How good are we on the validation data?\n",
    "print(mean_absolute_percentage_error(y_val, y_val_pred))"
   ],
   "metadata": {
    "collapsed": false,
    "pycharm": {
     "name": "#%%\n"
    }
   }
  },
  {
   "cell_type": "markdown",
   "source": [
    "# Predict Test Set"
   ],
   "metadata": {
    "collapsed": false,
    "pycharm": {
     "name": "#%% md\n"
    }
   }
  },
  {
   "cell_type": "code",
   "execution_count": 71,
   "outputs": [],
   "source": [
    "y_test_pred = model.predict(X_test)"
   ],
   "metadata": {
    "collapsed": false,
    "pycharm": {
     "name": "#%%\n"
    }
   }
  },
  {
   "cell_type": "code",
   "execution_count": 72,
   "outputs": [
    {
     "name": "stdout",
     "output_type": "stream",
     "text": [
      "1.2721341076424652e-14\n"
     ]
    }
   ],
   "source": [
    "# How good are we on the test data?\n",
    "print(mean_absolute_percentage_error(y_test, y_test_pred))"
   ],
   "metadata": {
    "collapsed": false,
    "pycharm": {
     "name": "#%%\n"
    }
   }
  }
 ],
 "metadata": {
  "kernelspec": {
   "display_name": "Python 3 (ipykernel)",
   "language": "python",
   "name": "python3"
  },
  "language_info": {
   "codemirror_mode": {
    "name": "ipython",
    "version": 3
   },
   "file_extension": ".py",
   "mimetype": "text/x-python",
   "name": "python",
   "nbconvert_exporter": "python",
   "pygments_lexer": "ipython3",
   "version": "3.9.7"
  }
 },
 "nbformat": 4,
 "nbformat_minor": 5
}