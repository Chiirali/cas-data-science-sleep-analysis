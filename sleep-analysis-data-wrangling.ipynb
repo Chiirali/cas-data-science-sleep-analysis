{
 "cells": [
  {
   "cell_type": "code",
   "execution_count": 39,
   "id": "3327f158",
   "metadata": {},
   "outputs": [],
   "source": [
    "import numpy as np\n",
    "import seaborn as sns\n",
    "import matplotlib.pyplot as plt\n",
    "import pandas as pd\n",
    "import datetime\n",
    "from datetime import timedelta\n",
    "import altair as alt"
   ]
  },
  {
   "cell_type": "markdown",
   "id": "96a15e56",
   "metadata": {},
   "source": [
    "# CAS Data Science Projekt Sleep Analysis - Data Wrangling"
   ]
  },
  {
   "cell_type": "markdown",
   "source": [
    "## Datenquellen\n",
    "\n",
    "**Mond Phasen**\n",
    "Abruf: 03.04.2022\n",
    "Quelle: `https://www.timeanddate.de/mond/phasen/` (Location: Basel). Händischer Download in ein CSV ohne Spalte Lunation und Duration\n",
    "Dateien: `raw/moon/*`\n",
    "\n",
    "**Schlafdaten**\n",
    "Abruf: XX.XX.XXXX\n",
    "Quelle: Daten Export von Fitbit Schlafdaten von privatem Account, CSV Export\n",
    "Dateien: `raw/sleep/tbd`"
   ],
   "metadata": {
    "collapsed": false,
    "pycharm": {
     "name": "#%% md\n"
    }
   }
  },
  {
   "cell_type": "markdown",
   "source": [
    "## 1. Mond-Phasen"
   ],
   "metadata": {
    "collapsed": false,
    "pycharm": {
     "name": "#%% md\n"
    }
   }
  },
  {
   "cell_type": "markdown",
   "source": [
    "### 1.1 Datenaufbereitung"
   ],
   "metadata": {
    "collapsed": false,
    "pycharm": {
     "name": "#%% md\n"
    }
   }
  },
  {
   "cell_type": "markdown",
   "source": [
    "Ich habe diese zwei kleinen Tabellen (2021, 2022) von Hand in ein Excel bzw. CSV kopiert, da der Aufwand einen Crawler zu schreiben für diese paar Zeilen dafür zu gross gewesen wäre. Nun muss ich die Daten in ein geeignetes Format bringen. Grundsätzlich möchte ich pro Datum wissen, welche Mondphase das ist."
   ],
   "metadata": {
    "collapsed": false,
    "pycharm": {
     "name": "#%% md\n"
    }
   }
  },
  {
   "cell_type": "code",
   "execution_count": 12,
   "outputs": [
    {
     "name": "stdout",
     "output_type": "stream",
     "text": [
      "     New Moon First Quarter   Full Moon Third Quarter  Unnamed: 4\n",
      "0  2021-01-13    2021-01-20  2021-01-28    2021-01-06         NaN\n",
      "1  2021-02-11    2021-02-19  2021-02-27    2021-02-04         NaN\n",
      "2  2021-03-13    2021-03-21  2021-03-28    2021-03-06         NaN\n",
      "3  2021-04-12    2021-04-20  2021-04-27    2021-04-04         NaN\n",
      "4  2021-05-11    2021-05-19  2021-05-26    2021-05-03         NaN\n",
      "     New Moon First Quarter   Full Moon Third Quarter  Unnamed: 4\n",
      "0  2022-01-02    2022-01-09  2022-01-18    2022-01-25         NaN\n",
      "1  2022-02-01    2022-02-08  2022-02-16    2022-02-23         NaN\n",
      "2  2022-03-02    2022-03-10  2022-03-18    2022-03-25         NaN\n",
      "3  2022-04-01    2022-04-09  2022-04-16    2022-04-23         NaN\n",
      "4  2022-04-30    2022-05-09  2022-05-16    2022-05-22         NaN\n",
      "     New Moon First Quarter   Full Moon Third Quarter\n",
      "0  2021-01-13    2021-01-20  2021-01-28    2021-01-06\n",
      "1  2021-02-11    2021-02-19  2021-02-27    2021-02-04\n",
      "2  2021-03-13    2021-03-21  2021-03-28    2021-03-06\n",
      "3  2021-04-12    2021-04-20  2021-04-27    2021-04-04\n",
      "4  2021-05-11    2021-05-19  2021-05-26    2021-05-03\n",
      "     New Moon First Quarter   Full Moon Third Quarter\n",
      "0  2022-01-02    2022-01-09  2022-01-18    2022-01-25\n",
      "1  2022-02-01    2022-02-08  2022-02-16    2022-02-23\n",
      "2  2022-03-02    2022-03-10  2022-03-18    2022-03-25\n",
      "3  2022-04-01    2022-04-09  2022-04-16    2022-04-23\n",
      "4  2022-04-30    2022-05-09  2022-05-16    2022-05-22\n"
     ]
    }
   ],
   "source": [
    "# read data\n",
    "moon2021_raw = pd.read_csv('raw/moon/moon-phases-2021.csv')\n",
    "moon2022_raw = pd.read_csv('raw/moon/moon-phases-2022.csv')\n",
    "\n",
    "# have a look\n",
    "print(moon2021_raw.head())\n",
    "print(moon2022_raw.head())\n",
    "\n",
    "# drop unnecessary column\n",
    "moon2021_raw.drop('Unnamed: 4', inplace=True, axis=1)\n",
    "moon2022_raw.drop('Unnamed: 4', inplace=True, axis=1)\n",
    "\n",
    "# have a look again\n",
    "print(moon2021_raw.head())\n",
    "print(moon2022_raw.head())"
   ],
   "metadata": {
    "collapsed": false,
    "pycharm": {
     "name": "#%%\n"
    }
   }
  },
  {
   "cell_type": "code",
   "execution_count": 13,
   "outputs": [],
   "source": [
    "\n",
    "def convert_all_dates(df, format):\n",
    "    \"\"\"Converts all the date strings into proper datetime objects.\"\"\"\n",
    "\n",
    "    new_moon = 'New Moon'\n",
    "    df[new_moon] = pd.to_datetime(df[new_moon], format=format)\n",
    "    first_quarter = 'First Quarter'\n",
    "    df[first_quarter] = pd.to_datetime(df[first_quarter], format=format)\n",
    "    full_moon = 'Full Moon'\n",
    "    df[full_moon] = pd.to_datetime(df[full_moon], format=format)\n",
    "    third_quarter = 'Third Quarter'\n",
    "    df[third_quarter] = pd.to_datetime(df[third_quarter], format=format)\n",
    "\n",
    "    return df"
   ],
   "metadata": {
    "collapsed": false,
    "pycharm": {
     "name": "#%%\n"
    }
   }
  },
  {
   "cell_type": "code",
   "execution_count": 14,
   "outputs": [
    {
     "name": "stdout",
     "output_type": "stream",
     "text": [
      "New Moon         datetime64[ns]\n",
      "First Quarter    datetime64[ns]\n",
      "Full Moon        datetime64[ns]\n",
      "Third Quarter    datetime64[ns]\n",
      "dtype: object\n",
      "New Moon         datetime64[ns]\n",
      "First Quarter    datetime64[ns]\n",
      "Full Moon        datetime64[ns]\n",
      "Third Quarter    datetime64[ns]\n",
      "dtype: object\n"
     ]
    }
   ],
   "source": [
    "format = '%Y-%m-%d'\n",
    "moon2021_raw = convert_all_dates(moon2021_raw, format)\n",
    "moon2022_raw = convert_all_dates(moon2022_raw, format)\n",
    "\n",
    "print(moon2021_raw.dtypes)\n",
    "print(moon2022_raw.dtypes)"
   ],
   "metadata": {
    "collapsed": false,
    "pycharm": {
     "name": "#%%\n"
    }
   }
  },
  {
   "cell_type": "code",
   "execution_count": 15,
   "outputs": [],
   "source": [
    "def flatten_moon_phases(df):\n",
    "    \"\"\"Flattens the moon phases to dates e.g. 2020-01-01 New Moon\"\"\"\n",
    "    flattened = pd.DataFrame(columns={'Date', 'Moon Phase'})\n",
    "    for index, row in df.iterrows():\n",
    "\n",
    "        first_quarter = {'Date': row['First Quarter'], 'Moon Phase': 'First Quarter'}\n",
    "        flattened = flattened.append(first_quarter, ignore_index = True)\n",
    "\n",
    "        new_moon = {'Date': row['New Moon'], 'Moon Phase': 'New Moon'}\n",
    "        flattened = flattened.append(new_moon, ignore_index = True)\n",
    "\n",
    "        third_quarter = {'Date': row['Third Quarter'], 'Moon Phase': 'Third Quarter'}\n",
    "        flattened = flattened.append(third_quarter, ignore_index = True)\n",
    "\n",
    "        full_moon = {'Date': row['Full Moon'], 'Moon Phase': 'Full Moon'}\n",
    "        flattened = flattened.append(full_moon, ignore_index = True)\n",
    "\n",
    "\n",
    "    return flattened"
   ],
   "metadata": {
    "collapsed": false,
    "pycharm": {
     "name": "#%%\n"
    }
   }
  },
  {
   "cell_type": "code",
   "execution_count": 16,
   "outputs": [
    {
     "name": "stderr",
     "output_type": "stream",
     "text": [
      "/var/folders/05/dt2l3w6x5vj4rljb35fc6sgr0000gn/T/ipykernel_55778/3004303789.py:7: FutureWarning: The frame.append method is deprecated and will be removed from pandas in a future version. Use pandas.concat instead.\n",
      "  flattened = flattened.append(first_quarter, ignore_index = True)\n",
      "/var/folders/05/dt2l3w6x5vj4rljb35fc6sgr0000gn/T/ipykernel_55778/3004303789.py:10: FutureWarning: The frame.append method is deprecated and will be removed from pandas in a future version. Use pandas.concat instead.\n",
      "  flattened = flattened.append(new_moon, ignore_index = True)\n",
      "/var/folders/05/dt2l3w6x5vj4rljb35fc6sgr0000gn/T/ipykernel_55778/3004303789.py:13: FutureWarning: The frame.append method is deprecated and will be removed from pandas in a future version. Use pandas.concat instead.\n",
      "  flattened = flattened.append(third_quarter, ignore_index = True)\n",
      "/var/folders/05/dt2l3w6x5vj4rljb35fc6sgr0000gn/T/ipykernel_55778/3004303789.py:16: FutureWarning: The frame.append method is deprecated and will be removed from pandas in a future version. Use pandas.concat instead.\n",
      "  flattened = flattened.append(full_moon, ignore_index = True)\n",
      "/var/folders/05/dt2l3w6x5vj4rljb35fc6sgr0000gn/T/ipykernel_55778/3004303789.py:7: FutureWarning: The frame.append method is deprecated and will be removed from pandas in a future version. Use pandas.concat instead.\n",
      "  flattened = flattened.append(first_quarter, ignore_index = True)\n",
      "/var/folders/05/dt2l3w6x5vj4rljb35fc6sgr0000gn/T/ipykernel_55778/3004303789.py:10: FutureWarning: The frame.append method is deprecated and will be removed from pandas in a future version. Use pandas.concat instead.\n",
      "  flattened = flattened.append(new_moon, ignore_index = True)\n",
      "/var/folders/05/dt2l3w6x5vj4rljb35fc6sgr0000gn/T/ipykernel_55778/3004303789.py:13: FutureWarning: The frame.append method is deprecated and will be removed from pandas in a future version. Use pandas.concat instead.\n",
      "  flattened = flattened.append(third_quarter, ignore_index = True)\n",
      "/var/folders/05/dt2l3w6x5vj4rljb35fc6sgr0000gn/T/ipykernel_55778/3004303789.py:16: FutureWarning: The frame.append method is deprecated and will be removed from pandas in a future version. Use pandas.concat instead.\n",
      "  flattened = flattened.append(full_moon, ignore_index = True)\n",
      "/var/folders/05/dt2l3w6x5vj4rljb35fc6sgr0000gn/T/ipykernel_55778/3004303789.py:7: FutureWarning: The frame.append method is deprecated and will be removed from pandas in a future version. Use pandas.concat instead.\n",
      "  flattened = flattened.append(first_quarter, ignore_index = True)\n",
      "/var/folders/05/dt2l3w6x5vj4rljb35fc6sgr0000gn/T/ipykernel_55778/3004303789.py:10: FutureWarning: The frame.append method is deprecated and will be removed from pandas in a future version. Use pandas.concat instead.\n",
      "  flattened = flattened.append(new_moon, ignore_index = True)\n",
      "/var/folders/05/dt2l3w6x5vj4rljb35fc6sgr0000gn/T/ipykernel_55778/3004303789.py:13: FutureWarning: The frame.append method is deprecated and will be removed from pandas in a future version. Use pandas.concat instead.\n",
      "  flattened = flattened.append(third_quarter, ignore_index = True)\n",
      "/var/folders/05/dt2l3w6x5vj4rljb35fc6sgr0000gn/T/ipykernel_55778/3004303789.py:16: FutureWarning: The frame.append method is deprecated and will be removed from pandas in a future version. Use pandas.concat instead.\n",
      "  flattened = flattened.append(full_moon, ignore_index = True)\n",
      "/var/folders/05/dt2l3w6x5vj4rljb35fc6sgr0000gn/T/ipykernel_55778/3004303789.py:7: FutureWarning: The frame.append method is deprecated and will be removed from pandas in a future version. Use pandas.concat instead.\n",
      "  flattened = flattened.append(first_quarter, ignore_index = True)\n",
      "/var/folders/05/dt2l3w6x5vj4rljb35fc6sgr0000gn/T/ipykernel_55778/3004303789.py:10: FutureWarning: The frame.append method is deprecated and will be removed from pandas in a future version. Use pandas.concat instead.\n",
      "  flattened = flattened.append(new_moon, ignore_index = True)\n",
      "/var/folders/05/dt2l3w6x5vj4rljb35fc6sgr0000gn/T/ipykernel_55778/3004303789.py:13: FutureWarning: The frame.append method is deprecated and will be removed from pandas in a future version. Use pandas.concat instead.\n",
      "  flattened = flattened.append(third_quarter, ignore_index = True)\n",
      "/var/folders/05/dt2l3w6x5vj4rljb35fc6sgr0000gn/T/ipykernel_55778/3004303789.py:16: FutureWarning: The frame.append method is deprecated and will be removed from pandas in a future version. Use pandas.concat instead.\n",
      "  flattened = flattened.append(full_moon, ignore_index = True)\n",
      "/var/folders/05/dt2l3w6x5vj4rljb35fc6sgr0000gn/T/ipykernel_55778/3004303789.py:7: FutureWarning: The frame.append method is deprecated and will be removed from pandas in a future version. Use pandas.concat instead.\n",
      "  flattened = flattened.append(first_quarter, ignore_index = True)\n",
      "/var/folders/05/dt2l3w6x5vj4rljb35fc6sgr0000gn/T/ipykernel_55778/3004303789.py:10: FutureWarning: The frame.append method is deprecated and will be removed from pandas in a future version. Use pandas.concat instead.\n",
      "  flattened = flattened.append(new_moon, ignore_index = True)\n",
      "/var/folders/05/dt2l3w6x5vj4rljb35fc6sgr0000gn/T/ipykernel_55778/3004303789.py:13: FutureWarning: The frame.append method is deprecated and will be removed from pandas in a future version. Use pandas.concat instead.\n",
      "  flattened = flattened.append(third_quarter, ignore_index = True)\n",
      "/var/folders/05/dt2l3w6x5vj4rljb35fc6sgr0000gn/T/ipykernel_55778/3004303789.py:16: FutureWarning: The frame.append method is deprecated and will be removed from pandas in a future version. Use pandas.concat instead.\n",
      "  flattened = flattened.append(full_moon, ignore_index = True)\n",
      "/var/folders/05/dt2l3w6x5vj4rljb35fc6sgr0000gn/T/ipykernel_55778/3004303789.py:7: FutureWarning: The frame.append method is deprecated and will be removed from pandas in a future version. Use pandas.concat instead.\n",
      "  flattened = flattened.append(first_quarter, ignore_index = True)\n",
      "/var/folders/05/dt2l3w6x5vj4rljb35fc6sgr0000gn/T/ipykernel_55778/3004303789.py:10: FutureWarning: The frame.append method is deprecated and will be removed from pandas in a future version. Use pandas.concat instead.\n",
      "  flattened = flattened.append(new_moon, ignore_index = True)\n",
      "/var/folders/05/dt2l3w6x5vj4rljb35fc6sgr0000gn/T/ipykernel_55778/3004303789.py:13: FutureWarning: The frame.append method is deprecated and will be removed from pandas in a future version. Use pandas.concat instead.\n",
      "  flattened = flattened.append(third_quarter, ignore_index = True)\n",
      "/var/folders/05/dt2l3w6x5vj4rljb35fc6sgr0000gn/T/ipykernel_55778/3004303789.py:16: FutureWarning: The frame.append method is deprecated and will be removed from pandas in a future version. Use pandas.concat instead.\n",
      "  flattened = flattened.append(full_moon, ignore_index = True)\n",
      "/var/folders/05/dt2l3w6x5vj4rljb35fc6sgr0000gn/T/ipykernel_55778/3004303789.py:7: FutureWarning: The frame.append method is deprecated and will be removed from pandas in a future version. Use pandas.concat instead.\n",
      "  flattened = flattened.append(first_quarter, ignore_index = True)\n",
      "/var/folders/05/dt2l3w6x5vj4rljb35fc6sgr0000gn/T/ipykernel_55778/3004303789.py:10: FutureWarning: The frame.append method is deprecated and will be removed from pandas in a future version. Use pandas.concat instead.\n",
      "  flattened = flattened.append(new_moon, ignore_index = True)\n",
      "/var/folders/05/dt2l3w6x5vj4rljb35fc6sgr0000gn/T/ipykernel_55778/3004303789.py:13: FutureWarning: The frame.append method is deprecated and will be removed from pandas in a future version. Use pandas.concat instead.\n",
      "  flattened = flattened.append(third_quarter, ignore_index = True)\n",
      "/var/folders/05/dt2l3w6x5vj4rljb35fc6sgr0000gn/T/ipykernel_55778/3004303789.py:16: FutureWarning: The frame.append method is deprecated and will be removed from pandas in a future version. Use pandas.concat instead.\n",
      "  flattened = flattened.append(full_moon, ignore_index = True)\n",
      "/var/folders/05/dt2l3w6x5vj4rljb35fc6sgr0000gn/T/ipykernel_55778/3004303789.py:7: FutureWarning: The frame.append method is deprecated and will be removed from pandas in a future version. Use pandas.concat instead.\n",
      "  flattened = flattened.append(first_quarter, ignore_index = True)\n",
      "/var/folders/05/dt2l3w6x5vj4rljb35fc6sgr0000gn/T/ipykernel_55778/3004303789.py:10: FutureWarning: The frame.append method is deprecated and will be removed from pandas in a future version. Use pandas.concat instead.\n",
      "  flattened = flattened.append(new_moon, ignore_index = True)\n",
      "/var/folders/05/dt2l3w6x5vj4rljb35fc6sgr0000gn/T/ipykernel_55778/3004303789.py:13: FutureWarning: The frame.append method is deprecated and will be removed from pandas in a future version. Use pandas.concat instead.\n",
      "  flattened = flattened.append(third_quarter, ignore_index = True)\n",
      "/var/folders/05/dt2l3w6x5vj4rljb35fc6sgr0000gn/T/ipykernel_55778/3004303789.py:16: FutureWarning: The frame.append method is deprecated and will be removed from pandas in a future version. Use pandas.concat instead.\n",
      "  flattened = flattened.append(full_moon, ignore_index = True)\n",
      "/var/folders/05/dt2l3w6x5vj4rljb35fc6sgr0000gn/T/ipykernel_55778/3004303789.py:7: FutureWarning: The frame.append method is deprecated and will be removed from pandas in a future version. Use pandas.concat instead.\n",
      "  flattened = flattened.append(first_quarter, ignore_index = True)\n",
      "/var/folders/05/dt2l3w6x5vj4rljb35fc6sgr0000gn/T/ipykernel_55778/3004303789.py:10: FutureWarning: The frame.append method is deprecated and will be removed from pandas in a future version. Use pandas.concat instead.\n",
      "  flattened = flattened.append(new_moon, ignore_index = True)\n",
      "/var/folders/05/dt2l3w6x5vj4rljb35fc6sgr0000gn/T/ipykernel_55778/3004303789.py:13: FutureWarning: The frame.append method is deprecated and will be removed from pandas in a future version. Use pandas.concat instead.\n",
      "  flattened = flattened.append(third_quarter, ignore_index = True)\n",
      "/var/folders/05/dt2l3w6x5vj4rljb35fc6sgr0000gn/T/ipykernel_55778/3004303789.py:16: FutureWarning: The frame.append method is deprecated and will be removed from pandas in a future version. Use pandas.concat instead.\n",
      "  flattened = flattened.append(full_moon, ignore_index = True)\n",
      "/var/folders/05/dt2l3w6x5vj4rljb35fc6sgr0000gn/T/ipykernel_55778/3004303789.py:7: FutureWarning: The frame.append method is deprecated and will be removed from pandas in a future version. Use pandas.concat instead.\n",
      "  flattened = flattened.append(first_quarter, ignore_index = True)\n",
      "/var/folders/05/dt2l3w6x5vj4rljb35fc6sgr0000gn/T/ipykernel_55778/3004303789.py:10: FutureWarning: The frame.append method is deprecated and will be removed from pandas in a future version. Use pandas.concat instead.\n",
      "  flattened = flattened.append(new_moon, ignore_index = True)\n",
      "/var/folders/05/dt2l3w6x5vj4rljb35fc6sgr0000gn/T/ipykernel_55778/3004303789.py:13: FutureWarning: The frame.append method is deprecated and will be removed from pandas in a future version. Use pandas.concat instead.\n",
      "  flattened = flattened.append(third_quarter, ignore_index = True)\n",
      "/var/folders/05/dt2l3w6x5vj4rljb35fc6sgr0000gn/T/ipykernel_55778/3004303789.py:16: FutureWarning: The frame.append method is deprecated and will be removed from pandas in a future version. Use pandas.concat instead.\n",
      "  flattened = flattened.append(full_moon, ignore_index = True)\n",
      "/var/folders/05/dt2l3w6x5vj4rljb35fc6sgr0000gn/T/ipykernel_55778/3004303789.py:7: FutureWarning: The frame.append method is deprecated and will be removed from pandas in a future version. Use pandas.concat instead.\n",
      "  flattened = flattened.append(first_quarter, ignore_index = True)\n",
      "/var/folders/05/dt2l3w6x5vj4rljb35fc6sgr0000gn/T/ipykernel_55778/3004303789.py:10: FutureWarning: The frame.append method is deprecated and will be removed from pandas in a future version. Use pandas.concat instead.\n",
      "  flattened = flattened.append(new_moon, ignore_index = True)\n",
      "/var/folders/05/dt2l3w6x5vj4rljb35fc6sgr0000gn/T/ipykernel_55778/3004303789.py:13: FutureWarning: The frame.append method is deprecated and will be removed from pandas in a future version. Use pandas.concat instead.\n",
      "  flattened = flattened.append(third_quarter, ignore_index = True)\n",
      "/var/folders/05/dt2l3w6x5vj4rljb35fc6sgr0000gn/T/ipykernel_55778/3004303789.py:16: FutureWarning: The frame.append method is deprecated and will be removed from pandas in a future version. Use pandas.concat instead.\n",
      "  flattened = flattened.append(full_moon, ignore_index = True)\n",
      "/var/folders/05/dt2l3w6x5vj4rljb35fc6sgr0000gn/T/ipykernel_55778/3004303789.py:7: FutureWarning: The frame.append method is deprecated and will be removed from pandas in a future version. Use pandas.concat instead.\n",
      "  flattened = flattened.append(first_quarter, ignore_index = True)\n",
      "/var/folders/05/dt2l3w6x5vj4rljb35fc6sgr0000gn/T/ipykernel_55778/3004303789.py:10: FutureWarning: The frame.append method is deprecated and will be removed from pandas in a future version. Use pandas.concat instead.\n",
      "  flattened = flattened.append(new_moon, ignore_index = True)\n",
      "/var/folders/05/dt2l3w6x5vj4rljb35fc6sgr0000gn/T/ipykernel_55778/3004303789.py:13: FutureWarning: The frame.append method is deprecated and will be removed from pandas in a future version. Use pandas.concat instead.\n",
      "  flattened = flattened.append(third_quarter, ignore_index = True)\n",
      "/var/folders/05/dt2l3w6x5vj4rljb35fc6sgr0000gn/T/ipykernel_55778/3004303789.py:16: FutureWarning: The frame.append method is deprecated and will be removed from pandas in a future version. Use pandas.concat instead.\n",
      "  flattened = flattened.append(full_moon, ignore_index = True)\n",
      "/var/folders/05/dt2l3w6x5vj4rljb35fc6sgr0000gn/T/ipykernel_55778/3004303789.py:7: FutureWarning: The frame.append method is deprecated and will be removed from pandas in a future version. Use pandas.concat instead.\n",
      "  flattened = flattened.append(first_quarter, ignore_index = True)\n",
      "/var/folders/05/dt2l3w6x5vj4rljb35fc6sgr0000gn/T/ipykernel_55778/3004303789.py:10: FutureWarning: The frame.append method is deprecated and will be removed from pandas in a future version. Use pandas.concat instead.\n",
      "  flattened = flattened.append(new_moon, ignore_index = True)\n",
      "/var/folders/05/dt2l3w6x5vj4rljb35fc6sgr0000gn/T/ipykernel_55778/3004303789.py:13: FutureWarning: The frame.append method is deprecated and will be removed from pandas in a future version. Use pandas.concat instead.\n",
      "  flattened = flattened.append(third_quarter, ignore_index = True)\n",
      "/var/folders/05/dt2l3w6x5vj4rljb35fc6sgr0000gn/T/ipykernel_55778/3004303789.py:16: FutureWarning: The frame.append method is deprecated and will be removed from pandas in a future version. Use pandas.concat instead.\n",
      "  flattened = flattened.append(full_moon, ignore_index = True)\n",
      "/var/folders/05/dt2l3w6x5vj4rljb35fc6sgr0000gn/T/ipykernel_55778/3004303789.py:7: FutureWarning: The frame.append method is deprecated and will be removed from pandas in a future version. Use pandas.concat instead.\n",
      "  flattened = flattened.append(first_quarter, ignore_index = True)\n",
      "/var/folders/05/dt2l3w6x5vj4rljb35fc6sgr0000gn/T/ipykernel_55778/3004303789.py:10: FutureWarning: The frame.append method is deprecated and will be removed from pandas in a future version. Use pandas.concat instead.\n",
      "  flattened = flattened.append(new_moon, ignore_index = True)\n",
      "/var/folders/05/dt2l3w6x5vj4rljb35fc6sgr0000gn/T/ipykernel_55778/3004303789.py:13: FutureWarning: The frame.append method is deprecated and will be removed from pandas in a future version. Use pandas.concat instead.\n",
      "  flattened = flattened.append(third_quarter, ignore_index = True)\n",
      "/var/folders/05/dt2l3w6x5vj4rljb35fc6sgr0000gn/T/ipykernel_55778/3004303789.py:16: FutureWarning: The frame.append method is deprecated and will be removed from pandas in a future version. Use pandas.concat instead.\n",
      "  flattened = flattened.append(full_moon, ignore_index = True)\n",
      "/var/folders/05/dt2l3w6x5vj4rljb35fc6sgr0000gn/T/ipykernel_55778/3004303789.py:7: FutureWarning: The frame.append method is deprecated and will be removed from pandas in a future version. Use pandas.concat instead.\n",
      "  flattened = flattened.append(first_quarter, ignore_index = True)\n",
      "/var/folders/05/dt2l3w6x5vj4rljb35fc6sgr0000gn/T/ipykernel_55778/3004303789.py:10: FutureWarning: The frame.append method is deprecated and will be removed from pandas in a future version. Use pandas.concat instead.\n",
      "  flattened = flattened.append(new_moon, ignore_index = True)\n",
      "/var/folders/05/dt2l3w6x5vj4rljb35fc6sgr0000gn/T/ipykernel_55778/3004303789.py:13: FutureWarning: The frame.append method is deprecated and will be removed from pandas in a future version. Use pandas.concat instead.\n",
      "  flattened = flattened.append(third_quarter, ignore_index = True)\n",
      "/var/folders/05/dt2l3w6x5vj4rljb35fc6sgr0000gn/T/ipykernel_55778/3004303789.py:16: FutureWarning: The frame.append method is deprecated and will be removed from pandas in a future version. Use pandas.concat instead.\n",
      "  flattened = flattened.append(full_moon, ignore_index = True)\n",
      "/var/folders/05/dt2l3w6x5vj4rljb35fc6sgr0000gn/T/ipykernel_55778/3004303789.py:7: FutureWarning: The frame.append method is deprecated and will be removed from pandas in a future version. Use pandas.concat instead.\n",
      "  flattened = flattened.append(first_quarter, ignore_index = True)\n",
      "/var/folders/05/dt2l3w6x5vj4rljb35fc6sgr0000gn/T/ipykernel_55778/3004303789.py:10: FutureWarning: The frame.append method is deprecated and will be removed from pandas in a future version. Use pandas.concat instead.\n",
      "  flattened = flattened.append(new_moon, ignore_index = True)\n",
      "/var/folders/05/dt2l3w6x5vj4rljb35fc6sgr0000gn/T/ipykernel_55778/3004303789.py:13: FutureWarning: The frame.append method is deprecated and will be removed from pandas in a future version. Use pandas.concat instead.\n",
      "  flattened = flattened.append(third_quarter, ignore_index = True)\n",
      "/var/folders/05/dt2l3w6x5vj4rljb35fc6sgr0000gn/T/ipykernel_55778/3004303789.py:16: FutureWarning: The frame.append method is deprecated and will be removed from pandas in a future version. Use pandas.concat instead.\n",
      "  flattened = flattened.append(full_moon, ignore_index = True)\n",
      "/var/folders/05/dt2l3w6x5vj4rljb35fc6sgr0000gn/T/ipykernel_55778/3004303789.py:7: FutureWarning: The frame.append method is deprecated and will be removed from pandas in a future version. Use pandas.concat instead.\n",
      "  flattened = flattened.append(first_quarter, ignore_index = True)\n",
      "/var/folders/05/dt2l3w6x5vj4rljb35fc6sgr0000gn/T/ipykernel_55778/3004303789.py:10: FutureWarning: The frame.append method is deprecated and will be removed from pandas in a future version. Use pandas.concat instead.\n",
      "  flattened = flattened.append(new_moon, ignore_index = True)\n",
      "/var/folders/05/dt2l3w6x5vj4rljb35fc6sgr0000gn/T/ipykernel_55778/3004303789.py:13: FutureWarning: The frame.append method is deprecated and will be removed from pandas in a future version. Use pandas.concat instead.\n",
      "  flattened = flattened.append(third_quarter, ignore_index = True)\n",
      "/var/folders/05/dt2l3w6x5vj4rljb35fc6sgr0000gn/T/ipykernel_55778/3004303789.py:16: FutureWarning: The frame.append method is deprecated and will be removed from pandas in a future version. Use pandas.concat instead.\n",
      "  flattened = flattened.append(full_moon, ignore_index = True)\n",
      "/var/folders/05/dt2l3w6x5vj4rljb35fc6sgr0000gn/T/ipykernel_55778/3004303789.py:7: FutureWarning: The frame.append method is deprecated and will be removed from pandas in a future version. Use pandas.concat instead.\n",
      "  flattened = flattened.append(first_quarter, ignore_index = True)\n",
      "/var/folders/05/dt2l3w6x5vj4rljb35fc6sgr0000gn/T/ipykernel_55778/3004303789.py:10: FutureWarning: The frame.append method is deprecated and will be removed from pandas in a future version. Use pandas.concat instead.\n",
      "  flattened = flattened.append(new_moon, ignore_index = True)\n",
      "/var/folders/05/dt2l3w6x5vj4rljb35fc6sgr0000gn/T/ipykernel_55778/3004303789.py:13: FutureWarning: The frame.append method is deprecated and will be removed from pandas in a future version. Use pandas.concat instead.\n",
      "  flattened = flattened.append(third_quarter, ignore_index = True)\n",
      "/var/folders/05/dt2l3w6x5vj4rljb35fc6sgr0000gn/T/ipykernel_55778/3004303789.py:16: FutureWarning: The frame.append method is deprecated and will be removed from pandas in a future version. Use pandas.concat instead.\n",
      "  flattened = flattened.append(full_moon, ignore_index = True)\n",
      "/var/folders/05/dt2l3w6x5vj4rljb35fc6sgr0000gn/T/ipykernel_55778/3004303789.py:7: FutureWarning: The frame.append method is deprecated and will be removed from pandas in a future version. Use pandas.concat instead.\n",
      "  flattened = flattened.append(first_quarter, ignore_index = True)\n",
      "/var/folders/05/dt2l3w6x5vj4rljb35fc6sgr0000gn/T/ipykernel_55778/3004303789.py:10: FutureWarning: The frame.append method is deprecated and will be removed from pandas in a future version. Use pandas.concat instead.\n",
      "  flattened = flattened.append(new_moon, ignore_index = True)\n",
      "/var/folders/05/dt2l3w6x5vj4rljb35fc6sgr0000gn/T/ipykernel_55778/3004303789.py:13: FutureWarning: The frame.append method is deprecated and will be removed from pandas in a future version. Use pandas.concat instead.\n",
      "  flattened = flattened.append(third_quarter, ignore_index = True)\n",
      "/var/folders/05/dt2l3w6x5vj4rljb35fc6sgr0000gn/T/ipykernel_55778/3004303789.py:16: FutureWarning: The frame.append method is deprecated and will be removed from pandas in a future version. Use pandas.concat instead.\n",
      "  flattened = flattened.append(full_moon, ignore_index = True)\n",
      "/var/folders/05/dt2l3w6x5vj4rljb35fc6sgr0000gn/T/ipykernel_55778/3004303789.py:7: FutureWarning: The frame.append method is deprecated and will be removed from pandas in a future version. Use pandas.concat instead.\n",
      "  flattened = flattened.append(first_quarter, ignore_index = True)\n",
      "/var/folders/05/dt2l3w6x5vj4rljb35fc6sgr0000gn/T/ipykernel_55778/3004303789.py:10: FutureWarning: The frame.append method is deprecated and will be removed from pandas in a future version. Use pandas.concat instead.\n",
      "  flattened = flattened.append(new_moon, ignore_index = True)\n",
      "/var/folders/05/dt2l3w6x5vj4rljb35fc6sgr0000gn/T/ipykernel_55778/3004303789.py:13: FutureWarning: The frame.append method is deprecated and will be removed from pandas in a future version. Use pandas.concat instead.\n",
      "  flattened = flattened.append(third_quarter, ignore_index = True)\n",
      "/var/folders/05/dt2l3w6x5vj4rljb35fc6sgr0000gn/T/ipykernel_55778/3004303789.py:16: FutureWarning: The frame.append method is deprecated and will be removed from pandas in a future version. Use pandas.concat instead.\n",
      "  flattened = flattened.append(full_moon, ignore_index = True)\n",
      "/var/folders/05/dt2l3w6x5vj4rljb35fc6sgr0000gn/T/ipykernel_55778/3004303789.py:7: FutureWarning: The frame.append method is deprecated and will be removed from pandas in a future version. Use pandas.concat instead.\n",
      "  flattened = flattened.append(first_quarter, ignore_index = True)\n",
      "/var/folders/05/dt2l3w6x5vj4rljb35fc6sgr0000gn/T/ipykernel_55778/3004303789.py:10: FutureWarning: The frame.append method is deprecated and will be removed from pandas in a future version. Use pandas.concat instead.\n",
      "  flattened = flattened.append(new_moon, ignore_index = True)\n",
      "/var/folders/05/dt2l3w6x5vj4rljb35fc6sgr0000gn/T/ipykernel_55778/3004303789.py:13: FutureWarning: The frame.append method is deprecated and will be removed from pandas in a future version. Use pandas.concat instead.\n",
      "  flattened = flattened.append(third_quarter, ignore_index = True)\n",
      "/var/folders/05/dt2l3w6x5vj4rljb35fc6sgr0000gn/T/ipykernel_55778/3004303789.py:16: FutureWarning: The frame.append method is deprecated and will be removed from pandas in a future version. Use pandas.concat instead.\n",
      "  flattened = flattened.append(full_moon, ignore_index = True)\n",
      "/var/folders/05/dt2l3w6x5vj4rljb35fc6sgr0000gn/T/ipykernel_55778/3004303789.py:7: FutureWarning: The frame.append method is deprecated and will be removed from pandas in a future version. Use pandas.concat instead.\n",
      "  flattened = flattened.append(first_quarter, ignore_index = True)\n",
      "/var/folders/05/dt2l3w6x5vj4rljb35fc6sgr0000gn/T/ipykernel_55778/3004303789.py:10: FutureWarning: The frame.append method is deprecated and will be removed from pandas in a future version. Use pandas.concat instead.\n",
      "  flattened = flattened.append(new_moon, ignore_index = True)\n",
      "/var/folders/05/dt2l3w6x5vj4rljb35fc6sgr0000gn/T/ipykernel_55778/3004303789.py:13: FutureWarning: The frame.append method is deprecated and will be removed from pandas in a future version. Use pandas.concat instead.\n",
      "  flattened = flattened.append(third_quarter, ignore_index = True)\n",
      "/var/folders/05/dt2l3w6x5vj4rljb35fc6sgr0000gn/T/ipykernel_55778/3004303789.py:16: FutureWarning: The frame.append method is deprecated and will be removed from pandas in a future version. Use pandas.concat instead.\n",
      "  flattened = flattened.append(full_moon, ignore_index = True)\n",
      "/var/folders/05/dt2l3w6x5vj4rljb35fc6sgr0000gn/T/ipykernel_55778/3004303789.py:7: FutureWarning: The frame.append method is deprecated and will be removed from pandas in a future version. Use pandas.concat instead.\n",
      "  flattened = flattened.append(first_quarter, ignore_index = True)\n",
      "/var/folders/05/dt2l3w6x5vj4rljb35fc6sgr0000gn/T/ipykernel_55778/3004303789.py:10: FutureWarning: The frame.append method is deprecated and will be removed from pandas in a future version. Use pandas.concat instead.\n",
      "  flattened = flattened.append(new_moon, ignore_index = True)\n",
      "/var/folders/05/dt2l3w6x5vj4rljb35fc6sgr0000gn/T/ipykernel_55778/3004303789.py:13: FutureWarning: The frame.append method is deprecated and will be removed from pandas in a future version. Use pandas.concat instead.\n",
      "  flattened = flattened.append(third_quarter, ignore_index = True)\n",
      "/var/folders/05/dt2l3w6x5vj4rljb35fc6sgr0000gn/T/ipykernel_55778/3004303789.py:16: FutureWarning: The frame.append method is deprecated and will be removed from pandas in a future version. Use pandas.concat instead.\n",
      "  flattened = flattened.append(full_moon, ignore_index = True)\n",
      "/var/folders/05/dt2l3w6x5vj4rljb35fc6sgr0000gn/T/ipykernel_55778/3004303789.py:7: FutureWarning: The frame.append method is deprecated and will be removed from pandas in a future version. Use pandas.concat instead.\n",
      "  flattened = flattened.append(first_quarter, ignore_index = True)\n",
      "/var/folders/05/dt2l3w6x5vj4rljb35fc6sgr0000gn/T/ipykernel_55778/3004303789.py:10: FutureWarning: The frame.append method is deprecated and will be removed from pandas in a future version. Use pandas.concat instead.\n",
      "  flattened = flattened.append(new_moon, ignore_index = True)\n",
      "/var/folders/05/dt2l3w6x5vj4rljb35fc6sgr0000gn/T/ipykernel_55778/3004303789.py:13: FutureWarning: The frame.append method is deprecated and will be removed from pandas in a future version. Use pandas.concat instead.\n",
      "  flattened = flattened.append(third_quarter, ignore_index = True)\n",
      "/var/folders/05/dt2l3w6x5vj4rljb35fc6sgr0000gn/T/ipykernel_55778/3004303789.py:16: FutureWarning: The frame.append method is deprecated and will be removed from pandas in a future version. Use pandas.concat instead.\n",
      "  flattened = flattened.append(full_moon, ignore_index = True)\n",
      "/var/folders/05/dt2l3w6x5vj4rljb35fc6sgr0000gn/T/ipykernel_55778/3004303789.py:7: FutureWarning: The frame.append method is deprecated and will be removed from pandas in a future version. Use pandas.concat instead.\n",
      "  flattened = flattened.append(first_quarter, ignore_index = True)\n",
      "/var/folders/05/dt2l3w6x5vj4rljb35fc6sgr0000gn/T/ipykernel_55778/3004303789.py:10: FutureWarning: The frame.append method is deprecated and will be removed from pandas in a future version. Use pandas.concat instead.\n",
      "  flattened = flattened.append(new_moon, ignore_index = True)\n",
      "/var/folders/05/dt2l3w6x5vj4rljb35fc6sgr0000gn/T/ipykernel_55778/3004303789.py:13: FutureWarning: The frame.append method is deprecated and will be removed from pandas in a future version. Use pandas.concat instead.\n",
      "  flattened = flattened.append(third_quarter, ignore_index = True)\n",
      "/var/folders/05/dt2l3w6x5vj4rljb35fc6sgr0000gn/T/ipykernel_55778/3004303789.py:16: FutureWarning: The frame.append method is deprecated and will be removed from pandas in a future version. Use pandas.concat instead.\n",
      "  flattened = flattened.append(full_moon, ignore_index = True)\n",
      "/var/folders/05/dt2l3w6x5vj4rljb35fc6sgr0000gn/T/ipykernel_55778/3004303789.py:7: FutureWarning: The frame.append method is deprecated and will be removed from pandas in a future version. Use pandas.concat instead.\n",
      "  flattened = flattened.append(first_quarter, ignore_index = True)\n",
      "/var/folders/05/dt2l3w6x5vj4rljb35fc6sgr0000gn/T/ipykernel_55778/3004303789.py:10: FutureWarning: The frame.append method is deprecated and will be removed from pandas in a future version. Use pandas.concat instead.\n",
      "  flattened = flattened.append(new_moon, ignore_index = True)\n",
      "/var/folders/05/dt2l3w6x5vj4rljb35fc6sgr0000gn/T/ipykernel_55778/3004303789.py:13: FutureWarning: The frame.append method is deprecated and will be removed from pandas in a future version. Use pandas.concat instead.\n",
      "  flattened = flattened.append(third_quarter, ignore_index = True)\n",
      "/var/folders/05/dt2l3w6x5vj4rljb35fc6sgr0000gn/T/ipykernel_55778/3004303789.py:16: FutureWarning: The frame.append method is deprecated and will be removed from pandas in a future version. Use pandas.concat instead.\n",
      "  flattened = flattened.append(full_moon, ignore_index = True)\n"
     ]
    }
   ],
   "source": [
    "moon_2021 = flatten_moon_phases(moon2021_raw)\n",
    "moon_2022 = flatten_moon_phases(moon2022_raw)"
   ],
   "metadata": {
    "collapsed": false,
    "pycharm": {
     "name": "#%%\n"
    }
   }
  },
  {
   "cell_type": "code",
   "execution_count": 19,
   "outputs": [],
   "source": [
    "# drop ones containing no date\n",
    "moon_2021.dropna(axis=0, inplace=True)\n",
    "moon_2022.dropna(axis=0, inplace=True)"
   ],
   "metadata": {
    "collapsed": false,
    "pycharm": {
     "name": "#%%\n"
    }
   }
  },
  {
   "cell_type": "markdown",
   "source": [
    "### 1.2 Fertige Datensätze"
   ],
   "metadata": {
    "collapsed": false,
    "pycharm": {
     "name": "#%% md\n"
    }
   }
  },
  {
   "cell_type": "code",
   "execution_count": 20,
   "outputs": [
    {
     "name": "stdout",
     "output_type": "stream",
     "text": [
      "File Mond Phasen 2021 Dimensionen: (49, 2)\n"
     ]
    }
   ],
   "source": [
    "print(\"File Mond Phasen 2021 Dimensionen: \"+ str(moon_2021.shape))\n",
    "moon_2021.tail(10)"
   ],
   "metadata": {
    "collapsed": false,
    "pycharm": {
     "name": "#%%\n"
    }
   }
  },
  {
   "cell_type": "code",
   "execution_count": 21,
   "outputs": [
    {
     "name": "stdout",
     "output_type": "stream",
     "text": [
      "File Mond Phasen 2022 Dimensionen: (50, 2)\n"
     ]
    }
   ],
   "source": [
    "print(\"File Mond Phasen 2022 Dimensionen: \"+ str(moon_2022.shape))\n",
    "moon_2022.tail(10)"
   ],
   "metadata": {
    "collapsed": false,
    "pycharm": {
     "name": "#%%\n"
    }
   }
  },
  {
   "cell_type": "code",
   "execution_count": 22,
   "outputs": [],
   "source": [
    "# combined\n",
    "combined_moon = moon_2021.merge(moon_2022, how='outer',on=['Date','Moon Phase'])\n",
    "combined_moon.to_csv('prepared/combined_moon.csv')"
   ],
   "metadata": {
    "collapsed": false,
    "pycharm": {
     "name": "#%%\n"
    }
   }
  },
  {
   "cell_type": "markdown",
   "source": [
    "### 1.3 Erste Visualisierungen"
   ],
   "metadata": {
    "collapsed": false,
    "pycharm": {
     "name": "#%% md\n"
    }
   }
  },
  {
   "cell_type": "code",
   "execution_count": 23,
   "outputs": [
    {
     "data": {
      "text/plain": "<AxesSubplot:xlabel='Moon Phase', ylabel='count'>"
     },
     "execution_count": 23,
     "metadata": {},
     "output_type": "execute_result"
    },
    {
     "data": {
      "text/plain": "<Figure size 432x288 with 1 Axes>",
      "image/png": "[encoded data removed]"
     },
     "metadata": {
      "needs_background": "light"
     },
     "output_type": "display_data"
    }
   ],
   "source": [
    "sns.countplot(data=moon_2021, x='Moon Phase')"
   ],
   "metadata": {
    "collapsed": false,
    "pycharm": {
     "name": "#%%\n"
    }
   }
  },
  {
   "cell_type": "code",
   "execution_count": 24,
   "outputs": [
    {
     "data": {
      "text/plain": "<AxesSubplot:xlabel='Moon Phase', ylabel='count'>"
     },
     "execution_count": 24,
     "metadata": {},
     "output_type": "execute_result"
    },
    {
     "data": {
      "text/plain": "<Figure size 432x288 with 1 Axes>",
      "image/png": "[encoded data removed]"
     },
     "metadata": {
      "needs_background": "light"
     },
     "output_type": "display_data"
    }
   ],
   "source": [
    "sns.countplot(data=moon_2022, x='Moon Phase')"
   ],
   "metadata": {
    "collapsed": false,
    "pycharm": {
     "name": "#%%\n"
    }
   }
  },
  {
   "cell_type": "code",
   "execution_count": 25,
   "outputs": [
    {
     "data": {
      "text/html": "\n<div id=\"altair-viz-c261168816c246b4ac2e9cb0b9d6827f\"></div>\n<script type=\"text/javascript\">\n  var VEGA_DEBUG = (typeof VEGA_DEBUG == \"undefined\") ? {} : VEGA_DEBUG;\n  (function(spec, embedOpt){\n    let outputDiv = document.currentScript.previousElementSibling;\n    if (outputDiv.id !== \"altair-viz-c261168816c246b4ac2e9cb0b9d6827f\") {\n      outputDiv = document.getElementById(\"altair-viz-c261168816c246b4ac2e9cb0b9d6827f\");\n    }\n    const paths = {\n      \"vega\": \"https://cdn.jsdelivr.net/npm//vega@5?noext\",\n      \"vega-lib\": \"https://cdn.jsdelivr.net/npm//vega-lib?noext\",\n      \"vega-lite\": \"https://cdn.jsdelivr.net/npm//vega-lite@4.17.0?noext\",\n      \"vega-embed\": \"https://cdn.jsdelivr.net/npm//vega-embed@6?noext\",\n    };\n\n    function maybeLoadScript(lib, version) {\n      var key = `${lib.replace(\"-\", \"\")}_version`;\n      return (VEGA_DEBUG[key] == version) ?\n        Promise.resolve(paths[lib]) :\n        new Promise(function(resolve, reject) {\n          var s = document.createElement('script');\n          document.getElementsByTagName(\"head\")[0].appendChild(s);\n          s.async = true;\n          s.onload = () => {\n            VEGA_DEBUG[key] = version;\n            return resolve(paths[lib]);\n          };\n          s.onerror = () => reject(`Error loading script: ${paths[lib]}`);\n          s.src = paths[lib];\n        });\n    }\n\n    function showError(err) {\n      outputDiv.innerHTML = `<div class=\"error\" style=\"color:red;\">${err}</div>`;\n      throw err;\n    }\n\n    function displayChart(vegaEmbed) {\n      vegaEmbed(outputDiv, spec, embedOpt)\n        .catch(err => showError(`Javascript Error: ${err.message}<br>This usually means there's a typo in your chart specification. See the javascript console for the full traceback.`));\n    }\n\n    if(typeof define === \"function\" && define.amd) {\n      requirejs.config({paths});\n      require([\"vega-embed\"], displayChart, err => showError(`Error loading script: ${err.message}`));\n    } else {\n      maybeLoadScript(\"vega\", \"5\")\n        .then(() => maybeLoadScript(\"vega-lite\", \"4.17.0\"))\n        .then(() => maybeLoadScript(\"vega-embed\", \"6\"))\n        .catch(showError)\n        .then(() => displayChart(vegaEmbed));\n    }\n  })({\"config\": {\"view\": {\"continuousWidth\": 400, \"continuousHeight\": 300}}, \"data\": {\"name\": \"data-1628f13167f7296636cb68560b99860d\"}, \"mark\": \"circle\", \"encoding\": {\"color\": {\"field\": \"Moon Phase\", \"type\": \"nominal\"}, \"x\": {\"field\": \"Date\", \"type\": \"temporal\"}, \"y\": {\"field\": \"Moon Phase\", \"type\": \"nominal\"}}, \"$schema\": \"https://vega.github.io/schema/vega-lite/v4.17.0.json\", \"datasets\": {\"data-1628f13167f7296636cb68560b99860d\": [{\"Date\": \"2021-01-20T00:00:00\", \"Moon Phase\": \"First Quarter\"}, {\"Date\": \"2021-01-13T00:00:00\", \"Moon Phase\": \"New Moon\"}, {\"Date\": \"2021-01-06T00:00:00\", \"Moon Phase\": \"Third Quarter\"}, {\"Date\": \"2021-01-28T00:00:00\", \"Moon Phase\": \"Full Moon\"}, {\"Date\": \"2021-02-19T00:00:00\", \"Moon Phase\": \"First Quarter\"}, {\"Date\": \"2021-02-11T00:00:00\", \"Moon Phase\": \"New Moon\"}, {\"Date\": \"2021-02-04T00:00:00\", \"Moon Phase\": \"Third Quarter\"}, {\"Date\": \"2021-02-27T00:00:00\", \"Moon Phase\": \"Full Moon\"}, {\"Date\": \"2021-03-21T00:00:00\", \"Moon Phase\": \"First Quarter\"}, {\"Date\": \"2021-03-13T00:00:00\", \"Moon Phase\": \"New Moon\"}, {\"Date\": \"2021-03-06T00:00:00\", \"Moon Phase\": \"Third Quarter\"}, {\"Date\": \"2021-03-28T00:00:00\", \"Moon Phase\": \"Full Moon\"}, {\"Date\": \"2021-04-20T00:00:00\", \"Moon Phase\": \"First Quarter\"}, {\"Date\": \"2021-04-12T00:00:00\", \"Moon Phase\": \"New Moon\"}, {\"Date\": \"2021-04-04T00:00:00\", \"Moon Phase\": \"Third Quarter\"}, {\"Date\": \"2021-04-27T00:00:00\", \"Moon Phase\": \"Full Moon\"}, {\"Date\": \"2021-05-19T00:00:00\", \"Moon Phase\": \"First Quarter\"}, {\"Date\": \"2021-05-11T00:00:00\", \"Moon Phase\": \"New Moon\"}, {\"Date\": \"2021-05-03T00:00:00\", \"Moon Phase\": \"Third Quarter\"}, {\"Date\": \"2021-05-26T00:00:00\", \"Moon Phase\": \"Full Moon\"}, {\"Date\": \"2021-06-18T00:00:00\", \"Moon Phase\": \"First Quarter\"}, {\"Date\": \"2021-06-10T00:00:00\", \"Moon Phase\": \"New Moon\"}, {\"Date\": \"2021-06-02T00:00:00\", \"Moon Phase\": \"Third Quarter\"}, {\"Date\": \"2021-06-24T00:00:00\", \"Moon Phase\": \"Full Moon\"}, {\"Date\": \"2021-07-17T00:00:00\", \"Moon Phase\": \"First Quarter\"}, {\"Date\": \"2021-07-10T00:00:00\", \"Moon Phase\": \"New Moon\"}, {\"Date\": \"2021-07-01T00:00:00\", \"Moon Phase\": \"Third Quarter\"}, {\"Date\": \"2021-07-24T00:00:00\", \"Moon Phase\": \"Full Moon\"}, {\"Date\": \"2021-08-15T00:00:00\", \"Moon Phase\": \"First Quarter\"}, {\"Date\": \"2021-08-08T00:00:00\", \"Moon Phase\": \"New Moon\"}, {\"Date\": \"2021-07-31T00:00:00\", \"Moon Phase\": \"Third Quarter\"}, {\"Date\": \"2021-08-22T00:00:00\", \"Moon Phase\": \"Full Moon\"}, {\"Date\": \"2021-09-13T00:00:00\", \"Moon Phase\": \"First Quarter\"}, {\"Date\": \"2021-09-07T00:00:00\", \"Moon Phase\": \"New Moon\"}, {\"Date\": \"2021-08-30T00:00:00\", \"Moon Phase\": \"Third Quarter\"}, {\"Date\": \"2021-09-21T00:00:00\", \"Moon Phase\": \"Full Moon\"}, {\"Date\": \"2021-10-13T00:00:00\", \"Moon Phase\": \"First Quarter\"}, {\"Date\": \"2021-10-06T00:00:00\", \"Moon Phase\": \"New Moon\"}, {\"Date\": \"2021-09-29T00:00:00\", \"Moon Phase\": \"Third Quarter\"}, {\"Date\": \"2021-10-20T00:00:00\", \"Moon Phase\": \"Full Moon\"}, {\"Date\": \"2021-11-11T00:00:00\", \"Moon Phase\": \"First Quarter\"}, {\"Date\": \"2021-11-04T00:00:00\", \"Moon Phase\": \"New Moon\"}, {\"Date\": \"2021-10-28T00:00:00\", \"Moon Phase\": \"Third Quarter\"}, {\"Date\": \"2021-11-19T00:00:00\", \"Moon Phase\": \"Full Moon\"}, {\"Date\": \"2021-12-11T00:00:00\", \"Moon Phase\": \"First Quarter\"}, {\"Date\": \"2021-12-04T00:00:00\", \"Moon Phase\": \"New Moon\"}, {\"Date\": \"2021-11-27T00:00:00\", \"Moon Phase\": \"Third Quarter\"}, {\"Date\": \"2021-12-19T00:00:00\", \"Moon Phase\": \"Full Moon\"}, {\"Date\": \"2021-12-27T00:00:00\", \"Moon Phase\": \"Third Quarter\"}]}}, {\"mode\": \"vega-lite\"});\n</script>",
      "text/plain": "alt.Chart(...)"
     },
     "execution_count": 25,
     "metadata": {},
     "output_type": "execute_result"
    }
   ],
   "source": [
    "from altair.utils.data import to_values\n",
    "\n",
    "alt.Chart.from_dict({\n",
    "    \"data\": to_values(moon_2021),\n",
    "    \"mark\": \"circle\",\n",
    "    \"encoding\": {\n",
    "        \"x\": {\n",
    "            \"field\": \"Date\",\n",
    "            \"type\": \"temporal\",\n",
    "        },\n",
    "        \"color\": {\n",
    "            \"field\": \"Moon Phase\",\n",
    "            \"type\": \"nominal\"\n",
    "        },\n",
    "         \"y\": {\n",
    "            \"field\": \"Moon Phase\",\n",
    "            \"type\": \"nominal\",\n",
    "        }\n",
    "    }\n",
    "})"
   ],
   "metadata": {
    "collapsed": false,
    "pycharm": {
     "name": "#%%\n"
    }
   }
  },
  {
   "cell_type": "code",
   "execution_count": 26,
   "outputs": [
    {
     "data": {
      "text/html": "\n<div id=\"altair-viz-e811a511b7e9497c909a0afd805bf35a\"></div>\n<script type=\"text/javascript\">\n  var VEGA_DEBUG = (typeof VEGA_DEBUG == \"undefined\") ? {} : VEGA_DEBUG;\n  (function(spec, embedOpt){\n    let outputDiv = document.currentScript.previousElementSibling;\n    if (outputDiv.id !== \"altair-viz-e811a511b7e9497c909a0afd805bf35a\") {\n      outputDiv = document.getElementById(\"altair-viz-e811a511b7e9497c909a0afd805bf35a\");\n    }\n    const paths = {\n      \"vega\": \"https://cdn.jsdelivr.net/npm//vega@5?noext\",\n      \"vega-lib\": \"https://cdn.jsdelivr.net/npm//vega-lib?noext\",\n      \"vega-lite\": \"https://cdn.jsdelivr.net/npm//vega-lite@4.17.0?noext\",\n      \"vega-embed\": \"https://cdn.jsdelivr.net/npm//vega-embed@6?noext\",\n    };\n\n    function maybeLoadScript(lib, version) {\n      var key = `${lib.replace(\"-\", \"\")}_version`;\n      return (VEGA_DEBUG[key] == version) ?\n        Promise.resolve(paths[lib]) :\n        new Promise(function(resolve, reject) {\n          var s = document.createElement('script');\n          document.getElementsByTagName(\"head\")[0].appendChild(s);\n          s.async = true;\n          s.onload = () => {\n            VEGA_DEBUG[key] = version;\n            return resolve(paths[lib]);\n          };\n          s.onerror = () => reject(`Error loading script: ${paths[lib]}`);\n          s.src = paths[lib];\n        });\n    }\n\n    function showError(err) {\n      outputDiv.innerHTML = `<div class=\"error\" style=\"color:red;\">${err}</div>`;\n      throw err;\n    }\n\n    function displayChart(vegaEmbed) {\n      vegaEmbed(outputDiv, spec, embedOpt)\n        .catch(err => showError(`Javascript Error: ${err.message}<br>This usually means there's a typo in your chart specification. See the javascript console for the full traceback.`));\n    }\n\n    if(typeof define === \"function\" && define.amd) {\n      requirejs.config({paths});\n      require([\"vega-embed\"], displayChart, err => showError(`Error loading script: ${err.message}`));\n    } else {\n      maybeLoadScript(\"vega\", \"5\")\n        .then(() => maybeLoadScript(\"vega-lite\", \"4.17.0\"))\n        .then(() => maybeLoadScript(\"vega-embed\", \"6\"))\n        .catch(showError)\n        .then(() => displayChart(vegaEmbed));\n    }\n  })({\"config\": {\"view\": {\"continuousWidth\": 400, \"continuousHeight\": 300}}, \"data\": {\"name\": \"data-81a74469de7ff508e8516a355e53655a\"}, \"mark\": \"circle\", \"encoding\": {\"color\": {\"field\": \"Moon Phase\", \"type\": \"nominal\"}, \"x\": {\"field\": \"Date\", \"type\": \"temporal\"}, \"y\": {\"field\": \"Moon Phase\", \"type\": \"nominal\"}}, \"$schema\": \"https://vega.github.io/schema/vega-lite/v4.17.0.json\", \"datasets\": {\"data-81a74469de7ff508e8516a355e53655a\": [{\"Date\": \"2022-01-09T00:00:00\", \"Moon Phase\": \"First Quarter\"}, {\"Date\": \"2022-01-02T00:00:00\", \"Moon Phase\": \"New Moon\"}, {\"Date\": \"2022-01-25T00:00:00\", \"Moon Phase\": \"Third Quarter\"}, {\"Date\": \"2022-01-18T00:00:00\", \"Moon Phase\": \"Full Moon\"}, {\"Date\": \"2022-02-08T00:00:00\", \"Moon Phase\": \"First Quarter\"}, {\"Date\": \"2022-02-01T00:00:00\", \"Moon Phase\": \"New Moon\"}, {\"Date\": \"2022-02-23T00:00:00\", \"Moon Phase\": \"Third Quarter\"}, {\"Date\": \"2022-02-16T00:00:00\", \"Moon Phase\": \"Full Moon\"}, {\"Date\": \"2022-03-10T00:00:00\", \"Moon Phase\": \"First Quarter\"}, {\"Date\": \"2022-03-02T00:00:00\", \"Moon Phase\": \"New Moon\"}, {\"Date\": \"2022-03-25T00:00:00\", \"Moon Phase\": \"Third Quarter\"}, {\"Date\": \"2022-03-18T00:00:00\", \"Moon Phase\": \"Full Moon\"}, {\"Date\": \"2022-04-09T00:00:00\", \"Moon Phase\": \"First Quarter\"}, {\"Date\": \"2022-04-01T00:00:00\", \"Moon Phase\": \"New Moon\"}, {\"Date\": \"2022-04-23T00:00:00\", \"Moon Phase\": \"Third Quarter\"}, {\"Date\": \"2022-04-16T00:00:00\", \"Moon Phase\": \"Full Moon\"}, {\"Date\": \"2022-05-09T00:00:00\", \"Moon Phase\": \"First Quarter\"}, {\"Date\": \"2022-04-30T00:00:00\", \"Moon Phase\": \"New Moon\"}, {\"Date\": \"2022-05-22T00:00:00\", \"Moon Phase\": \"Third Quarter\"}, {\"Date\": \"2022-05-16T00:00:00\", \"Moon Phase\": \"Full Moon\"}, {\"Date\": \"2022-06-07T00:00:00\", \"Moon Phase\": \"First Quarter\"}, {\"Date\": \"2022-05-30T00:00:00\", \"Moon Phase\": \"New Moon\"}, {\"Date\": \"2022-06-21T00:00:00\", \"Moon Phase\": \"Third Quarter\"}, {\"Date\": \"2022-06-14T00:00:00\", \"Moon Phase\": \"Full Moon\"}, {\"Date\": \"2022-07-07T00:00:00\", \"Moon Phase\": \"First Quarter\"}, {\"Date\": \"2022-06-29T00:00:00\", \"Moon Phase\": \"New Moon\"}, {\"Date\": \"2022-07-20T00:00:00\", \"Moon Phase\": \"Third Quarter\"}, {\"Date\": \"2022-07-13T00:00:00\", \"Moon Phase\": \"Full Moon\"}, {\"Date\": \"2022-08-05T00:00:00\", \"Moon Phase\": \"First Quarter\"}, {\"Date\": \"2022-07-28T00:00:00\", \"Moon Phase\": \"New Moon\"}, {\"Date\": \"2022-08-19T00:00:00\", \"Moon Phase\": \"Third Quarter\"}, {\"Date\": \"2022-08-12T00:00:00\", \"Moon Phase\": \"Full Moon\"}, {\"Date\": \"2022-09-03T00:00:00\", \"Moon Phase\": \"First Quarter\"}, {\"Date\": \"2022-08-27T00:00:00\", \"Moon Phase\": \"New Moon\"}, {\"Date\": \"2022-09-17T00:00:00\", \"Moon Phase\": \"Third Quarter\"}, {\"Date\": \"2022-09-10T00:00:00\", \"Moon Phase\": \"Full Moon\"}, {\"Date\": \"2022-10-03T00:00:00\", \"Moon Phase\": \"First Quarter\"}, {\"Date\": \"2022-09-25T00:00:00\", \"Moon Phase\": \"New Moon\"}, {\"Date\": \"2022-10-17T00:00:00\", \"Moon Phase\": \"Third Quarter\"}, {\"Date\": \"2022-10-09T00:00:00\", \"Moon Phase\": \"Full Moon\"}, {\"Date\": \"2022-11-01T00:00:00\", \"Moon Phase\": \"First Quarter\"}, {\"Date\": \"2022-10-25T00:00:00\", \"Moon Phase\": \"New Moon\"}, {\"Date\": \"2022-11-16T00:00:00\", \"Moon Phase\": \"Third Quarter\"}, {\"Date\": \"2022-11-08T00:00:00\", \"Moon Phase\": \"Full Moon\"}, {\"Date\": \"2022-11-30T00:00:00\", \"Moon Phase\": \"First Quarter\"}, {\"Date\": \"2022-11-23T00:00:00\", \"Moon Phase\": \"New Moon\"}, {\"Date\": \"2022-12-16T00:00:00\", \"Moon Phase\": \"Third Quarter\"}, {\"Date\": \"2022-12-08T00:00:00\", \"Moon Phase\": \"Full Moon\"}, {\"Date\": \"2022-12-30T00:00:00\", \"Moon Phase\": \"First Quarter\"}, {\"Date\": \"2022-12-23T00:00:00\", \"Moon Phase\": \"New Moon\"}]}}, {\"mode\": \"vega-lite\"});\n</script>",
      "text/plain": "alt.Chart(...)"
     },
     "execution_count": 26,
     "metadata": {},
     "output_type": "execute_result"
    }
   ],
   "source": [
    "\n",
    "alt.Chart.from_dict({\n",
    "    \"data\": to_values(moon_2022),\n",
    "    \"mark\": \"circle\",\n",
    "    \"encoding\": {\n",
    "        \"x\": {\n",
    "            \"field\": \"Date\",\n",
    "            \"type\": \"temporal\",\n",
    "        },\n",
    "        \"color\": {\n",
    "            \"field\": \"Moon Phase\",\n",
    "            \"type\": \"nominal\"\n",
    "        },\n",
    "         \"y\": {\n",
    "            \"field\": \"Moon Phase\",\n",
    "            \"type\": \"nominal\",\n",
    "        }\n",
    "    }\n",
    "})"
   ],
   "metadata": {
    "collapsed": false,
    "pycharm": {
     "name": "#%%\n"
    }
   }
  },
  {
   "cell_type": "code",
   "execution_count": 27,
   "outputs": [
    {
     "data": {
      "text/html": "\n<div id=\"altair-viz-eef697eef7ec471c8cef75b04a77fa13\"></div>\n<script type=\"text/javascript\">\n  var VEGA_DEBUG = (typeof VEGA_DEBUG == \"undefined\") ? {} : VEGA_DEBUG;\n  (function(spec, embedOpt){\n    let outputDiv = document.currentScript.previousElementSibling;\n    if (outputDiv.id !== \"altair-viz-eef697eef7ec471c8cef75b04a77fa13\") {\n      outputDiv = document.getElementById(\"altair-viz-eef697eef7ec471c8cef75b04a77fa13\");\n    }\n    const paths = {\n      \"vega\": \"https://cdn.jsdelivr.net/npm//vega@5?noext\",\n      \"vega-lib\": \"https://cdn.jsdelivr.net/npm//vega-lib?noext\",\n      \"vega-lite\": \"https://cdn.jsdelivr.net/npm//vega-lite@4.17.0?noext\",\n      \"vega-embed\": \"https://cdn.jsdelivr.net/npm//vega-embed@6?noext\",\n    };\n\n    function maybeLoadScript(lib, version) {\n      var key = `${lib.replace(\"-\", \"\")}_version`;\n      return (VEGA_DEBUG[key] == version) ?\n        Promise.resolve(paths[lib]) :\n        new Promise(function(resolve, reject) {\n          var s = document.createElement('script');\n          document.getElementsByTagName(\"head\")[0].appendChild(s);\n          s.async = true;\n          s.onload = () => {\n            VEGA_DEBUG[key] = version;\n            return resolve(paths[lib]);\n          };\n          s.onerror = () => reject(`Error loading script: ${paths[lib]}`);\n          s.src = paths[lib];\n        });\n    }\n\n    function showError(err) {\n      outputDiv.innerHTML = `<div class=\"error\" style=\"color:red;\">${err}</div>`;\n      throw err;\n    }\n\n    function displayChart(vegaEmbed) {\n      vegaEmbed(outputDiv, spec, embedOpt)\n        .catch(err => showError(`Javascript Error: ${err.message}<br>This usually means there's a typo in your chart specification. See the javascript console for the full traceback.`));\n    }\n\n    if(typeof define === \"function\" && define.amd) {\n      requirejs.config({paths});\n      require([\"vega-embed\"], displayChart, err => showError(`Error loading script: ${err.message}`));\n    } else {\n      maybeLoadScript(\"vega\", \"5\")\n        .then(() => maybeLoadScript(\"vega-lite\", \"4.17.0\"))\n        .then(() => maybeLoadScript(\"vega-embed\", \"6\"))\n        .catch(showError)\n        .then(() => displayChart(vegaEmbed));\n    }\n  })({\"config\": {\"view\": {\"continuousWidth\": 400, \"continuousHeight\": 300}}, \"data\": {\"name\": \"data-54133fd8ff2f86d3e70e3a8605f2eb57\"}, \"mark\": \"circle\", \"encoding\": {\"color\": {\"field\": \"Moon Phase\", \"type\": \"nominal\"}, \"x\": {\"field\": \"Date\", \"type\": \"temporal\"}, \"y\": {\"field\": \"Moon Phase\", \"type\": \"nominal\"}}, \"$schema\": \"https://vega.github.io/schema/vega-lite/v4.17.0.json\", \"datasets\": {\"data-54133fd8ff2f86d3e70e3a8605f2eb57\": [{\"Date\": \"2021-01-20T00:00:00\", \"Moon Phase\": \"First Quarter\"}, {\"Date\": \"2021-01-13T00:00:00\", \"Moon Phase\": \"New Moon\"}, {\"Date\": \"2021-01-06T00:00:00\", \"Moon Phase\": \"Third Quarter\"}, {\"Date\": \"2021-01-28T00:00:00\", \"Moon Phase\": \"Full Moon\"}, {\"Date\": \"2021-02-19T00:00:00\", \"Moon Phase\": \"First Quarter\"}, {\"Date\": \"2021-02-11T00:00:00\", \"Moon Phase\": \"New Moon\"}, {\"Date\": \"2021-02-04T00:00:00\", \"Moon Phase\": \"Third Quarter\"}, {\"Date\": \"2021-02-27T00:00:00\", \"Moon Phase\": \"Full Moon\"}, {\"Date\": \"2021-03-21T00:00:00\", \"Moon Phase\": \"First Quarter\"}, {\"Date\": \"2021-03-13T00:00:00\", \"Moon Phase\": \"New Moon\"}, {\"Date\": \"2021-03-06T00:00:00\", \"Moon Phase\": \"Third Quarter\"}, {\"Date\": \"2021-03-28T00:00:00\", \"Moon Phase\": \"Full Moon\"}, {\"Date\": \"2021-04-20T00:00:00\", \"Moon Phase\": \"First Quarter\"}, {\"Date\": \"2021-04-12T00:00:00\", \"Moon Phase\": \"New Moon\"}, {\"Date\": \"2021-04-04T00:00:00\", \"Moon Phase\": \"Third Quarter\"}, {\"Date\": \"2021-04-27T00:00:00\", \"Moon Phase\": \"Full Moon\"}, {\"Date\": \"2021-05-19T00:00:00\", \"Moon Phase\": \"First Quarter\"}, {\"Date\": \"2021-05-11T00:00:00\", \"Moon Phase\": \"New Moon\"}, {\"Date\": \"2021-05-03T00:00:00\", \"Moon Phase\": \"Third Quarter\"}, {\"Date\": \"2021-05-26T00:00:00\", \"Moon Phase\": \"Full Moon\"}, {\"Date\": \"2021-06-18T00:00:00\", \"Moon Phase\": \"First Quarter\"}, {\"Date\": \"2021-06-10T00:00:00\", \"Moon Phase\": \"New Moon\"}, {\"Date\": \"2021-06-02T00:00:00\", \"Moon Phase\": \"Third Quarter\"}, {\"Date\": \"2021-06-24T00:00:00\", \"Moon Phase\": \"Full Moon\"}, {\"Date\": \"2021-07-17T00:00:00\", \"Moon Phase\": \"First Quarter\"}, {\"Date\": \"2021-07-10T00:00:00\", \"Moon Phase\": \"New Moon\"}, {\"Date\": \"2021-07-01T00:00:00\", \"Moon Phase\": \"Third Quarter\"}, {\"Date\": \"2021-07-24T00:00:00\", \"Moon Phase\": \"Full Moon\"}, {\"Date\": \"2021-08-15T00:00:00\", \"Moon Phase\": \"First Quarter\"}, {\"Date\": \"2021-08-08T00:00:00\", \"Moon Phase\": \"New Moon\"}, {\"Date\": \"2021-07-31T00:00:00\", \"Moon Phase\": \"Third Quarter\"}, {\"Date\": \"2021-08-22T00:00:00\", \"Moon Phase\": \"Full Moon\"}, {\"Date\": \"2021-09-13T00:00:00\", \"Moon Phase\": \"First Quarter\"}, {\"Date\": \"2021-09-07T00:00:00\", \"Moon Phase\": \"New Moon\"}, {\"Date\": \"2021-08-30T00:00:00\", \"Moon Phase\": \"Third Quarter\"}, {\"Date\": \"2021-09-21T00:00:00\", \"Moon Phase\": \"Full Moon\"}, {\"Date\": \"2021-10-13T00:00:00\", \"Moon Phase\": \"First Quarter\"}, {\"Date\": \"2021-10-06T00:00:00\", \"Moon Phase\": \"New Moon\"}, {\"Date\": \"2021-09-29T00:00:00\", \"Moon Phase\": \"Third Quarter\"}, {\"Date\": \"2021-10-20T00:00:00\", \"Moon Phase\": \"Full Moon\"}, {\"Date\": \"2021-11-11T00:00:00\", \"Moon Phase\": \"First Quarter\"}, {\"Date\": \"2021-11-04T00:00:00\", \"Moon Phase\": \"New Moon\"}, {\"Date\": \"2021-10-28T00:00:00\", \"Moon Phase\": \"Third Quarter\"}, {\"Date\": \"2021-11-19T00:00:00\", \"Moon Phase\": \"Full Moon\"}, {\"Date\": \"2021-12-11T00:00:00\", \"Moon Phase\": \"First Quarter\"}, {\"Date\": \"2021-12-04T00:00:00\", \"Moon Phase\": \"New Moon\"}, {\"Date\": \"2021-11-27T00:00:00\", \"Moon Phase\": \"Third Quarter\"}, {\"Date\": \"2021-12-19T00:00:00\", \"Moon Phase\": \"Full Moon\"}, {\"Date\": \"2021-12-27T00:00:00\", \"Moon Phase\": \"Third Quarter\"}, {\"Date\": \"2022-01-09T00:00:00\", \"Moon Phase\": \"First Quarter\"}, {\"Date\": \"2022-01-02T00:00:00\", \"Moon Phase\": \"New Moon\"}, {\"Date\": \"2022-01-25T00:00:00\", \"Moon Phase\": \"Third Quarter\"}, {\"Date\": \"2022-01-18T00:00:00\", \"Moon Phase\": \"Full Moon\"}, {\"Date\": \"2022-02-08T00:00:00\", \"Moon Phase\": \"First Quarter\"}, {\"Date\": \"2022-02-01T00:00:00\", \"Moon Phase\": \"New Moon\"}, {\"Date\": \"2022-02-23T00:00:00\", \"Moon Phase\": \"Third Quarter\"}, {\"Date\": \"2022-02-16T00:00:00\", \"Moon Phase\": \"Full Moon\"}, {\"Date\": \"2022-03-10T00:00:00\", \"Moon Phase\": \"First Quarter\"}, {\"Date\": \"2022-03-02T00:00:00\", \"Moon Phase\": \"New Moon\"}, {\"Date\": \"2022-03-25T00:00:00\", \"Moon Phase\": \"Third Quarter\"}, {\"Date\": \"2022-03-18T00:00:00\", \"Moon Phase\": \"Full Moon\"}, {\"Date\": \"2022-04-09T00:00:00\", \"Moon Phase\": \"First Quarter\"}, {\"Date\": \"2022-04-01T00:00:00\", \"Moon Phase\": \"New Moon\"}, {\"Date\": \"2022-04-23T00:00:00\", \"Moon Phase\": \"Third Quarter\"}, {\"Date\": \"2022-04-16T00:00:00\", \"Moon Phase\": \"Full Moon\"}, {\"Date\": \"2022-05-09T00:00:00\", \"Moon Phase\": \"First Quarter\"}, {\"Date\": \"2022-04-30T00:00:00\", \"Moon Phase\": \"New Moon\"}, {\"Date\": \"2022-05-22T00:00:00\", \"Moon Phase\": \"Third Quarter\"}, {\"Date\": \"2022-05-16T00:00:00\", \"Moon Phase\": \"Full Moon\"}, {\"Date\": \"2022-06-07T00:00:00\", \"Moon Phase\": \"First Quarter\"}, {\"Date\": \"2022-05-30T00:00:00\", \"Moon Phase\": \"New Moon\"}, {\"Date\": \"2022-06-21T00:00:00\", \"Moon Phase\": \"Third Quarter\"}, {\"Date\": \"2022-06-14T00:00:00\", \"Moon Phase\": \"Full Moon\"}, {\"Date\": \"2022-07-07T00:00:00\", \"Moon Phase\": \"First Quarter\"}, {\"Date\": \"2022-06-29T00:00:00\", \"Moon Phase\": \"New Moon\"}, {\"Date\": \"2022-07-20T00:00:00\", \"Moon Phase\": \"Third Quarter\"}, {\"Date\": \"2022-07-13T00:00:00\", \"Moon Phase\": \"Full Moon\"}, {\"Date\": \"2022-08-05T00:00:00\", \"Moon Phase\": \"First Quarter\"}, {\"Date\": \"2022-07-28T00:00:00\", \"Moon Phase\": \"New Moon\"}, {\"Date\": \"2022-08-19T00:00:00\", \"Moon Phase\": \"Third Quarter\"}, {\"Date\": \"2022-08-12T00:00:00\", \"Moon Phase\": \"Full Moon\"}, {\"Date\": \"2022-09-03T00:00:00\", \"Moon Phase\": \"First Quarter\"}, {\"Date\": \"2022-08-27T00:00:00\", \"Moon Phase\": \"New Moon\"}, {\"Date\": \"2022-09-17T00:00:00\", \"Moon Phase\": \"Third Quarter\"}, {\"Date\": \"2022-09-10T00:00:00\", \"Moon Phase\": \"Full Moon\"}, {\"Date\": \"2022-10-03T00:00:00\", \"Moon Phase\": \"First Quarter\"}, {\"Date\": \"2022-09-25T00:00:00\", \"Moon Phase\": \"New Moon\"}, {\"Date\": \"2022-10-17T00:00:00\", \"Moon Phase\": \"Third Quarter\"}, {\"Date\": \"2022-10-09T00:00:00\", \"Moon Phase\": \"Full Moon\"}, {\"Date\": \"2022-11-01T00:00:00\", \"Moon Phase\": \"First Quarter\"}, {\"Date\": \"2022-10-25T00:00:00\", \"Moon Phase\": \"New Moon\"}, {\"Date\": \"2022-11-16T00:00:00\", \"Moon Phase\": \"Third Quarter\"}, {\"Date\": \"2022-11-08T00:00:00\", \"Moon Phase\": \"Full Moon\"}, {\"Date\": \"2022-11-30T00:00:00\", \"Moon Phase\": \"First Quarter\"}, {\"Date\": \"2022-11-23T00:00:00\", \"Moon Phase\": \"New Moon\"}, {\"Date\": \"2022-12-16T00:00:00\", \"Moon Phase\": \"Third Quarter\"}, {\"Date\": \"2022-12-08T00:00:00\", \"Moon Phase\": \"Full Moon\"}, {\"Date\": \"2022-12-30T00:00:00\", \"Moon Phase\": \"First Quarter\"}, {\"Date\": \"2022-12-23T00:00:00\", \"Moon Phase\": \"New Moon\"}]}}, {\"mode\": \"vega-lite\"});\n</script>",
      "text/plain": "alt.Chart(...)"
     },
     "execution_count": 27,
     "metadata": {},
     "output_type": "execute_result"
    }
   ],
   "source": [
    "alt.Chart.from_dict({\n",
    "    \"data\": to_values(combined_moon),\n",
    "    \"mark\": \"circle\",\n",
    "    \"encoding\": {\n",
    "        \"x\": {\n",
    "            \"field\": \"Date\",\n",
    "            \"type\": \"temporal\",\n",
    "        },\n",
    "        \"color\": {\n",
    "            \"field\": \"Moon Phase\",\n",
    "            \"type\": \"nominal\"\n",
    "        },\n",
    "         \"y\": {\n",
    "            \"field\": \"Moon Phase\",\n",
    "            \"type\": \"nominal\",\n",
    "        }\n",
    "    }\n",
    "})"
   ],
   "metadata": {
    "collapsed": false,
    "pycharm": {
     "name": "#%%\n"
    }
   }
  },
  {
   "cell_type": "markdown",
   "source": [
    "## 2. Schlaf-Daten (Fitbit)"
   ],
   "metadata": {
    "collapsed": false,
    "pycharm": {
     "name": "#%% md\n"
    }
   }
  },
  {
   "cell_type": "markdown",
   "source": [
    "### 2.1 Datenaufbereitung"
   ],
   "metadata": {
    "collapsed": false,
    "pycharm": {
     "name": "#%% md\n"
    }
   }
  },
  {
   "cell_type": "code",
   "execution_count": 57,
   "outputs": [
    {
     "name": "stdout",
     "output_type": "stream",
     "text": [
      "/Users/tamara/GitRepos/chira/cas-datascience-sleep-analysis/cas-data-science-sleep-analysis/cas-datascience-sleep-analysis/cas-data-science-sleep-analysis/raw/heart\n",
      "False\n"
     ]
    }
   ],
   "source": [],
   "metadata": {
    "collapsed": false,
    "pycharm": {
     "name": "#%%\n"
    }
   }
  },
  {
   "cell_type": "code",
   "execution_count": 47,
   "outputs": [],
   "source": [],
   "metadata": {
    "collapsed": false,
    "pycharm": {
     "name": "#%%\n"
    }
   }
  },
  {
   "cell_type": "markdown",
   "source": [
    "### 2.2 Fertige Datensätze"
   ],
   "metadata": {
    "collapsed": false,
    "pycharm": {
     "name": "#%% md\n"
    }
   }
  },
  {
   "cell_type": "code",
   "execution_count": 133,
   "outputs": [],
   "source": [],
   "metadata": {
    "collapsed": false,
    "pycharm": {
     "name": "#%%\n"
    }
   }
  },
  {
   "cell_type": "code",
   "execution_count": 133,
   "outputs": [],
   "source": [],
   "metadata": {
    "collapsed": false,
    "pycharm": {
     "name": "#%%\n"
    }
   }
  },
  {
   "cell_type": "code",
   "execution_count": 133,
   "outputs": [],
   "source": [],
   "metadata": {
    "collapsed": false,
    "pycharm": {
     "name": "#%%\n"
    }
   }
  },
  {
   "cell_type": "markdown",
   "source": [
    "### 2.3 Erste Visualisierungen"
   ],
   "metadata": {
    "collapsed": false,
    "pycharm": {
     "name": "#%% md\n"
    }
   }
  },
  {
   "cell_type": "markdown",
   "id": "071f11b6",
   "metadata": {},
   "source": [
    "### Temperature Variation"
   ]
  },
  {
   "cell_type": "code",
   "execution_count": 134,
   "outputs": [],
   "source": [
    "def importFiles(path):\n",
    "    all_files = glob.glob(path + \"/*.csv\")\n",
    "    li = []\n",
    "    for filename in all_files:\n",
    "        df = pd.read_csv(filename, index_col=None, header=0)\n",
    "        li.append(df)\n",
    "\n",
    "    return pd.concat(li, axis=0, ignore_index=True)"
   ],
   "metadata": {
    "collapsed": false,
    "pycharm": {
     "name": "#%%\n"
    }
   }
  },
  {
   "cell_type": "code",
   "execution_count": 135,
   "id": "be064366",
   "metadata": {},
   "outputs": [
    {
     "ename": "NameError",
     "evalue": "name 'glob' is not defined",
     "output_type": "error",
     "traceback": [
      "\u001B[0;31m---------------------------------------------------------------------------\u001B[0m",
      "\u001B[0;31mNameError\u001B[0m                                 Traceback (most recent call last)",
      "Input \u001B[0;32mIn [135]\u001B[0m, in \u001B[0;36m<module>\u001B[0;34m\u001B[0m\n\u001B[1;32m      1\u001B[0m tempVarPath \u001B[38;5;241m=\u001B[39m \u001B[38;5;124mr\u001B[39m\u001B[38;5;124m'\u001B[39m\u001B[38;5;124m/Users/tamara/GitRepos/chira/cas-datascience-notebooks/Projektideen/MyFitbitData/Tamara/Sleep/Temperature/\u001B[39m\u001B[38;5;124m'\u001B[39m \u001B[38;5;66;03m# use your path\u001B[39;00m\n\u001B[0;32m----> 3\u001B[0m tempVarDf \u001B[38;5;241m=\u001B[39m \u001B[43mimportFiles\u001B[49m\u001B[43m(\u001B[49m\u001B[43mtempVarPath\u001B[49m\u001B[43m)\u001B[49m\n\u001B[1;32m      4\u001B[0m \u001B[38;5;28mprint\u001B[39m(tempVarDf)\n\u001B[1;32m      5\u001B[0m \u001B[38;5;28mprint\u001B[39m(tempVarDf[\u001B[38;5;124m\"\u001B[39m\u001B[38;5;124mtemperature\u001B[39m\u001B[38;5;124m\"\u001B[39m]\u001B[38;5;241m.\u001B[39mhist())\n",
      "Input \u001B[0;32mIn [134]\u001B[0m, in \u001B[0;36mimportFiles\u001B[0;34m(path)\u001B[0m\n\u001B[1;32m      1\u001B[0m \u001B[38;5;28;01mdef\u001B[39;00m \u001B[38;5;21mimportFiles\u001B[39m(path):\n\u001B[0;32m----> 2\u001B[0m     all_files \u001B[38;5;241m=\u001B[39m \u001B[43mglob\u001B[49m\u001B[38;5;241m.\u001B[39mglob(path \u001B[38;5;241m+\u001B[39m \u001B[38;5;124m\"\u001B[39m\u001B[38;5;124m/*.csv\u001B[39m\u001B[38;5;124m\"\u001B[39m)\n\u001B[1;32m      3\u001B[0m     li \u001B[38;5;241m=\u001B[39m []\n\u001B[1;32m      4\u001B[0m     \u001B[38;5;28;01mfor\u001B[39;00m filename \u001B[38;5;129;01min\u001B[39;00m all_files:\n",
      "\u001B[0;31mNameError\u001B[0m: name 'glob' is not defined"
     ]
    }
   ],
   "source": [
    "tempVarPath = r'/Users/tamara/GitRepos/chira/cas-datascience-notebooks/Projektideen/MyFitbitData/Tamara/Sleep/Temperature/' # use your path\n",
    "\n",
    "tempVarDf = importFiles(tempVarPath)\n",
    "print(tempVarDf)\n",
    "print(tempVarDf[\"temperature\"].hist())"
   ]
  },
  {
   "cell_type": "markdown",
   "id": "0fde9632",
   "metadata": {},
   "source": [
    "### Computed Temperature"
   ]
  },
  {
   "cell_type": "code",
   "execution_count": null,
   "id": "9fc7eb79",
   "metadata": {},
   "outputs": [],
   "source": [
    "tempVarPath = r'/Users/tamara/GitRepos/chira/cas-datascience-notebooks/Projektideen/MyFitbitData/Tamara/Sleep/Computed Temp/'\n",
    "\n",
    "tempVarDf = importFiles(tempVarPath)\n",
    "print(\"Nightly Temperate (\"+str(tempVarDf[\"nightly_temperature\"].count())+\") samples\")\n",
    "print(tempVarDf[\"nightly_temperature\"].hist(bins = 50))\n",
    "\n",
    "\n",
    "from dateutil import parser\n",
    "import datetime\n",
    "\n",
    "start = tempVarDf[\"sleep_start\"]\n",
    "end = tempVarDf[\"sleep_end\"]\n",
    "time = []\n",
    "\n",
    "print(start)\n",
    "\n",
    "for i in range(0, len(start)):    \n",
    "    # e = datetime.datetime.strptime(end[i], '%y-%m-%dT%H:%M')\n",
    "    e = parser.parse(end[i])\n",
    "    # s = datetime.datetime.strptime(start[i],'%y-%m-%ddT%HG:%MM:%S')\n",
    "    time.append(end[i]-start[i])\n",
    "\n"
   ]
  },
  {
   "cell_type": "code",
   "execution_count": null,
   "id": "303990d5",
   "metadata": {},
   "outputs": [],
   "source": []
  },
  {
   "cell_type": "markdown",
   "id": "7416d5df",
   "metadata": {
    "pycharm": {
     "name": "#%% md\n"
    }
   },
   "source": [
    "# Hilfsfunktionen"
   ]
  },
  {
   "cell_type": "markdown",
   "source": [
    "## Data Wrangling"
   ],
   "metadata": {
    "collapsed": false,
    "pycharm": {
     "name": "#%% md\n"
    }
   }
  },
  {
   "cell_type": "code",
   "execution_count": null,
   "outputs": [],
   "source": [],
   "metadata": {
    "collapsed": false,
    "pycharm": {
     "name": "#%%\n"
    }
   }
  },
  {
   "cell_type": "code",
   "execution_count": null,
   "outputs": [],
   "source": [],
   "metadata": {
    "collapsed": false,
    "pycharm": {
     "name": "#%%\n"
    }
   }
  },
  {
   "cell_type": "code",
   "execution_count": null,
   "outputs": [],
   "source": [],
   "metadata": {
    "collapsed": false,
    "pycharm": {
     "name": "#%%\n"
    }
   }
  },
  {
   "cell_type": "code",
   "execution_count": null,
   "outputs": [],
   "source": [],
   "metadata": {
    "collapsed": false,
    "pycharm": {
     "name": "#%%\n"
    }
   }
  }
 ],
 "metadata": {
  "kernelspec": {
   "display_name": "Python 3 (ipykernel)",
   "language": "python",
   "name": "python3"
  },
  "language_info": {
   "codemirror_mode": {
    "name": "ipython",
    "version": 3
   },
   "file_extension": ".py",
   "mimetype": "text/x-python",
   "name": "python",
   "nbconvert_exporter": "python",
   "pygments_lexer": "ipython3",
   "version": "3.9.7"
  }
 },
 "nbformat": 4,
 "nbformat_minor": 5
}