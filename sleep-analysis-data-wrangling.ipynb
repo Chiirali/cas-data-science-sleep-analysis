{
 "cells": [
  {
   "cell_type": "code",
   "execution_count": 1,
   "id": "3327f158",
   "metadata": {
    "pycharm": {
     "name": "#%%\n"
    }
   },
   "outputs": [],
   "source": [
    "import seaborn as sns\n",
    "import pandas as pd\n",
    "import datetime\n",
    "import altair as alt\n",
    "import glob\n",
    "import os\n",
    "import warnings\n",
    "warnings.filterwarnings('ignore')"
   ]
  },
  {
   "cell_type": "markdown",
   "id": "96a15e56",
   "metadata": {
    "pycharm": {
     "name": "#%% md\n"
    }
   },
   "source": [
    "# CAS Data Science Projekt Sleep Analysis - Data Wrangling"
   ]
  },
  {
   "cell_type": "markdown",
   "source": [
    "## Datenquellen\n",
    "\n",
    "**Mond Phasen**\n",
    "Abruf: 03.04.2022\n",
    "Quelle: `https://www.timeanddate.de/mond/phasen/` (Location: Basel). Händischer Download in ein CSV ohne Spalte Lunation und Duration\n",
    "Dateien: `raw/moon/*`\n",
    "\n",
    "**Schlafdaten**\n",
    "Abruf: 18.06.2022\n",
    "Quelle: Daten Export von Fitbit Schlafdaten von privatem Account, CSV Export\n",
    "Dateien: `raw/sleep/*` `raw/heart/*` `raw/temp/*`"
   ],
   "metadata": {
    "collapsed": false,
    "pycharm": {
     "name": "#%% md\n"
    }
   }
  },
  {
   "cell_type": "markdown",
   "source": [
    "## 1. Mond-Phasen"
   ],
   "metadata": {
    "collapsed": false,
    "pycharm": {
     "name": "#%% md\n"
    }
   }
  },
  {
   "cell_type": "markdown",
   "source": [
    "### 1.1 Datenaufbereitung"
   ],
   "metadata": {
    "collapsed": false,
    "pycharm": {
     "name": "#%% md\n"
    }
   }
  },
  {
   "cell_type": "markdown",
   "source": [
    "Ich habe diese zwei kleinen Tabellen (2021, 2022) von Hand in ein Excel bzw. CSV kopiert, da der Aufwand einen Crawler zu schreiben für diese paar Zeilen dafür zu gross gewesen wäre. Nun muss ich die Daten in ein geeignetes Format bringen. Grundsätzlich möchte ich pro Datum wissen, welche Mondphase das ist."
   ],
   "metadata": {
    "collapsed": false,
    "pycharm": {
     "name": "#%% md\n"
    }
   }
  },
  {
   "cell_type": "code",
   "execution_count": 2,
   "outputs": [
    {
     "name": "stdout",
     "output_type": "stream",
     "text": [
      "     New Moon First Quarter   Full Moon Third Quarter  Unnamed: 4\n",
      "0  2021-01-13    2021-01-20  2021-01-28    2021-01-06         NaN\n",
      "1  2021-02-11    2021-02-19  2021-02-27    2021-02-04         NaN\n",
      "2  2021-03-13    2021-03-21  2021-03-28    2021-03-06         NaN\n",
      "3  2021-04-12    2021-04-20  2021-04-27    2021-04-04         NaN\n",
      "4  2021-05-11    2021-05-19  2021-05-26    2021-05-03         NaN\n",
      "     New Moon First Quarter   Full Moon Third Quarter  Unnamed: 4\n",
      "0  2022-01-02    2022-01-09  2022-01-18    2022-01-25         NaN\n",
      "1  2022-02-01    2022-02-08  2022-02-16    2022-02-23         NaN\n",
      "2  2022-03-02    2022-03-10  2022-03-18    2022-03-25         NaN\n",
      "3  2022-04-01    2022-04-09  2022-04-16    2022-04-23         NaN\n",
      "4  2022-04-30    2022-05-09  2022-05-16    2022-05-22         NaN\n",
      "     New Moon First Quarter   Full Moon Third Quarter\n",
      "0  2021-01-13    2021-01-20  2021-01-28    2021-01-06\n",
      "1  2021-02-11    2021-02-19  2021-02-27    2021-02-04\n",
      "2  2021-03-13    2021-03-21  2021-03-28    2021-03-06\n",
      "3  2021-04-12    2021-04-20  2021-04-27    2021-04-04\n",
      "4  2021-05-11    2021-05-19  2021-05-26    2021-05-03\n",
      "     New Moon First Quarter   Full Moon Third Quarter\n",
      "0  2022-01-02    2022-01-09  2022-01-18    2022-01-25\n",
      "1  2022-02-01    2022-02-08  2022-02-16    2022-02-23\n",
      "2  2022-03-02    2022-03-10  2022-03-18    2022-03-25\n",
      "3  2022-04-01    2022-04-09  2022-04-16    2022-04-23\n",
      "4  2022-04-30    2022-05-09  2022-05-16    2022-05-22\n"
     ]
    }
   ],
   "source": [
    "# read data\n",
    "moon2021_raw = pd.read_csv('raw/moon/moon-phases-2021.csv')\n",
    "moon2022_raw = pd.read_csv('raw/moon/moon-phases-2022.csv')\n",
    "\n",
    "# have a look\n",
    "print(moon2021_raw.head())\n",
    "print(moon2022_raw.head())\n",
    "\n",
    "# drop unnecessary column\n",
    "moon2021_raw.drop('Unnamed: 4', inplace=True, axis=1)\n",
    "moon2022_raw.drop('Unnamed: 4', inplace=True, axis=1)\n",
    "\n",
    "# have a look again\n",
    "print(moon2021_raw.head())\n",
    "print(moon2022_raw.head())"
   ],
   "metadata": {
    "collapsed": false,
    "pycharm": {
     "name": "#%%\n"
    }
   }
  },
  {
   "cell_type": "code",
   "execution_count": 3,
   "outputs": [],
   "source": [
    "\n",
    "def convert_all_dates(df, format):\n",
    "    \"\"\"Converts all the date strings into proper datetime objects.\"\"\"\n",
    "\n",
    "    new_moon = 'New Moon'\n",
    "    df[new_moon] = pd.to_datetime(df[new_moon], format=format)\n",
    "    first_quarter = 'First Quarter'\n",
    "    df[first_quarter] = pd.to_datetime(df[first_quarter], format=format)\n",
    "    full_moon = 'Full Moon'\n",
    "    df[full_moon] = pd.to_datetime(df[full_moon], format=format)\n",
    "    third_quarter = 'Third Quarter'\n",
    "    df[third_quarter] = pd.to_datetime(df[third_quarter], format=format)\n",
    "\n",
    "    return df"
   ],
   "metadata": {
    "collapsed": false,
    "pycharm": {
     "name": "#%%\n"
    }
   }
  },
  {
   "cell_type": "code",
   "execution_count": 4,
   "outputs": [
    {
     "name": "stdout",
     "output_type": "stream",
     "text": [
      "New Moon         datetime64[ns]\n",
      "First Quarter    datetime64[ns]\n",
      "Full Moon        datetime64[ns]\n",
      "Third Quarter    datetime64[ns]\n",
      "dtype: object\n",
      "New Moon         datetime64[ns]\n",
      "First Quarter    datetime64[ns]\n",
      "Full Moon        datetime64[ns]\n",
      "Third Quarter    datetime64[ns]\n",
      "dtype: object\n"
     ]
    }
   ],
   "source": [
    "format = '%Y-%m-%d'\n",
    "moon2021_raw = convert_all_dates(moon2021_raw, format)\n",
    "moon2022_raw = convert_all_dates(moon2022_raw, format)\n",
    "\n",
    "print(moon2021_raw.dtypes)\n",
    "print(moon2022_raw.dtypes)\n"
   ],
   "metadata": {
    "collapsed": false,
    "pycharm": {
     "name": "#%%\n"
    }
   }
  },
  {
   "cell_type": "code",
   "execution_count": 5,
   "outputs": [],
   "source": [
    "def flatten_moon_phases(df):\n",
    "    \"\"\"Flattens the moon phases to dates e.g. 2020-01-01 New Moon\"\"\"\n",
    "    flattened = pd.DataFrame(columns={'Date', 'Moon Phase'})\n",
    "    for index, row in df.iterrows():\n",
    "\n",
    "        first_quarter = {'Date': row['First Quarter'], 'Moon Phase': 'First Quarter'}\n",
    "        flattened = flattened.append(first_quarter, ignore_index = True)\n",
    "\n",
    "        new_moon = {'Date': row['New Moon'], 'Moon Phase': 'New Moon'}\n",
    "        flattened = flattened.append(new_moon, ignore_index = True)\n",
    "\n",
    "        third_quarter = {'Date': row['Third Quarter'], 'Moon Phase': 'Third Quarter'}\n",
    "        flattened = flattened.append(third_quarter, ignore_index = True)\n",
    "\n",
    "        full_moon = {'Date': row['Full Moon'], 'Moon Phase': 'Full Moon'}\n",
    "        flattened = flattened.append(full_moon, ignore_index = True)\n",
    "\n",
    "\n",
    "    return flattened"
   ],
   "metadata": {
    "collapsed": false,
    "pycharm": {
     "name": "#%%\n"
    }
   }
  },
  {
   "cell_type": "code",
   "execution_count": 6,
   "outputs": [],
   "source": [
    "moon_2021 = flatten_moon_phases(moon2021_raw)\n",
    "moon_2022 = flatten_moon_phases(moon2022_raw)\n",
    "\n",
    "moon_2021.rename(columns={'Date': 'date'}, inplace=True)\n",
    "moon_2022.rename(columns={'Date': 'date'}, inplace=True)\n",
    "\n",
    "moon_2021['date'] = pd.to_datetime(moon_2021[\"date\"])\n",
    "moon_2022['date'] = pd.to_datetime(moon_2022[\"date\"])"
   ],
   "metadata": {
    "collapsed": false,
    "pycharm": {
     "name": "#%%\n"
    }
   }
  },
  {
   "cell_type": "code",
   "execution_count": 7,
   "outputs": [],
   "source": [
    "# drop ones containing no date\n",
    "moon_2021.dropna(axis=0, inplace=True)\n",
    "moon_2022.dropna(axis=0, inplace=True)"
   ],
   "metadata": {
    "collapsed": false,
    "pycharm": {
     "name": "#%%\n"
    }
   }
  },
  {
   "cell_type": "markdown",
   "source": [
    "### 1.2 Fertige Datensätze"
   ],
   "metadata": {
    "collapsed": false,
    "pycharm": {
     "name": "#%% md\n"
    }
   }
  },
  {
   "cell_type": "code",
   "execution_count": 8,
   "outputs": [
    {
     "name": "stdout",
     "output_type": "stream",
     "text": [
      "File Mond Phasen 2021 Dimensionen: (49, 2)\n"
     ]
    },
    {
     "data": {
      "text/plain": "         date     Moon Phase\n39 2021-10-20      Full Moon\n40 2021-11-11  First Quarter\n41 2021-11-04       New Moon\n42 2021-10-28  Third Quarter\n43 2021-11-19      Full Moon\n44 2021-12-11  First Quarter\n45 2021-12-04       New Moon\n46 2021-11-27  Third Quarter\n47 2021-12-19      Full Moon\n50 2021-12-27  Third Quarter",
      "text/html": "<div>\n<style scoped>\n    .dataframe tbody tr th:only-of-type {\n        vertical-align: middle;\n    }\n\n    .dataframe tbody tr th {\n        vertical-align: top;\n    }\n\n    .dataframe thead th {\n        text-align: right;\n    }\n</style>\n<table border=\"1\" class=\"dataframe\">\n  <thead>\n    <tr style=\"text-align: right;\">\n      <th></th>\n      <th>date</th>\n      <th>Moon Phase</th>\n    </tr>\n  </thead>\n  <tbody>\n    <tr>\n      <th>39</th>\n      <td>2021-10-20</td>\n      <td>Full Moon</td>\n    </tr>\n    <tr>\n      <th>40</th>\n      <td>2021-11-11</td>\n      <td>First Quarter</td>\n    </tr>\n    <tr>\n      <th>41</th>\n      <td>2021-11-04</td>\n      <td>New Moon</td>\n    </tr>\n    <tr>\n      <th>42</th>\n      <td>2021-10-28</td>\n      <td>Third Quarter</td>\n    </tr>\n    <tr>\n      <th>43</th>\n      <td>2021-11-19</td>\n      <td>Full Moon</td>\n    </tr>\n    <tr>\n      <th>44</th>\n      <td>2021-12-11</td>\n      <td>First Quarter</td>\n    </tr>\n    <tr>\n      <th>45</th>\n      <td>2021-12-04</td>\n      <td>New Moon</td>\n    </tr>\n    <tr>\n      <th>46</th>\n      <td>2021-11-27</td>\n      <td>Third Quarter</td>\n    </tr>\n    <tr>\n      <th>47</th>\n      <td>2021-12-19</td>\n      <td>Full Moon</td>\n    </tr>\n    <tr>\n      <th>50</th>\n      <td>2021-12-27</td>\n      <td>Third Quarter</td>\n    </tr>\n  </tbody>\n</table>\n</div>"
     },
     "execution_count": 8,
     "metadata": {},
     "output_type": "execute_result"
    }
   ],
   "source": [
    "print(\"File Mond Phasen 2021 Dimensionen: \"+ str(moon_2021.shape))\n",
    "moon_2021.tail(10)"
   ],
   "metadata": {
    "collapsed": false,
    "pycharm": {
     "name": "#%%\n"
    }
   }
  },
  {
   "cell_type": "code",
   "execution_count": 9,
   "outputs": [
    {
     "name": "stdout",
     "output_type": "stream",
     "text": [
      "File Mond Phasen 2022 Dimensionen: (50, 2)\n"
     ]
    },
    {
     "data": {
      "text/plain": "         date     Moon Phase\n40 2022-11-01  First Quarter\n41 2022-10-25       New Moon\n42 2022-11-16  Third Quarter\n43 2022-11-08      Full Moon\n44 2022-11-30  First Quarter\n45 2022-11-23       New Moon\n46 2022-12-16  Third Quarter\n47 2022-12-08      Full Moon\n48 2022-12-30  First Quarter\n49 2022-12-23       New Moon",
      "text/html": "<div>\n<style scoped>\n    .dataframe tbody tr th:only-of-type {\n        vertical-align: middle;\n    }\n\n    .dataframe tbody tr th {\n        vertical-align: top;\n    }\n\n    .dataframe thead th {\n        text-align: right;\n    }\n</style>\n<table border=\"1\" class=\"dataframe\">\n  <thead>\n    <tr style=\"text-align: right;\">\n      <th></th>\n      <th>date</th>\n      <th>Moon Phase</th>\n    </tr>\n  </thead>\n  <tbody>\n    <tr>\n      <th>40</th>\n      <td>2022-11-01</td>\n      <td>First Quarter</td>\n    </tr>\n    <tr>\n      <th>41</th>\n      <td>2022-10-25</td>\n      <td>New Moon</td>\n    </tr>\n    <tr>\n      <th>42</th>\n      <td>2022-11-16</td>\n      <td>Third Quarter</td>\n    </tr>\n    <tr>\n      <th>43</th>\n      <td>2022-11-08</td>\n      <td>Full Moon</td>\n    </tr>\n    <tr>\n      <th>44</th>\n      <td>2022-11-30</td>\n      <td>First Quarter</td>\n    </tr>\n    <tr>\n      <th>45</th>\n      <td>2022-11-23</td>\n      <td>New Moon</td>\n    </tr>\n    <tr>\n      <th>46</th>\n      <td>2022-12-16</td>\n      <td>Third Quarter</td>\n    </tr>\n    <tr>\n      <th>47</th>\n      <td>2022-12-08</td>\n      <td>Full Moon</td>\n    </tr>\n    <tr>\n      <th>48</th>\n      <td>2022-12-30</td>\n      <td>First Quarter</td>\n    </tr>\n    <tr>\n      <th>49</th>\n      <td>2022-12-23</td>\n      <td>New Moon</td>\n    </tr>\n  </tbody>\n</table>\n</div>"
     },
     "execution_count": 9,
     "metadata": {},
     "output_type": "execute_result"
    }
   ],
   "source": [
    "print(\"File Mond Phasen 2022 Dimensionen: \"+ str(moon_2022.shape))\n",
    "moon_2022.tail(10)"
   ],
   "metadata": {
    "collapsed": false,
    "pycharm": {
     "name": "#%%\n"
    }
   }
  },
  {
   "cell_type": "code",
   "execution_count": 10,
   "outputs": [
    {
     "data": {
      "text/plain": "(99, 2)"
     },
     "execution_count": 10,
     "metadata": {},
     "output_type": "execute_result"
    }
   ],
   "source": [
    "# combined\n",
    "combined_moon = moon_2021.merge(moon_2022, how='outer',on=['date','Moon Phase'])\n",
    "combined_moon.shape\n",
    "\n"
   ],
   "metadata": {
    "collapsed": false,
    "pycharm": {
     "name": "#%%\n"
    }
   }
  },
  {
   "cell_type": "code",
   "execution_count": 11,
   "outputs": [],
   "source": [
    "\n",
    "sdate = datetime.date(2021, 12, 11)\n",
    "edate = datetime.date(2022, 6, 20)\n",
    "all_dates = pd.DataFrame(pd.date_range(sdate, edate), columns=['date'])\n",
    "\n",
    "## from the all_dates DataFrame, left join onto the DataFrame with missing dates\n",
    "combined_moon = all_dates.merge(right=combined_moon, how='left', on='date')\n",
    "combined_moon['Moon Phase'].ffill(limit=2, inplace=True)\n",
    "combined_moon['Moon Phase'].bfill(limit=2, inplace=True)\n",
    "\n",
    "combined_moon.to_csv('prepared/moon.csv')"
   ],
   "metadata": {
    "collapsed": false,
    "pycharm": {
     "name": "#%%\n"
    }
   }
  },
  {
   "cell_type": "code",
   "execution_count": 12,
   "outputs": [
    {
     "data": {
      "text/plain": "(192, 2)"
     },
     "execution_count": 12,
     "metadata": {},
     "output_type": "execute_result"
    }
   ],
   "source": [
    "combined_moon.shape"
   ],
   "metadata": {
    "collapsed": false,
    "pycharm": {
     "name": "#%%\n"
    }
   }
  },
  {
   "cell_type": "markdown",
   "source": [
    "### 1.3 Erste Visualisierungen"
   ],
   "metadata": {
    "collapsed": false,
    "pycharm": {
     "name": "#%% md\n"
    }
   }
  },
  {
   "cell_type": "code",
   "execution_count": 13,
   "outputs": [
    {
     "data": {
      "text/plain": "<AxesSubplot:xlabel='Moon Phase', ylabel='count'>"
     },
     "execution_count": 13,
     "metadata": {},
     "output_type": "execute_result"
    },
    {
     "data": {
      "text/plain": "<Figure size 432x288 with 1 Axes>",
      "image/png": "[encoded data removed]"
     },
     "metadata": {},
     "output_type": "display_data"
    }
   ],
   "source": [
    "sns.countplot(data=moon_2021, x='Moon Phase')"
   ],
   "metadata": {
    "collapsed": false,
    "pycharm": {
     "name": "#%%\n"
    }
   }
  },
  {
   "cell_type": "code",
   "execution_count": 14,
   "outputs": [
    {
     "data": {
      "text/html": "\n<div id=\"altair-viz-a3328de2dc894129a186ea0405805445\"></div>\n<script type=\"text/javascript\">\n  var VEGA_DEBUG = (typeof VEGA_DEBUG == \"undefined\") ? {} : VEGA_DEBUG;\n  (function(spec, embedOpt){\n    let outputDiv = document.currentScript.previousElementSibling;\n    if (outputDiv.id !== \"altair-viz-a3328de2dc894129a186ea0405805445\") {\n      outputDiv = document.getElementById(\"altair-viz-a3328de2dc894129a186ea0405805445\");\n    }\n    const paths = {\n      \"vega\": \"https://cdn.jsdelivr.net/npm//vega@5?noext\",\n      \"vega-lib\": \"https://cdn.jsdelivr.net/npm//vega-lib?noext\",\n      \"vega-lite\": \"https://cdn.jsdelivr.net/npm//vega-lite@4.17.0?noext\",\n      \"vega-embed\": \"https://cdn.jsdelivr.net/npm//vega-embed@6?noext\",\n    };\n\n    function maybeLoadScript(lib, version) {\n      var key = `${lib.replace(\"-\", \"\")}_version`;\n      return (VEGA_DEBUG[key] == version) ?\n        Promise.resolve(paths[lib]) :\n        new Promise(function(resolve, reject) {\n          var s = document.createElement('script');\n          document.getElementsByTagName(\"head\")[0].appendChild(s);\n          s.async = true;\n          s.onload = () => {\n            VEGA_DEBUG[key] = version;\n            return resolve(paths[lib]);\n          };\n          s.onerror = () => reject(`Error loading script: ${paths[lib]}`);\n          s.src = paths[lib];\n        });\n    }\n\n    function showError(err) {\n      outputDiv.innerHTML = `<div class=\"error\" style=\"color:red;\">${err}</div>`;\n      throw err;\n    }\n\n    function displayChart(vegaEmbed) {\n      vegaEmbed(outputDiv, spec, embedOpt)\n        .catch(err => showError(`Javascript Error: ${err.message}<br>This usually means there's a typo in your chart specification. See the javascript console for the full traceback.`));\n    }\n\n    if(typeof define === \"function\" && define.amd) {\n      requirejs.config({paths});\n      require([\"vega-embed\"], displayChart, err => showError(`Error loading script: ${err.message}`));\n    } else {\n      maybeLoadScript(\"vega\", \"5\")\n        .then(() => maybeLoadScript(\"vega-lite\", \"4.17.0\"))\n        .then(() => maybeLoadScript(\"vega-embed\", \"6\"))\n        .catch(showError)\n        .then(() => displayChart(vegaEmbed));\n    }\n  })({\"config\": {\"view\": {\"continuousWidth\": 400, \"continuousHeight\": 300}}, \"data\": {\"name\": \"data-bc8c58c13129830526b8fed0cd5f279e\"}, \"mark\": \"circle\", \"encoding\": {\"color\": {\"field\": \"Moon Phase\", \"type\": \"nominal\"}, \"x\": {\"field\": \"date\", \"type\": \"temporal\"}, \"y\": {\"field\": \"Moon Phase\", \"type\": \"nominal\"}}, \"$schema\": \"https://vega.github.io/schema/vega-lite/v4.17.0.json\", \"datasets\": {\"data-bc8c58c13129830526b8fed0cd5f279e\": [{\"date\": \"2021-01-20T00:00:00\", \"Moon Phase\": \"First Quarter\"}, {\"date\": \"2021-01-13T00:00:00\", \"Moon Phase\": \"New Moon\"}, {\"date\": \"2021-01-06T00:00:00\", \"Moon Phase\": \"Third Quarter\"}, {\"date\": \"2021-01-28T00:00:00\", \"Moon Phase\": \"Full Moon\"}, {\"date\": \"2021-02-19T00:00:00\", \"Moon Phase\": \"First Quarter\"}, {\"date\": \"2021-02-11T00:00:00\", \"Moon Phase\": \"New Moon\"}, {\"date\": \"2021-02-04T00:00:00\", \"Moon Phase\": \"Third Quarter\"}, {\"date\": \"2021-02-27T00:00:00\", \"Moon Phase\": \"Full Moon\"}, {\"date\": \"2021-03-21T00:00:00\", \"Moon Phase\": \"First Quarter\"}, {\"date\": \"2021-03-13T00:00:00\", \"Moon Phase\": \"New Moon\"}, {\"date\": \"2021-03-06T00:00:00\", \"Moon Phase\": \"Third Quarter\"}, {\"date\": \"2021-03-28T00:00:00\", \"Moon Phase\": \"Full Moon\"}, {\"date\": \"2021-04-20T00:00:00\", \"Moon Phase\": \"First Quarter\"}, {\"date\": \"2021-04-12T00:00:00\", \"Moon Phase\": \"New Moon\"}, {\"date\": \"2021-04-04T00:00:00\", \"Moon Phase\": \"Third Quarter\"}, {\"date\": \"2021-04-27T00:00:00\", \"Moon Phase\": \"Full Moon\"}, {\"date\": \"2021-05-19T00:00:00\", \"Moon Phase\": \"First Quarter\"}, {\"date\": \"2021-05-11T00:00:00\", \"Moon Phase\": \"New Moon\"}, {\"date\": \"2021-05-03T00:00:00\", \"Moon Phase\": \"Third Quarter\"}, {\"date\": \"2021-05-26T00:00:00\", \"Moon Phase\": \"Full Moon\"}, {\"date\": \"2021-06-18T00:00:00\", \"Moon Phase\": \"First Quarter\"}, {\"date\": \"2021-06-10T00:00:00\", \"Moon Phase\": \"New Moon\"}, {\"date\": \"2021-06-02T00:00:00\", \"Moon Phase\": \"Third Quarter\"}, {\"date\": \"2021-06-24T00:00:00\", \"Moon Phase\": \"Full Moon\"}, {\"date\": \"2021-07-17T00:00:00\", \"Moon Phase\": \"First Quarter\"}, {\"date\": \"2021-07-10T00:00:00\", \"Moon Phase\": \"New Moon\"}, {\"date\": \"2021-07-01T00:00:00\", \"Moon Phase\": \"Third Quarter\"}, {\"date\": \"2021-07-24T00:00:00\", \"Moon Phase\": \"Full Moon\"}, {\"date\": \"2021-08-15T00:00:00\", \"Moon Phase\": \"First Quarter\"}, {\"date\": \"2021-08-08T00:00:00\", \"Moon Phase\": \"New Moon\"}, {\"date\": \"2021-07-31T00:00:00\", \"Moon Phase\": \"Third Quarter\"}, {\"date\": \"2021-08-22T00:00:00\", \"Moon Phase\": \"Full Moon\"}, {\"date\": \"2021-09-13T00:00:00\", \"Moon Phase\": \"First Quarter\"}, {\"date\": \"2021-09-07T00:00:00\", \"Moon Phase\": \"New Moon\"}, {\"date\": \"2021-08-30T00:00:00\", \"Moon Phase\": \"Third Quarter\"}, {\"date\": \"2021-09-21T00:00:00\", \"Moon Phase\": \"Full Moon\"}, {\"date\": \"2021-10-13T00:00:00\", \"Moon Phase\": \"First Quarter\"}, {\"date\": \"2021-10-06T00:00:00\", \"Moon Phase\": \"New Moon\"}, {\"date\": \"2021-09-29T00:00:00\", \"Moon Phase\": \"Third Quarter\"}, {\"date\": \"2021-10-20T00:00:00\", \"Moon Phase\": \"Full Moon\"}, {\"date\": \"2021-11-11T00:00:00\", \"Moon Phase\": \"First Quarter\"}, {\"date\": \"2021-11-04T00:00:00\", \"Moon Phase\": \"New Moon\"}, {\"date\": \"2021-10-28T00:00:00\", \"Moon Phase\": \"Third Quarter\"}, {\"date\": \"2021-11-19T00:00:00\", \"Moon Phase\": \"Full Moon\"}, {\"date\": \"2021-12-11T00:00:00\", \"Moon Phase\": \"First Quarter\"}, {\"date\": \"2021-12-04T00:00:00\", \"Moon Phase\": \"New Moon\"}, {\"date\": \"2021-11-27T00:00:00\", \"Moon Phase\": \"Third Quarter\"}, {\"date\": \"2021-12-19T00:00:00\", \"Moon Phase\": \"Full Moon\"}, {\"date\": \"2021-12-27T00:00:00\", \"Moon Phase\": \"Third Quarter\"}]}}, {\"mode\": \"vega-lite\"});\n</script>",
      "text/plain": "alt.Chart(...)"
     },
     "execution_count": 14,
     "metadata": {},
     "output_type": "execute_result"
    }
   ],
   "source": [
    "from altair.utils.data import to_values\n",
    "\n",
    "alt.Chart.from_dict({\n",
    "    \"data\": to_values(moon_2021),\n",
    "    \"mark\": \"circle\",\n",
    "    \"encoding\": {\n",
    "        \"x\": {\n",
    "            \"field\": \"date\",\n",
    "            \"type\": \"temporal\",\n",
    "        },\n",
    "        \"color\": {\n",
    "            \"field\": \"Moon Phase\",\n",
    "            \"type\": \"nominal\"\n",
    "        },\n",
    "         \"y\": {\n",
    "            \"field\": \"Moon Phase\",\n",
    "            \"type\": \"nominal\",\n",
    "        }\n",
    "    }\n",
    "})"
   ],
   "metadata": {
    "collapsed": false,
    "pycharm": {
     "name": "#%%\n"
    }
   }
  },
  {
   "cell_type": "markdown",
   "source": [
    "Die Mond-Phasen sind verteilt wie erwaret."
   ],
   "metadata": {
    "collapsed": false,
    "pycharm": {
     "name": "#%% md\n"
    }
   }
  },
  {
   "cell_type": "markdown",
   "source": [
    "## 2. Fitbit - Average Heart Rate"
   ],
   "metadata": {
    "collapsed": false,
    "pycharm": {
     "name": "#%% md\n"
    }
   }
  },
  {
   "cell_type": "markdown",
   "source": [
    "### 2.1 Datenaufbereitung"
   ],
   "metadata": {
    "collapsed": false,
    "pycharm": {
     "name": "#%% md\n"
    }
   }
  },
  {
   "cell_type": "code",
   "execution_count": 15,
   "outputs": [],
   "source": [
    "def get_bpm(row):\n",
    "    entry = row['value']\n",
    "    return entry['bpm']\n",
    "\n",
    "def get_confidence(row):\n",
    "    value = row['value']\n",
    "    return value['confidence']"
   ],
   "metadata": {
    "collapsed": false,
    "pycharm": {
     "name": "#%%\n"
    }
   }
  },
  {
   "cell_type": "code",
   "execution_count": 16,
   "outputs": [],
   "source": [
    "\n",
    "# does not respect confidence yet (confidence 3 is best, 0 is lowest)\n",
    "def process_heart_df(dataframe):\n",
    "    dataframe['date'] = pd.to_datetime(dataframe['dateTime']).dt.date\n",
    "    dataframe.drop(columns=['dateTime'], inplace=True)\n",
    "    dataframe['bpm'] = dataframe.apply(get_bpm, axis=1)\n",
    "    dataframe['confidence'] = dataframe.apply(get_confidence, axis=1)\n",
    "    dataframe = dataframe[dataframe.confidence > 2]\n",
    "    dataframe.drop(columns=['value'], inplace=True)\n",
    "    dataframe = dataframe.groupby('date', sort=False)['bpm'].mean().reset_index()\n",
    "    return dataframe"
   ],
   "metadata": {
    "collapsed": false,
    "pycharm": {
     "name": "#%%\n"
    }
   }
  },
  {
   "cell_type": "code",
   "execution_count": null,
   "outputs": [],
   "source": [
    "# care, this takes a while - grab a coffee\n",
    "\n",
    "heart_path = os.path.abspath(\"raw/heart\")\n",
    "heart_filenames = glob.glob(heart_path + \"/*.json\")\n",
    "dfs = []\n",
    "\n",
    "for filename in heart_filenames:\n",
    "    read = pd.read_json(filename)\n",
    "    df = process_heart_df(read)\n",
    "    dfs.append(df)\n",
    "\n",
    "heart = pd.concat(dfs)\n",
    "heart.reset_index(drop=True, inplace=True)\n",
    "\n",
    "heart['date'] = pd.to_datetime(heart[\"date\"])\n"
   ],
   "metadata": {
    "collapsed": false,
    "pycharm": {
     "name": "#%%\n",
     "is_executing": true
    }
   }
  },
  {
   "cell_type": "code",
   "execution_count": null,
   "outputs": [],
   "source": [
    "heart = heart.groupby(['date']).mean()\n",
    "print(heart.shape)"
   ],
   "metadata": {
    "collapsed": false,
    "pycharm": {
     "name": "#%%\n",
     "is_executing": true
    }
   }
  },
  {
   "cell_type": "markdown",
   "source": [
    "### 2.2 Fertiger Datensatz"
   ],
   "metadata": {
    "collapsed": false,
    "pycharm": {
     "name": "#%% md\n"
    }
   }
  },
  {
   "cell_type": "code",
   "execution_count": null,
   "outputs": [],
   "source": [
    "heart.rename(columns={'bpm':'avg_bpm'}, inplace=True)\n",
    "heart.to_csv('prepared/heart.csv')\n",
    "print(\"File Heart Rate Dimensionen: \"+ str(heart.shape))\n",
    "heart.tail(10)"
   ],
   "metadata": {
    "collapsed": false,
    "pycharm": {
     "name": "#%%\n",
     "is_executing": true
    }
   }
  },
  {
   "cell_type": "markdown",
   "source": [
    "### 2.3 Erste Visualisierungen"
   ],
   "metadata": {
    "collapsed": false,
    "pycharm": {
     "name": "#%% md\n"
    }
   }
  },
  {
   "cell_type": "code",
   "source": [
    "sns.histplot(data=heart)"
   ],
   "metadata": {
    "collapsed": false,
    "pycharm": {
     "name": "#%%\n",
     "is_executing": true
    }
   },
   "execution_count": null,
   "outputs": []
  },
  {
   "cell_type": "markdown",
   "source": [
    "Die häufigsten durchschnittlichen Vorkommnisse sind zwischen 55-65 bpm. Das scheint okay zu sein.\n",
    "Die Ober- (ca. 75) und Untergrenzen (ca. 50) scheinen auch gut möglich."
   ],
   "metadata": {
    "collapsed": false,
    "pycharm": {
     "name": "#%% md\n"
    }
   }
  },
  {
   "cell_type": "markdown",
   "source": [
    "## 3. Fitbit - Temperatur Abweichungen"
   ],
   "metadata": {
    "collapsed": false,
    "pycharm": {
     "name": "#%% md\n"
    }
   }
  },
  {
   "cell_type": "markdown",
   "source": [
    "### 3.1 Datenaufbereitung"
   ],
   "metadata": {
    "collapsed": false,
    "pycharm": {
     "name": "#%% md\n"
    }
   }
  },
  {
   "cell_type": "code",
   "execution_count": null,
   "outputs": [],
   "source": [
    "\n",
    "def process_temp_df(dataframe):\n",
    "    dataframe.drop(columns=['sensor_type'], inplace=True)\n",
    "    dataframe['date'] = pd.to_datetime(dataframe['recorded_time']).dt.date\n",
    "    dataframe.drop(columns=['recorded_time'], inplace=True)\n",
    "    dataframe = dataframe.groupby('date', sort=False)['temperature'].mean().reset_index()\n",
    "    return dataframe"
   ],
   "metadata": {
    "collapsed": false,
    "pycharm": {
     "name": "#%%\n",
     "is_executing": true
    }
   }
  },
  {
   "cell_type": "code",
   "execution_count": null,
   "outputs": [],
   "source": [
    "# care, this takes a while - grab a coffee\n",
    "\n",
    "temp_path = os.path.abspath(\"raw/temp\")\n",
    "temp_filenames = glob.glob(temp_path + \"/*.csv\")\n",
    "temp_dfs = []\n",
    "\n",
    "for filename in temp_filenames:\n",
    "    read = pd.read_csv(filename)\n",
    "    processed = process_temp_df(read)\n",
    "    temp_dfs.append(processed)\n",
    "\n",
    "temp = pd.concat(temp_dfs)\n",
    "temp.reset_index(drop=True, inplace=True)\n",
    "temp['date'] = pd.to_datetime(temp[\"date\"])\n",
    "temp.rename(columns={'temperature':'temp_delta'}, inplace=True)\n"
   ],
   "metadata": {
    "collapsed": false,
    "pycharm": {
     "name": "#%%\n",
     "is_executing": true
    }
   }
  },
  {
   "cell_type": "code",
   "execution_count": null,
   "outputs": [],
   "source": [
    "temp.head()"
   ],
   "metadata": {
    "collapsed": false,
    "pycharm": {
     "name": "#%%\n",
     "is_executing": true
    }
   }
  },
  {
   "cell_type": "markdown",
   "source": [
    "### 3.2 Fertiger Datensatz"
   ],
   "metadata": {
    "collapsed": false,
    "pycharm": {
     "name": "#%% md\n"
    }
   }
  },
  {
   "cell_type": "code",
   "execution_count": null,
   "outputs": [],
   "source": [
    "baseline_temp = 33\n",
    "temp['skin_temp_avg'] = temp['temp_delta'].apply(lambda x: baseline_temp+x)\n",
    "temp.drop(columns=['temp_delta'], inplace=True)\n",
    "\n",
    "temp.to_csv('prepared/temp.csv')\n",
    "temp.tail(10)"
   ],
   "metadata": {
    "collapsed": false,
    "pycharm": {
     "name": "#%%\n",
     "is_executing": true
    }
   }
  },
  {
   "cell_type": "markdown",
   "source": [
    "### 3.3 Erste Visualisierungen"
   ],
   "metadata": {
    "collapsed": false,
    "pycharm": {
     "name": "#%% md\n"
    }
   }
  },
  {
   "cell_type": "code",
   "execution_count": null,
   "outputs": [],
   "source": [
    "sns.histplot(data=temp)"
   ],
   "metadata": {
    "collapsed": false,
    "pycharm": {
     "name": "#%%\n",
     "is_executing": true
    }
   }
  },
  {
   "cell_type": "markdown",
   "source": [
    "Die häufigsten durchschnittlichen Vorkommnisse sind rund um 31 Grad Celsius, dies scheint normal zu sein für Haupttemperatur. Diese Daten streuen auch nicht sehr weit, was ein wichtiges Zeichen ist."
   ],
   "metadata": {
    "collapsed": false,
    "pycharm": {
     "name": "#%% md\n"
    }
   }
  },
  {
   "cell_type": "markdown",
   "source": [
    "## 4. Fitbit - Sleep Score"
   ],
   "metadata": {
    "collapsed": false,
    "pycharm": {
     "name": "#%% md\n"
    }
   }
  },
  {
   "cell_type": "markdown",
   "source": [
    "### 4.1 Datenaufbereitung"
   ],
   "metadata": {
    "collapsed": false,
    "pycharm": {
     "name": "#%% md\n"
    }
   }
  },
  {
   "cell_type": "code",
   "execution_count": null,
   "outputs": [],
   "source": [
    "sleep = pd.read_csv('raw/sleep/sleep_score.csv')\n",
    "sleep.sample(frac=1)\n",
    "sleep.drop(columns=['sleep_log_entry_id'], inplace=True)\n",
    "\n",
    "sleep['date'] = pd.to_datetime(sleep['timestamp']).dt.date\n",
    "sleep.drop(columns=['timestamp'], inplace=True)\n",
    "sleep['date'] = pd.to_datetime(sleep[\"date\"])\n"
   ],
   "metadata": {
    "collapsed": false,
    "pycharm": {
     "name": "#%%\n",
     "is_executing": true
    }
   }
  },
  {
   "cell_type": "code",
   "execution_count": null,
   "outputs": [],
   "source": [
    "sleep.head()"
   ],
   "metadata": {
    "collapsed": false,
    "pycharm": {
     "name": "#%%\n",
     "is_executing": true
    }
   }
  },
  {
   "cell_type": "code",
   "execution_count": null,
   "outputs": [],
   "source": [
    "sleep.shape"
   ],
   "metadata": {
    "collapsed": false,
    "pycharm": {
     "name": "#%%\n",
     "is_executing": true
    }
   }
  },
  {
   "cell_type": "markdown",
   "source": [
    "### 4.2 Fertiger Datensatz"
   ],
   "metadata": {
    "collapsed": false,
    "pycharm": {
     "name": "#%% md\n"
    }
   }
  },
  {
   "cell_type": "code",
   "execution_count": null,
   "outputs": [],
   "source": [
    "sleep.to_csv('prepared/sleep.csv')\n",
    "print(\"Sleep File Dimensionen: \"+ str(sleep.shape))"
   ],
   "metadata": {
    "collapsed": false,
    "pycharm": {
     "name": "#%%\n",
     "is_executing": true
    }
   }
  },
  {
   "cell_type": "markdown",
   "source": [
    "### 4.3 Erste Visualisierungen"
   ],
   "metadata": {
    "collapsed": false,
    "pycharm": {
     "name": "#%% md\n"
    }
   },
   "execution_count": 126
  },
  {
   "cell_type": "code",
   "execution_count": null,
   "outputs": [],
   "source": [
    "sns.pairplot(sleep)\n",
    "\n"
   ],
   "metadata": {
    "collapsed": false,
    "pycharm": {
     "name": "#%%\n",
     "is_executing": true
    }
   }
  },
  {
   "cell_type": "code",
   "execution_count": null,
   "outputs": [],
   "source": [
    "corr = sleep.corr()\n",
    "corr.style.background_gradient(cmap='coolwarm')"
   ],
   "metadata": {
    "collapsed": false,
    "pycharm": {
     "name": "#%%\n",
     "is_executing": true
    }
   }
  },
  {
   "cell_type": "markdown",
   "source": [
    "# Comparing + Combination of Datasets"
   ],
   "metadata": {
    "collapsed": false,
    "pycharm": {
     "name": "#%% md\n"
    }
   }
  },
  {
   "cell_type": "code",
   "execution_count": null,
   "outputs": [],
   "source": [
    "def pp_shape(df, name):\n",
    "    print(\"Dataframe \"+ name+\" has a shape of \"+   str((df.shape)))\n",
    "\n",
    "pp_shape(combined_moon, \"moon\")\n",
    "pp_shape(heart, \"heart rate\")\n",
    "pp_shape(temp, \"temperature\")\n",
    "pp_shape(sleep, \"sleep\")"
   ],
   "metadata": {
    "collapsed": false,
    "pycharm": {
     "name": "#%%\n",
     "is_executing": true
    }
   }
  },
  {
   "cell_type": "code",
   "execution_count": null,
   "outputs": [],
   "source": [
    "temp_sleep = temp.merge(sleep, on='date', how='left')\n",
    "print(temp_sleep.shape)\n",
    "temp_sleep.head(5)"
   ],
   "metadata": {
    "collapsed": false,
    "pycharm": {
     "name": "#%%\n",
     "is_executing": true
    }
   }
  },
  {
   "cell_type": "code",
   "execution_count": null,
   "outputs": [],
   "source": [
    "fitbit_data = temp_sleep.merge(heart, on='date', how='left')\n",
    "fitbit_data.to_csv('prepared/fitbit_data.csv')\n",
    "fitbit_data.shape"
   ],
   "metadata": {
    "collapsed": false,
    "pycharm": {
     "name": "#%%\n",
     "is_executing": true
    }
   }
  },
  {
   "cell_type": "code",
   "execution_count": null,
   "outputs": [],
   "source": [
    "fitbit_data.sample(frac=1)"
   ],
   "metadata": {
    "collapsed": false,
    "pycharm": {
     "name": "#%%\n",
     "is_executing": true
    }
   }
  },
  {
   "cell_type": "code",
   "execution_count": null,
   "outputs": [],
   "source": [
    "sns.pairplot(fitbit_data)"
   ],
   "metadata": {
    "collapsed": false,
    "pycharm": {
     "name": "#%%\n",
     "is_executing": true
    }
   }
  },
  {
   "cell_type": "code",
   "execution_count": null,
   "outputs": [],
   "source": [
    "fitbit_data.to_csv('prepared/prepared-fitbit.csv')"
   ],
   "metadata": {
    "collapsed": false,
    "pycharm": {
     "name": "#%%\n",
     "is_executing": true
    }
   }
  },
  {
   "cell_type": "code",
   "execution_count": null,
   "outputs": [],
   "source": [
    "corr2 = fitbit_data.corr()\n",
    "corr2.style.background_gradient(cmap='coolwarm')"
   ],
   "metadata": {
    "collapsed": false,
    "pycharm": {
     "name": "#%%\n",
     "is_executing": true
    }
   }
  },
  {
   "cell_type": "code",
   "execution_count": null,
   "outputs": [],
   "source": [
    "sns.scatterplot(x=fitbit_data['date'], y=fitbit_data['deep_sleep_in_minutes'])\n"
   ],
   "metadata": {
    "collapsed": false,
    "pycharm": {
     "name": "#%%\n",
     "is_executing": true
    }
   }
  },
  {
   "cell_type": "code",
   "execution_count": null,
   "outputs": [],
   "source": [
    "fitbit_data['date'] = pd.to_datetime(fitbit_data[\"date\"])\n",
    "alt.Chart.from_dict({\n",
    "    \"data\": to_values(fitbit_data),\n",
    "    \"mark\": \"circle\",\n",
    "    \"encoding\": {\n",
    "        \"x\": {\n",
    "            \"field\": \"date\",\n",
    "            \"type\": \"temporal\",\n",
    "        },\n",
    "        \"color\": {\n",
    "            \"field\": \"deep_sleep_in_minutes\",\n",
    "            \"type\": \"quantitative\",\n",
    "        },\n",
    "         \"y\": {\n",
    "            \"field\": \"deep_sleep_in_minutes\",\n",
    "            \"type\": \"quantitative\",\n",
    "        }\n",
    "    }\n",
    "})"
   ],
   "metadata": {
    "collapsed": false,
    "pycharm": {
     "name": "#%%\n",
     "is_executing": true
    }
   }
  },
  {
   "cell_type": "code",
   "execution_count": null,
   "outputs": [],
   "source": [
    "fitbit_data.head()"
   ],
   "metadata": {
    "collapsed": false,
    "pycharm": {
     "name": "#%%\n",
     "is_executing": true
    }
   }
  },
  {
   "cell_type": "code",
   "execution_count": null,
   "outputs": [],
   "source": [
    "fitbit_data.shape"
   ],
   "metadata": {
    "collapsed": false,
    "pycharm": {
     "name": "#%%\n",
     "is_executing": true
    }
   }
  },
  {
   "cell_type": "markdown",
   "source": [
    "## Combination of Moon and FitBitData"
   ],
   "metadata": {
    "collapsed": false,
    "pycharm": {
     "name": "#%% md\n"
    }
   }
  },
  {
   "cell_type": "code",
   "execution_count": null,
   "outputs": [],
   "source": [
    "fitbit_data_moon = fitbit_data.merge(combined_moon, on='date', how='left')\n",
    "fitbit_data_moon.shape\n"
   ],
   "metadata": {
    "collapsed": false,
    "pycharm": {
     "name": "#%%\n",
     "is_executing": true
    }
   }
  },
  {
   "cell_type": "code",
   "execution_count": null,
   "outputs": [],
   "source": [
    "fitbit_data_moon.head(20)"
   ],
   "metadata": {
    "collapsed": false,
    "pycharm": {
     "name": "#%%\n",
     "is_executing": true
    }
   }
  },
  {
   "cell_type": "code",
   "execution_count": null,
   "outputs": [],
   "source": [
    "fitbit_data_moon.to_csv('prepared/fitbit_data_moon.csv')"
   ],
   "metadata": {
    "collapsed": false,
    "pycharm": {
     "name": "#%%\n",
     "is_executing": true
    }
   }
  },
  {
   "cell_type": "code",
   "execution_count": null,
   "outputs": [],
   "source": [
    "crisp_moon = fitbit_data_moon.copy()"
   ],
   "metadata": {
    "collapsed": false,
    "pycharm": {
     "name": "#%%\n",
     "is_executing": true
    }
   }
  },
  {
   "cell_type": "code",
   "execution_count": null,
   "outputs": [],
   "source": [
    "crisp_moon.dropna()"
   ],
   "metadata": {
    "collapsed": false,
    "pycharm": {
     "name": "#%%\n",
     "is_executing": true
    }
   }
  },
  {
   "cell_type": "code",
   "execution_count": null,
   "outputs": [],
   "source": [
    "crisp_moon.to_csv('prepared/fitbit_data_moon_crisp.csv')"
   ],
   "metadata": {
    "collapsed": false,
    "pycharm": {
     "name": "#%%\n",
     "is_executing": true
    }
   }
  },
  {
   "cell_type": "code",
   "execution_count": null,
   "outputs": [],
   "source": [
    "crisp_moon.head(10)"
   ],
   "metadata": {
    "collapsed": false,
    "pycharm": {
     "name": "#%%\n",
     "is_executing": true
    }
   }
  },
  {
   "cell_type": "code",
   "execution_count": null,
   "outputs": [],
   "source": [
    "corr2 = crisp_moon.corr()\n",
    "corr2.style.background_gradient(cmap='coolwarm')"
   ],
   "metadata": {
    "collapsed": false,
    "pycharm": {
     "name": "#%%\n",
     "is_executing": true
    }
   }
  },
  {
   "cell_type": "code",
   "execution_count": null,
   "outputs": [],
   "source": [],
   "metadata": {
    "collapsed": false,
    "pycharm": {
     "name": "#%%\n",
     "is_executing": true
    }
   }
  },
  {
   "cell_type": "code",
   "execution_count": null,
   "outputs": [],
   "source": [],
   "metadata": {
    "collapsed": false,
    "pycharm": {
     "name": "#%%\n",
     "is_executing": true
    }
   }
  }
 ],
 "metadata": {
  "kernelspec": {
   "display_name": "Python 3 (ipykernel)",
   "language": "python",
   "name": "python3"
  },
  "language_info": {
   "codemirror_mode": {
    "name": "ipython",
    "version": 3
   },
   "file_extension": ".py",
   "mimetype": "text/x-python",
   "name": "python",
   "nbconvert_exporter": "python",
   "pygments_lexer": "ipython3",
   "version": "3.9.7"
  }
 },
 "nbformat": 4,
 "nbformat_minor": 5
}