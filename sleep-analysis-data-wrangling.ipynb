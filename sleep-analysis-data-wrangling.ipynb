{
 "cells": [
  {
   "cell_type": "code",
   "execution_count": 114,
   "id": "3327f158",
   "metadata": {},
   "outputs": [],
   "source": [
    "import numpy as np\n",
    "import scipy.stats as stats \n",
    "import seaborn as sns\n",
    "import matplotlib.pyplot as plt\n",
    "import pandas as pd\n",
    "import math\n",
    "from scipy.stats import norm\n",
    "import glob\n",
    "import fitbit\n",
    "import requests\n",
    "import datetime\n",
    "from datetime import timedelta\n"
   ]
  },
  {
   "cell_type": "markdown",
   "id": "96a15e56",
   "metadata": {},
   "source": [
    "# CAS Data Science Projekt Sleep Analysis - Data Wrangling"
   ]
  },
  {
   "cell_type": "markdown",
   "source": [
    "## Initiale Datenquellen\n",
    "\n",
    "- 02.04.2022: Mond-Phasen: https://www.timeanddate.de/mond/phasen/ Download von Hand 2021 und 2022 für Ortschaft \"Basel\"\n",
    "- XX.XX.2022: Fitbit Schlafdaten von meinem Account, CSV Export"
   ],
   "metadata": {
    "collapsed": false,
    "pycharm": {
     "name": "#%% md\n"
    }
   }
  },
  {
   "cell_type": "markdown",
   "source": [
    "## Mond Phasen"
   ],
   "metadata": {
    "collapsed": false,
    "pycharm": {
     "name": "#%% md\n"
    }
   }
  },
  {
   "cell_type": "markdown",
   "source": [
    "Ich habe diese zwei kleinen Tabellen (2021, 2022) von Hand in ein Excel bzw. CSV kopiert, da der Aufwand einen Crawler zu schreiben dafür zu gross gewesen wäre. Nun muss ich die Daten in ein geeignetes Format bringen. Grundsätzlich möchte ich pro Datum wissen, welche Mondphase das ist."
   ],
   "metadata": {
    "collapsed": false,
    "pycharm": {
     "name": "#%% md\n"
    }
   }
  },
  {
   "cell_type": "code",
   "execution_count": 121,
   "outputs": [
    {
     "name": "stdout",
     "output_type": "stream",
     "text": [
      "     New Moon First Quarter   Full Moon Third Quarter\n",
      "0  2022-01-13    2022-01-20  2022-01-28    2022-01-06\n",
      "1  2022-02-11    2022-02-19  2022-02-27    2022-02-04\n",
      "2  2022-03-13    2022-03-21  2022-03-28    2022-03-06\n",
      "3  2022-04-12    2022-04-20  2022-04-27    2022-04-04\n",
      "4  2022-05-11    2022-05-19  2022-05-26    2022-05-03\n",
      "     New Moon First Quarter   Full Moon Third Quarter  Unnamed: 4\n",
      "0  2022-01-02    2022-01-09  2022-01-18    2022-01-25         NaN\n",
      "1  2022-02-01    2022-02-08  2022-02-16    2022-02-23         NaN\n",
      "2  2022-03-02    2022-03-10  2022-03-18    2022-03-25         NaN\n",
      "3  2022-04-01    2022-04-09  2022-04-16    2022-04-23         NaN\n",
      "4  2022-04-30    2022-05-09  2022-05-16    2022-05-22         NaN\n"
     ]
    },
    {
     "data": {
      "text/plain": "     New Moon First Quarter   Full Moon Third Quarter\n0  2022-01-02    2022-01-09  2022-01-18    2022-01-25\n1  2022-02-01    2022-02-08  2022-02-16    2022-02-23\n2  2022-03-02    2022-03-10  2022-03-18    2022-03-25\n3  2022-04-01    2022-04-09  2022-04-16    2022-04-23\n4  2022-04-30    2022-05-09  2022-05-16    2022-05-22",
      "text/html": "<div>\n<style scoped>\n    .dataframe tbody tr th:only-of-type {\n        vertical-align: middle;\n    }\n\n    .dataframe tbody tr th {\n        vertical-align: top;\n    }\n\n    .dataframe thead th {\n        text-align: right;\n    }\n</style>\n<table border=\"1\" class=\"dataframe\">\n  <thead>\n    <tr style=\"text-align: right;\">\n      <th></th>\n      <th>New Moon</th>\n      <th>First Quarter</th>\n      <th>Full Moon</th>\n      <th>Third Quarter</th>\n    </tr>\n  </thead>\n  <tbody>\n    <tr>\n      <th>0</th>\n      <td>2022-01-02</td>\n      <td>2022-01-09</td>\n      <td>2022-01-18</td>\n      <td>2022-01-25</td>\n    </tr>\n    <tr>\n      <th>1</th>\n      <td>2022-02-01</td>\n      <td>2022-02-08</td>\n      <td>2022-02-16</td>\n      <td>2022-02-23</td>\n    </tr>\n    <tr>\n      <th>2</th>\n      <td>2022-03-02</td>\n      <td>2022-03-10</td>\n      <td>2022-03-18</td>\n      <td>2022-03-25</td>\n    </tr>\n    <tr>\n      <th>3</th>\n      <td>2022-04-01</td>\n      <td>2022-04-09</td>\n      <td>2022-04-16</td>\n      <td>2022-04-23</td>\n    </tr>\n    <tr>\n      <th>4</th>\n      <td>2022-04-30</td>\n      <td>2022-05-09</td>\n      <td>2022-05-16</td>\n      <td>2022-05-22</td>\n    </tr>\n  </tbody>\n</table>\n</div>"
     },
     "execution_count": 121,
     "metadata": {},
     "output_type": "execute_result"
    }
   ],
   "source": [
    "# read data\n",
    "moon2021_raw = pd.read_csv('data/moon-phases-2021.csv')\n",
    "moon2022_raw = pd.read_csv('data/moon-phases-2022.csv')\n",
    "\n",
    "# have a look\n",
    "print(moon2021_raw.head())\n",
    "print(moon2022_raw.head())\n",
    "\n",
    "# drop unnecessary column\n",
    "moon2022_raw = moon2022_raw.drop(columns={'Unnamed: 4'})\n",
    "\n",
    "# have a look again\n",
    "moon2022_raw.head()"
   ],
   "metadata": {
    "collapsed": false,
    "pycharm": {
     "name": "#%%\n"
    }
   }
  },
  {
   "cell_type": "code",
   "execution_count": 122,
   "outputs": [],
   "source": [
    "\n",
    "def convert_all_dates(df, format):\n",
    "    \"\"\"converts all the strings in the data frame into proper datetime objects\"\"\"\n",
    "\n",
    "    new_moon = 'New Moon'\n",
    "    df[new_moon] = pd.to_datetime(df[new_moon], format=format)\n",
    "    first_quarter = 'First Quarter'\n",
    "    df[first_quarter] = pd.to_datetime(df[first_quarter], format=format)\n",
    "    full_moon = 'Full Moon'\n",
    "    df[full_moon] = pd.to_datetime(df[full_moon], format=format)\n",
    "    third_quarter = 'Third Quarter'\n",
    "    df[third_quarter] = pd.to_datetime(df[third_quarter], format=format)\n",
    "\n",
    "    return df"
   ],
   "metadata": {
    "collapsed": false,
    "pycharm": {
     "name": "#%%\n"
    }
   }
  },
  {
   "cell_type": "code",
   "execution_count": 123,
   "outputs": [
    {
     "name": "stdout",
     "output_type": "stream",
     "text": [
      "New Moon         datetime64[ns]\n",
      "First Quarter    datetime64[ns]\n",
      "Full Moon        datetime64[ns]\n",
      "Third Quarter    datetime64[ns]\n",
      "dtype: object\n",
      "New Moon         datetime64[ns]\n",
      "First Quarter    datetime64[ns]\n",
      "Full Moon        datetime64[ns]\n",
      "Third Quarter    datetime64[ns]\n",
      "dtype: object\n"
     ]
    }
   ],
   "source": [
    "format = '%Y-%m-%d'\n",
    "moon2021_raw = convert_all_dates(moon2021_raw, format)\n",
    "moon2022_raw = convert_all_dates(moon2022_raw, format)\n",
    "\n",
    "print(moon2021_raw.dtypes)\n",
    "print(moon2022_raw.dtypes)"
   ],
   "metadata": {
    "collapsed": false,
    "pycharm": {
     "name": "#%%\n"
    }
   }
  },
  {
   "cell_type": "code",
   "execution_count": 158,
   "outputs": [],
   "source": [
    "def flatten_moon_phases(df):\n",
    "    \"\"\"Flattens the moon phases to dates e.g. 2020-01-01 New Moon\"\"\"\n",
    "    flattened = pd.DataFrame(columns={'Date', 'Moon Phase'})\n",
    "    df = df.reset_index()  # make sure indexes pair with number of rows\n",
    "    for index, row in df.iterrows():\n",
    "\n",
    "        new_moon = {'Date': row['New Moon'], 'Moon Phase': 'New Moon'}\n",
    "        flattened = flattened.append(new_moon, ignore_index = True)\n",
    "\n",
    "        first_quarter = {'Date': row['First Quarter'], 'Moon Phase': 'First Quarter'}\n",
    "        flattened = flattened.append(first_quarter, ignore_index = True)\n",
    "\n",
    "        full_moon = {'Date': row['Full Moon'], 'Moon Phase': 'Full Moon'}\n",
    "        flattened = flattened.append(full_moon, ignore_index = True)\n",
    "\n",
    "        third_quarter = {'Date': row['Third Quarter'], 'Moon Phase': 'Third Quarter'}\n",
    "        flattened = flattened.append(third_quarter, ignore_index = True)\n",
    "\n",
    "        return flattened"
   ],
   "metadata": {
    "collapsed": false,
    "pycharm": {
     "name": "#%%\n"
    }
   }
  },
  {
   "cell_type": "code",
   "execution_count": 162,
   "outputs": [
    {
     "name": "stderr",
     "output_type": "stream",
     "text": [
      "/var/folders/05/dt2l3w6x5vj4rljb35fc6sgr0000gn/T/ipykernel_91807/2948290480.py:7: FutureWarning: The frame.append method is deprecated and will be removed from pandas in a future version. Use pandas.concat instead.\n",
      "  flattened = flattened.append(new_moon, ignore_index = True)\n",
      "/var/folders/05/dt2l3w6x5vj4rljb35fc6sgr0000gn/T/ipykernel_91807/2948290480.py:10: FutureWarning: The frame.append method is deprecated and will be removed from pandas in a future version. Use pandas.concat instead.\n",
      "  flattened = flattened.append(first_quarter, ignore_index = True)\n",
      "/var/folders/05/dt2l3w6x5vj4rljb35fc6sgr0000gn/T/ipykernel_91807/2948290480.py:13: FutureWarning: The frame.append method is deprecated and will be removed from pandas in a future version. Use pandas.concat instead.\n",
      "  flattened = flattened.append(full_moon, ignore_index = True)\n",
      "/var/folders/05/dt2l3w6x5vj4rljb35fc6sgr0000gn/T/ipykernel_91807/2948290480.py:16: FutureWarning: The frame.append method is deprecated and will be removed from pandas in a future version. Use pandas.concat instead.\n",
      "  flattened = flattened.append(third_quarter, ignore_index = True)\n",
      "/var/folders/05/dt2l3w6x5vj4rljb35fc6sgr0000gn/T/ipykernel_91807/2948290480.py:7: FutureWarning: The frame.append method is deprecated and will be removed from pandas in a future version. Use pandas.concat instead.\n",
      "  flattened = flattened.append(new_moon, ignore_index = True)\n",
      "/var/folders/05/dt2l3w6x5vj4rljb35fc6sgr0000gn/T/ipykernel_91807/2948290480.py:10: FutureWarning: The frame.append method is deprecated and will be removed from pandas in a future version. Use pandas.concat instead.\n",
      "  flattened = flattened.append(first_quarter, ignore_index = True)\n",
      "/var/folders/05/dt2l3w6x5vj4rljb35fc6sgr0000gn/T/ipykernel_91807/2948290480.py:13: FutureWarning: The frame.append method is deprecated and will be removed from pandas in a future version. Use pandas.concat instead.\n",
      "  flattened = flattened.append(full_moon, ignore_index = True)\n",
      "/var/folders/05/dt2l3w6x5vj4rljb35fc6sgr0000gn/T/ipykernel_91807/2948290480.py:16: FutureWarning: The frame.append method is deprecated and will be removed from pandas in a future version. Use pandas.concat instead.\n",
      "  flattened = flattened.append(third_quarter, ignore_index = True)\n"
     ]
    },
    {
     "data": {
      "text/plain": "                  Date     Moon Phase\n0  2022-01-02 00:00:00       New Moon\n1  2022-01-09 00:00:00  First Quarter\n2  2022-01-18 00:00:00      Full Moon\n3  2022-01-25 00:00:00  Third Quarter",
      "text/html": "<div>\n<style scoped>\n    .dataframe tbody tr th:only-of-type {\n        vertical-align: middle;\n    }\n\n    .dataframe tbody tr th {\n        vertical-align: top;\n    }\n\n    .dataframe thead th {\n        text-align: right;\n    }\n</style>\n<table border=\"1\" class=\"dataframe\">\n  <thead>\n    <tr style=\"text-align: right;\">\n      <th></th>\n      <th>Date</th>\n      <th>Moon Phase</th>\n    </tr>\n  </thead>\n  <tbody>\n    <tr>\n      <th>0</th>\n      <td>2022-01-02 00:00:00</td>\n      <td>New Moon</td>\n    </tr>\n    <tr>\n      <th>1</th>\n      <td>2022-01-09 00:00:00</td>\n      <td>First Quarter</td>\n    </tr>\n    <tr>\n      <th>2</th>\n      <td>2022-01-18 00:00:00</td>\n      <td>Full Moon</td>\n    </tr>\n    <tr>\n      <th>3</th>\n      <td>2022-01-25 00:00:00</td>\n      <td>Third Quarter</td>\n    </tr>\n  </tbody>\n</table>\n</div>"
     },
     "execution_count": 162,
     "metadata": {},
     "output_type": "execute_result"
    }
   ],
   "source": [
    "moon_2021 = flatten_moon_phases(moon2021_raw)\n",
    "moon_2022 = flatten_moon_phases(moon2022_raw)\n",
    "\n",
    "moon_2022.head()"
   ],
   "metadata": {
    "collapsed": false,
    "pycharm": {
     "name": "#%%\n"
    }
   }
  },
  {
   "cell_type": "code",
   "execution_count": null,
   "outputs": [],
   "source": [],
   "metadata": {
    "collapsed": false,
    "pycharm": {
     "name": "#%%\n"
    }
   }
  },
  {
   "cell_type": "markdown",
   "id": "071f11b6",
   "metadata": {},
   "source": [
    "### Temperature Variation"
   ]
  },
  {
   "cell_type": "code",
   "execution_count": null,
   "outputs": [],
   "source": [
    "def importFiles(path):\n",
    "    all_files = glob.glob(path + \"/*.csv\")\n",
    "    li = []\n",
    "    for filename in all_files:\n",
    "        df = pd.read_csv(filename, index_col=None, header=0)\n",
    "        li.append(df)\n",
    "\n",
    "    return pd.concat(li, axis=0, ignore_index=True)"
   ],
   "metadata": {
    "collapsed": false,
    "pycharm": {
     "name": "#%%\n"
    }
   }
  },
  {
   "cell_type": "code",
   "execution_count": null,
   "id": "be064366",
   "metadata": {},
   "outputs": [],
   "source": [
    "tempVarPath = r'/Users/tamara/GitRepos/chira/cas-datascience-notebooks/Projektideen/MyFitbitData/Tamara/Sleep/Temperature/' # use your path\n",
    "\n",
    "tempVarDf = importFiles(tempVarPath)\n",
    "print(tempVarDf)\n",
    "print(tempVarDf[\"temperature\"].hist())"
   ]
  },
  {
   "cell_type": "markdown",
   "id": "0fde9632",
   "metadata": {},
   "source": [
    "### Computed Temperature"
   ]
  },
  {
   "cell_type": "code",
   "execution_count": null,
   "id": "9fc7eb79",
   "metadata": {},
   "outputs": [],
   "source": [
    "tempVarPath = r'/Users/tamara/GitRepos/chira/cas-datascience-notebooks/Projektideen/MyFitbitData/Tamara/Sleep/Computed Temp/'\n",
    "\n",
    "tempVarDf = importFiles(tempVarPath)\n",
    "print(\"Nightly Temperate (\"+str(tempVarDf[\"nightly_temperature\"].count())+\") samples\")\n",
    "print(tempVarDf[\"nightly_temperature\"].hist(bins = 50))\n",
    "\n",
    "\n",
    "from dateutil import parser\n",
    "import datetime\n",
    "\n",
    "start = tempVarDf[\"sleep_start\"]\n",
    "end = tempVarDf[\"sleep_end\"]\n",
    "time = []\n",
    "\n",
    "print(start)\n",
    "\n",
    "for i in range(0, len(start)):    \n",
    "    # e = datetime.datetime.strptime(end[i], '%y-%m-%dT%H:%M')\n",
    "    e = parser.parse(end[i])\n",
    "    # s = datetime.datetime.strptime(start[i],'%y-%m-%ddT%HG:%MM:%S')\n",
    "    time.append(end[i]-start[i])\n",
    "\n"
   ]
  },
  {
   "cell_type": "code",
   "execution_count": null,
   "id": "303990d5",
   "metadata": {},
   "outputs": [],
   "source": []
  },
  {
   "cell_type": "markdown",
   "id": "7416d5df",
   "metadata": {
    "pycharm": {
     "name": "#%% md\n"
    }
   },
   "source": [
    "# Hilfsfunktionen"
   ]
  },
  {
   "cell_type": "markdown",
   "source": [
    "## Data Wrangling"
   ],
   "metadata": {
    "collapsed": false,
    "pycharm": {
     "name": "#%% md\n"
    }
   }
  },
  {
   "cell_type": "code",
   "execution_count": null,
   "outputs": [],
   "source": [],
   "metadata": {
    "collapsed": false,
    "pycharm": {
     "name": "#%%\n"
    }
   }
  },
  {
   "cell_type": "code",
   "execution_count": null,
   "outputs": [],
   "source": [],
   "metadata": {
    "collapsed": false,
    "pycharm": {
     "name": "#%%\n"
    }
   }
  },
  {
   "cell_type": "code",
   "execution_count": null,
   "outputs": [],
   "source": [],
   "metadata": {
    "collapsed": false,
    "pycharm": {
     "name": "#%%\n"
    }
   }
  },
  {
   "cell_type": "code",
   "execution_count": null,
   "outputs": [],
   "source": [],
   "metadata": {
    "collapsed": false,
    "pycharm": {
     "name": "#%%\n"
    }
   }
  }
 ],
 "metadata": {
  "kernelspec": {
   "display_name": "Python 3 (ipykernel)",
   "language": "python",
   "name": "python3"
  },
  "language_info": {
   "codemirror_mode": {
    "name": "ipython",
    "version": 3
   },
   "file_extension": ".py",
   "mimetype": "text/x-python",
   "name": "python",
   "nbconvert_exporter": "python",
   "pygments_lexer": "ipython3",
   "version": "3.9.7"
  }
 },
 "nbformat": 4,
 "nbformat_minor": 5
}