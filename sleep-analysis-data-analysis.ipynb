{
 "cells": [
  {
   "cell_type": "code",
   "execution_count": 1,
   "id": "3327f158",
   "metadata": {
    "pycharm": {
     "name": "#%%\n"
    }
   },
   "outputs": [],
   "source": [
    "import numpy as np\n",
    "import seaborn as sns\n",
    "import matplotlib.pyplot as plt\n",
    "import pandas as pd\n",
    "import datetime\n",
    "from datetime import timedelta\n",
    "import altair as alt\n",
    "import glob\n",
    "import os"
   ]
  },
  {
   "cell_type": "markdown",
   "id": "6cddfb58",
   "metadata": {
    "pycharm": {
     "name": "#%% md\n"
    }
   },
   "source": [
    "# CAS Data Science Projekt Sleep Analysis - Data Analysis"
   ]
  },
  {
   "cell_type": "code",
   "execution_count": 2,
   "id": "a2d64c84",
   "metadata": {
    "pycharm": {
     "name": "#%%\n"
    }
   },
   "outputs": [],
   "source": [
    "df = pd.read_csv('prepared/fitbit_data_moon_crisp.csv')\n",
    "df.dropna(axis=0, inplace=True)"
   ]
  },
  {
   "cell_type": "code",
   "execution_count": 3,
   "id": "80fb7a24",
   "metadata": {
    "pycharm": {
     "name": "#%%\n"
    }
   },
   "outputs": [
    {
     "data": {
      "text/html": [
       "<div>\n",
       "<style scoped>\n",
       "    .dataframe tbody tr th:only-of-type {\n",
       "        vertical-align: middle;\n",
       "    }\n",
       "\n",
       "    .dataframe tbody tr th {\n",
       "        vertical-align: top;\n",
       "    }\n",
       "\n",
       "    .dataframe thead th {\n",
       "        text-align: right;\n",
       "    }\n",
       "</style>\n",
       "<table border=\"1\" class=\"dataframe\">\n",
       "  <thead>\n",
       "    <tr style=\"text-align: right;\">\n",
       "      <th></th>\n",
       "      <th>Unnamed: 0</th>\n",
       "      <th>date</th>\n",
       "      <th>temperature</th>\n",
       "      <th>overall_score</th>\n",
       "      <th>composition_score</th>\n",
       "      <th>revitalization_score</th>\n",
       "      <th>duration_score</th>\n",
       "      <th>deep_sleep_in_minutes</th>\n",
       "      <th>resting_heart_rate</th>\n",
       "      <th>restlessness</th>\n",
       "      <th>bpm</th>\n",
       "      <th>Moon Phase</th>\n",
       "    </tr>\n",
       "  </thead>\n",
       "  <tbody>\n",
       "    <tr>\n",
       "      <th>0</th>\n",
       "      <td>0</td>\n",
       "      <td>2022-03-04</td>\n",
       "      <td>-2.494845</td>\n",
       "      <td>67</td>\n",
       "      <td>17</td>\n",
       "      <td>15</td>\n",
       "      <td>35</td>\n",
       "      <td>66</td>\n",
       "      <td>60</td>\n",
       "      <td>0.073479</td>\n",
       "      <td>68.873969</td>\n",
       "      <td>New Moon</td>\n",
       "    </tr>\n",
       "    <tr>\n",
       "      <th>2</th>\n",
       "      <td>2</td>\n",
       "      <td>2022-03-10</td>\n",
       "      <td>-3.100641</td>\n",
       "      <td>88</td>\n",
       "      <td>21</td>\n",
       "      <td>22</td>\n",
       "      <td>45</td>\n",
       "      <td>126</td>\n",
       "      <td>60</td>\n",
       "      <td>0.054695</td>\n",
       "      <td>67.206731</td>\n",
       "      <td>First Quarter</td>\n",
       "    </tr>\n",
       "    <tr>\n",
       "      <th>3</th>\n",
       "      <td>3</td>\n",
       "      <td>2022-04-25</td>\n",
       "      <td>-3.082295</td>\n",
       "      <td>56</td>\n",
       "      <td>15</td>\n",
       "      <td>15</td>\n",
       "      <td>26</td>\n",
       "      <td>23</td>\n",
       "      <td>56</td>\n",
       "      <td>0.100186</td>\n",
       "      <td>67.187992</td>\n",
       "      <td>Third Quarter</td>\n",
       "    </tr>\n",
       "    <tr>\n",
       "      <th>4</th>\n",
       "      <td>4</td>\n",
       "      <td>2022-06-08</td>\n",
       "      <td>-2.983674</td>\n",
       "      <td>75</td>\n",
       "      <td>20</td>\n",
       "      <td>19</td>\n",
       "      <td>36</td>\n",
       "      <td>69</td>\n",
       "      <td>55</td>\n",
       "      <td>0.087816</td>\n",
       "      <td>69.163313</td>\n",
       "      <td>First Quarter</td>\n",
       "    </tr>\n",
       "    <tr>\n",
       "      <th>5</th>\n",
       "      <td>5</td>\n",
       "      <td>2022-01-01</td>\n",
       "      <td>-2.141440</td>\n",
       "      <td>68</td>\n",
       "      <td>19</td>\n",
       "      <td>18</td>\n",
       "      <td>31</td>\n",
       "      <td>69</td>\n",
       "      <td>60</td>\n",
       "      <td>0.081197</td>\n",
       "      <td>61.607115</td>\n",
       "      <td>New Moon</td>\n",
       "    </tr>\n",
       "    <tr>\n",
       "      <th>8</th>\n",
       "      <td>8</td>\n",
       "      <td>2022-06-09</td>\n",
       "      <td>-2.748225</td>\n",
       "      <td>76</td>\n",
       "      <td>22</td>\n",
       "      <td>16</td>\n",
       "      <td>38</td>\n",
       "      <td>88</td>\n",
       "      <td>54</td>\n",
       "      <td>0.070640</td>\n",
       "      <td>59.214786</td>\n",
       "      <td>First Quarter</td>\n",
       "    </tr>\n",
       "    <tr>\n",
       "      <th>9</th>\n",
       "      <td>9</td>\n",
       "      <td>2022-04-24</td>\n",
       "      <td>-2.648158</td>\n",
       "      <td>68</td>\n",
       "      <td>16</td>\n",
       "      <td>15</td>\n",
       "      <td>37</td>\n",
       "      <td>49</td>\n",
       "      <td>54</td>\n",
       "      <td>0.079038</td>\n",
       "      <td>76.126033</td>\n",
       "      <td>Third Quarter</td>\n",
       "    </tr>\n",
       "    <tr>\n",
       "      <th>10</th>\n",
       "      <td>10</td>\n",
       "      <td>2022-04-30</td>\n",
       "      <td>-2.834139</td>\n",
       "      <td>78</td>\n",
       "      <td>21</td>\n",
       "      <td>18</td>\n",
       "      <td>39</td>\n",
       "      <td>81</td>\n",
       "      <td>58</td>\n",
       "      <td>0.073281</td>\n",
       "      <td>65.089426</td>\n",
       "      <td>New Moon</td>\n",
       "    </tr>\n",
       "    <tr>\n",
       "      <th>11</th>\n",
       "      <td>11</td>\n",
       "      <td>2022-04-18</td>\n",
       "      <td>-2.157149</td>\n",
       "      <td>84</td>\n",
       "      <td>21</td>\n",
       "      <td>22</td>\n",
       "      <td>41</td>\n",
       "      <td>71</td>\n",
       "      <td>53</td>\n",
       "      <td>0.071207</td>\n",
       "      <td>59.130468</td>\n",
       "      <td>Full Moon</td>\n",
       "    </tr>\n",
       "    <tr>\n",
       "      <th>12</th>\n",
       "      <td>12</td>\n",
       "      <td>2022-03-11</td>\n",
       "      <td>-1.241001</td>\n",
       "      <td>84</td>\n",
       "      <td>21</td>\n",
       "      <td>18</td>\n",
       "      <td>45</td>\n",
       "      <td>68</td>\n",
       "      <td>58</td>\n",
       "      <td>0.092812</td>\n",
       "      <td>66.110513</td>\n",
       "      <td>First Quarter</td>\n",
       "    </tr>\n",
       "  </tbody>\n",
       "</table>\n",
       "</div>"
      ],
      "text/plain": [
       "    Unnamed: 0        date  temperature  overall_score  composition_score  \\\n",
       "0            0  2022-03-04    -2.494845             67                 17   \n",
       "2            2  2022-03-10    -3.100641             88                 21   \n",
       "3            3  2022-04-25    -3.082295             56                 15   \n",
       "4            4  2022-06-08    -2.983674             75                 20   \n",
       "5            5  2022-01-01    -2.141440             68                 19   \n",
       "8            8  2022-06-09    -2.748225             76                 22   \n",
       "9            9  2022-04-24    -2.648158             68                 16   \n",
       "10          10  2022-04-30    -2.834139             78                 21   \n",
       "11          11  2022-04-18    -2.157149             84                 21   \n",
       "12          12  2022-03-11    -1.241001             84                 21   \n",
       "\n",
       "    revitalization_score  duration_score  deep_sleep_in_minutes  \\\n",
       "0                     15              35                     66   \n",
       "2                     22              45                    126   \n",
       "3                     15              26                     23   \n",
       "4                     19              36                     69   \n",
       "5                     18              31                     69   \n",
       "8                     16              38                     88   \n",
       "9                     15              37                     49   \n",
       "10                    18              39                     81   \n",
       "11                    22              41                     71   \n",
       "12                    18              45                     68   \n",
       "\n",
       "    resting_heart_rate  restlessness        bpm     Moon Phase  \n",
       "0                   60      0.073479  68.873969       New Moon  \n",
       "2                   60      0.054695  67.206731  First Quarter  \n",
       "3                   56      0.100186  67.187992  Third Quarter  \n",
       "4                   55      0.087816  69.163313  First Quarter  \n",
       "5                   60      0.081197  61.607115       New Moon  \n",
       "8                   54      0.070640  59.214786  First Quarter  \n",
       "9                   54      0.079038  76.126033  Third Quarter  \n",
       "10                  58      0.073281  65.089426       New Moon  \n",
       "11                  53      0.071207  59.130468      Full Moon  \n",
       "12                  58      0.092812  66.110513  First Quarter  "
      ]
     },
     "execution_count": 3,
     "metadata": {},
     "output_type": "execute_result"
    }
   ],
   "source": [
    "df.head(10)"
   ]
  },
  {
   "cell_type": "code",
   "execution_count": 4,
   "id": "d7d181c8",
   "metadata": {
    "pycharm": {
     "name": "#%%\n"
    }
   },
   "outputs": [
    {
     "data": {
      "text/html": [
       "\n",
       "<div id=\"altair-viz-db309f844b36467593a2da02409097ca\"></div>\n",
       "<script type=\"text/javascript\">\n",
       "  (function(spec, embedOpt){\n",
       "    let outputDiv = document.currentScript.previousElementSibling;\n",
       "    if (outputDiv.id !== \"altair-viz-db309f844b36467593a2da02409097ca\") {\n",
       "      outputDiv = document.getElementById(\"altair-viz-db309f844b36467593a2da02409097ca\");\n",
       "    }\n",
       "    const paths = {\n",
       "      \"vega\": \"https://cdn.jsdelivr.net/npm//vega@5?noext\",\n",
       "      \"vega-lib\": \"https://cdn.jsdelivr.net/npm//vega-lib?noext\",\n",
       "      \"vega-lite\": \"https://cdn.jsdelivr.net/npm//vega-lite@4.8.1?noext\",\n",
       "      \"vega-embed\": \"https://cdn.jsdelivr.net/npm//vega-embed@6?noext\",\n",
       "    };\n",
       "\n",
       "    function loadScript(lib) {\n",
       "      return new Promise(function(resolve, reject) {\n",
       "        var s = document.createElement('script');\n",
       "        s.src = paths[lib];\n",
       "        s.async = true;\n",
       "        s.onload = () => resolve(paths[lib]);\n",
       "        s.onerror = () => reject(`Error loading script: ${paths[lib]}`);\n",
       "        document.getElementsByTagName(\"head\")[0].appendChild(s);\n",
       "      });\n",
       "    }\n",
       "\n",
       "    function showError(err) {\n",
       "      outputDiv.innerHTML = `<div class=\"error\" style=\"color:red;\">${err}</div>`;\n",
       "      throw err;\n",
       "    }\n",
       "\n",
       "    function displayChart(vegaEmbed) {\n",
       "      vegaEmbed(outputDiv, spec, embedOpt)\n",
       "        .catch(err => showError(`Javascript Error: ${err.message}<br>This usually means there's a typo in your chart specification. See the javascript console for the full traceback.`));\n",
       "    }\n",
       "\n",
       "    if(typeof define === \"function\" && define.amd) {\n",
       "      requirejs.config({paths});\n",
       "      require([\"vega-embed\"], displayChart, err => showError(`Error loading script: ${err.message}`));\n",
       "    } else if (typeof vegaEmbed === \"function\") {\n",
       "      displayChart(vegaEmbed);\n",
       "    } else {\n",
       "      loadScript(\"vega\")\n",
       "        .then(() => loadScript(\"vega-lite\"))\n",
       "        .then(() => loadScript(\"vega-embed\"))\n",
       "        .catch(showError)\n",
       "        .then(() => displayChart(vegaEmbed));\n",
       "    }\n",
       "  })({\"config\": {\"view\": {\"continuousWidth\": 400, \"continuousHeight\": 300}}, \"data\": {\"name\": \"data-de41d53ec2a256df1068d26d6e00cfe6\"}, \"mark\": \"point\", \"encoding\": {\"color\": {\"type\": \"nominal\", \"field\": \"Moon Phase\"}, \"x\": {\"type\": \"temporal\", \"field\": \"date\"}, \"y\": {\"type\": \"quantitative\", \"field\": \"overall_score\"}}, \"$schema\": \"https://vega.github.io/schema/vega-lite/v4.8.1.json\", \"datasets\": {\"data-de41d53ec2a256df1068d26d6e00cfe6\": [{\"Unnamed: 0\": 0, \"date\": \"2022-03-04\", \"temperature\": -2.4948452712100138, \"overall_score\": 67, \"composition_score\": 17, \"revitalization_score\": 15, \"duration_score\": 35, \"deep_sleep_in_minutes\": 66, \"resting_heart_rate\": 60, \"restlessness\": 0.0734787600459242, \"bpm\": 68.87396891443355, \"Moon Phase\": \"New Moon\"}, {\"Unnamed: 0\": 2, \"date\": \"2022-03-10\", \"temperature\": -3.100640604556973, \"overall_score\": 88, \"composition_score\": 21, \"revitalization_score\": 22, \"duration_score\": 45, \"deep_sleep_in_minutes\": 126, \"resting_heart_rate\": 60, \"restlessness\": 0.0546946216955332, \"bpm\": 67.20673142645546, \"Moon Phase\": \"First Quarter\"}, {\"Unnamed: 0\": 3, \"date\": \"2022-04-25\", \"temperature\": -3.08229543785302, \"overall_score\": 56, \"composition_score\": 15, \"revitalization_score\": 15, \"duration_score\": 26, \"deep_sleep_in_minutes\": 23, \"resting_heart_rate\": 56, \"restlessness\": 0.1001855287569573, \"bpm\": 67.18799173156896, \"Moon Phase\": \"Third Quarter\"}, {\"Unnamed: 0\": 4, \"date\": \"2022-06-08\", \"temperature\": -2.983674200222828, \"overall_score\": 75, \"composition_score\": 20, \"revitalization_score\": 19, \"duration_score\": 36, \"deep_sleep_in_minutes\": 69, \"resting_heart_rate\": 55, \"restlessness\": 0.0878155872667398, \"bpm\": 69.1633133912923, \"Moon Phase\": \"First Quarter\"}, {\"Unnamed: 0\": 5, \"date\": \"2022-01-01\", \"temperature\": -2.141439825089104, \"overall_score\": 68, \"composition_score\": 19, \"revitalization_score\": 18, \"duration_score\": 31, \"deep_sleep_in_minutes\": 69, \"resting_heart_rate\": 60, \"restlessness\": 0.0811965811965812, \"bpm\": 61.60711539381363, \"Moon Phase\": \"New Moon\"}, {\"Unnamed: 0\": 8, \"date\": \"2022-06-09\", \"temperature\": -2.74822524206692, \"overall_score\": 76, \"composition_score\": 22, \"revitalization_score\": 16, \"duration_score\": 38, \"deep_sleep_in_minutes\": 88, \"resting_heart_rate\": 54, \"restlessness\": 0.0706401766004415, \"bpm\": 59.2147859188904, \"Moon Phase\": \"First Quarter\"}, {\"Unnamed: 0\": 9, \"date\": \"2022-04-24\", \"temperature\": -2.648157729067706, \"overall_score\": 68, \"composition_score\": 16, \"revitalization_score\": 15, \"duration_score\": 37, \"deep_sleep_in_minutes\": 49, \"resting_heart_rate\": 54, \"restlessness\": 0.0790378006872852, \"bpm\": 76.12603279197882, \"Moon Phase\": \"Third Quarter\"}, {\"Unnamed: 0\": 10, \"date\": \"2022-04-30\", \"temperature\": -2.834139194139197, \"overall_score\": 78, \"composition_score\": 21, \"revitalization_score\": 18, \"duration_score\": 39, \"deep_sleep_in_minutes\": 81, \"resting_heart_rate\": 58, \"restlessness\": 0.0732807215332581, \"bpm\": 65.08942559555524, \"Moon Phase\": \"New Moon\"}, {\"Unnamed: 0\": 11, \"date\": \"2022-04-18\", \"temperature\": -2.157149132652149, \"overall_score\": 84, \"composition_score\": 21, \"revitalization_score\": 22, \"duration_score\": 41, \"deep_sleep_in_minutes\": 71, \"resting_heart_rate\": 53, \"restlessness\": 0.0712074303405572, \"bpm\": 59.13046765803897, \"Moon Phase\": \"Full Moon\"}, {\"Unnamed: 0\": 12, \"date\": \"2022-03-11\", \"temperature\": -1.2410005232253885, \"overall_score\": 84, \"composition_score\": 21, \"revitalization_score\": 18, \"duration_score\": 45, \"deep_sleep_in_minutes\": 68, \"resting_heart_rate\": 58, \"restlessness\": 0.0928116469517743, \"bpm\": 66.11051280303546, \"Moon Phase\": \"First Quarter\"}, {\"Unnamed: 0\": 16, \"date\": \"2022-01-02\", \"temperature\": -2.3695216994453245, \"overall_score\": 84, \"composition_score\": 19, \"revitalization_score\": 20, \"duration_score\": 45, \"deep_sleep_in_minutes\": 81, \"resting_heart_rate\": 61, \"restlessness\": 0.0605794556628621, \"bpm\": 76.71253432077552, \"Moon Phase\": \"New Moon\"}, {\"Unnamed: 0\": 17, \"date\": \"2022-01-03\", \"temperature\": -2.392509358349713, \"overall_score\": 68, \"composition_score\": 19, \"revitalization_score\": 15, \"duration_score\": 34, \"deep_sleep_in_minutes\": 58, \"resting_heart_rate\": 60, \"restlessness\": 0.0801001251564455, \"bpm\": 61.69645948981957, \"Moon Phase\": \"New Moon\"}, {\"Unnamed: 0\": 18, \"date\": \"2022-01-17\", \"temperature\": -2.6125123671730326, \"overall_score\": 80, \"composition_score\": 21, \"revitalization_score\": 21, \"duration_score\": 38, \"deep_sleep_in_minutes\": 69, \"resting_heart_rate\": 58, \"restlessness\": 0.0623556581986143, \"bpm\": 63.264437101060366, \"Moon Phase\": \"Full Moon\"}, {\"Unnamed: 0\": 20, \"date\": \"2022-03-12\", \"temperature\": 0.3824291176682832, \"overall_score\": 87, \"composition_score\": 22, \"revitalization_score\": 20, \"duration_score\": 45, \"deep_sleep_in_minutes\": 95, \"resting_heart_rate\": 58, \"restlessness\": 0.0760180995475113, \"bpm\": 66.93252390286835, \"Moon Phase\": \"First Quarter\"}, {\"Unnamed: 0\": 21, \"date\": \"2022-04-23\", \"temperature\": -1.8905303491989307, \"overall_score\": 76, \"composition_score\": 20, \"revitalization_score\": 21, \"duration_score\": 35, \"deep_sleep_in_minutes\": 102, \"resting_heart_rate\": 56, \"restlessness\": 0.1007268951194184, \"bpm\": 64.54020271778121, \"Moon Phase\": \"Third Quarter\"}, {\"Unnamed: 0\": 22, \"date\": \"2022-03-16\", \"temperature\": 0.1246019517205981, \"overall_score\": 78, \"composition_score\": 17, \"revitalization_score\": 20, \"duration_score\": 41, \"deep_sleep_in_minutes\": 82, \"resting_heart_rate\": 58, \"restlessness\": 0.069175991861648, \"bpm\": 57.79273273248346, \"Moon Phase\": \"Full Moon\"}, {\"Unnamed: 0\": 23, \"date\": \"2022-03-02\", \"temperature\": -2.179382736811869, \"overall_score\": 76, \"composition_score\": 18, \"revitalization_score\": 19, \"duration_score\": 39, \"deep_sleep_in_minutes\": 88, \"resting_heart_rate\": 58, \"restlessness\": 0.0704225352112676, \"bpm\": 66.57805002277775, \"Moon Phase\": \"New Moon\"}, {\"Unnamed: 0\": 25, \"date\": \"2022-01-07\", \"temperature\": -2.560166753789306, \"overall_score\": 69, \"composition_score\": 19, \"revitalization_score\": 14, \"duration_score\": 36, \"deep_sleep_in_minutes\": 89, \"resting_heart_rate\": 62, \"restlessness\": 0.0667384284176533, \"bpm\": 75.84976482523287, \"Moon Phase\": \"First Quarter\"}, {\"Unnamed: 0\": 28, \"date\": \"2022-03-03\", \"temperature\": -2.70301858989252, \"overall_score\": 78, \"composition_score\": 21, \"revitalization_score\": 16, \"duration_score\": 41, \"deep_sleep_in_minutes\": 96, \"resting_heart_rate\": 58, \"restlessness\": 0.0686735653809971, \"bpm\": 72.3353137620379, \"Moon Phase\": \"New Moon\"}, {\"Unnamed: 0\": 29, \"date\": \"2022-03-17\", \"temperature\": -2.5912094546798, \"overall_score\": 87, \"composition_score\": 21, \"revitalization_score\": 21, \"duration_score\": 45, \"deep_sleep_in_minutes\": 66, \"resting_heart_rate\": 57, \"restlessness\": 0.0837124658780709, \"bpm\": 64.4284065103198, \"Moon Phase\": \"Full Moon\"}, {\"Unnamed: 0\": 30, \"date\": \"2022-04-22\", \"temperature\": -3.024933411331277, \"overall_score\": 79, \"composition_score\": 22, \"revitalization_score\": 17, \"duration_score\": 40, \"deep_sleep_in_minutes\": 103, \"resting_heart_rate\": 55, \"restlessness\": 0.0725075528700906, \"bpm\": 61.99130987706656, \"Moon Phase\": \"Third Quarter\"}, {\"Unnamed: 0\": 33, \"date\": \"2022-04-08\", \"temperature\": -2.886602919738896, \"overall_score\": 82, \"composition_score\": 21, \"revitalization_score\": 22, \"duration_score\": 39, \"deep_sleep_in_minutes\": 68, \"resting_heart_rate\": 61, \"restlessness\": 0.0764904386951631, \"bpm\": 66.59365813064827, \"Moon Phase\": \"First Quarter\"}, {\"Unnamed: 0\": 34, \"date\": \"2022-03-01\", \"temperature\": -2.661022279430458, \"overall_score\": 83, \"composition_score\": 21, \"revitalization_score\": 20, \"duration_score\": 42, \"deep_sleep_in_minutes\": 67, \"resting_heart_rate\": 58, \"restlessness\": 0.0467587672688629, \"bpm\": 66.39084659084618, \"Moon Phase\": \"New Moon\"}, {\"Unnamed: 0\": 36, \"date\": \"2022-01-04\", \"temperature\": -2.431360330743182, \"overall_score\": 81, \"composition_score\": 22, \"revitalization_score\": 21, \"duration_score\": 38, \"deep_sleep_in_minutes\": 91, \"resting_heart_rate\": 62, \"restlessness\": 0.0652883569096844, \"bpm\": 72.90716085665429, \"Moon Phase\": \"New Moon\"}, {\"Unnamed: 0\": 37, \"date\": \"2022-01-10\", \"temperature\": -1.9085858809893463, \"overall_score\": 84, \"composition_score\": 21, \"revitalization_score\": 22, \"duration_score\": 41, \"deep_sleep_in_minutes\": 62, \"resting_heart_rate\": 63, \"restlessness\": 0.0557851239669421, \"bpm\": 65.69764080251687, \"Moon Phase\": \"First Quarter\"}, {\"Unnamed: 0\": 39, \"date\": \"2022-01-11\", \"temperature\": -2.085422515300454, \"overall_score\": 73, \"composition_score\": 17, \"revitalization_score\": 21, \"duration_score\": 35, \"deep_sleep_in_minutes\": 77, \"resting_heart_rate\": 61, \"restlessness\": 0.0671563483735571, \"bpm\": 65.18101882639579, \"Moon Phase\": \"First Quarter\"}, {\"Unnamed: 0\": 42, \"date\": \"2022-04-09\", \"temperature\": -3.0502796940175405, \"overall_score\": 74, \"composition_score\": 17, \"revitalization_score\": 17, \"duration_score\": 40, \"deep_sleep_in_minutes\": 54, \"resting_heart_rate\": 58, \"restlessness\": 0.1097922848664688, \"bpm\": 66.39134563731226, \"Moon Phase\": \"First Quarter\"}, {\"Unnamed: 0\": 44, \"date\": \"2022-04-21\", \"temperature\": -3.2866685845212125, \"overall_score\": 76, \"composition_score\": 21, \"revitalization_score\": 14, \"duration_score\": 41, \"deep_sleep_in_minutes\": 68, \"resting_heart_rate\": 55, \"restlessness\": 0.0557103064066852, \"bpm\": 69.13974261310483, \"Moon Phase\": \"Third Quarter\"}, {\"Unnamed: 0\": 49, \"date\": \"2021-12-17\", \"temperature\": -2.38701213818861, \"overall_score\": 72, \"composition_score\": 18, \"revitalization_score\": 20, \"duration_score\": 34, \"deep_sleep_in_minutes\": 58, \"resting_heart_rate\": 61, \"restlessness\": 0.0815558343789209, \"bpm\": 66.6262100975656, \"Moon Phase\": \"Full Moon\"}, {\"Unnamed: 0\": 51, \"date\": \"2022-05-07\", \"temperature\": -2.855173937263489, \"overall_score\": 79, \"composition_score\": 19, \"revitalization_score\": 20, \"duration_score\": 40, \"deep_sleep_in_minutes\": 66, \"resting_heart_rate\": 56, \"restlessness\": 0.0650485436893203, \"bpm\": 64.80473158545959, \"Moon Phase\": \"First Quarter\"}, {\"Unnamed: 0\": 52, \"date\": \"2022-02-18\", \"temperature\": -2.0628546520843254, \"overall_score\": 78, \"composition_score\": 21, \"revitalization_score\": 16, \"duration_score\": 41, \"deep_sleep_in_minutes\": 70, \"resting_heart_rate\": 57, \"restlessness\": 0.0947158524426719, \"bpm\": 62.50366197183099, \"Moon Phase\": \"Full Moon\"}, {\"Unnamed: 0\": 53, \"date\": \"2022-05-11\", \"temperature\": -2.330948180948181, \"overall_score\": 77, \"composition_score\": 17, \"revitalization_score\": 20, \"duration_score\": 40, \"deep_sleep_in_minutes\": 92, \"resting_heart_rate\": 56, \"restlessness\": 0.0856592877767083, \"bpm\": 71.98723520781618, \"Moon Phase\": \"First Quarter\"}, {\"Unnamed: 0\": 54, \"date\": \"2021-12-29\", \"temperature\": -2.071236559139786, \"overall_score\": 78, \"composition_score\": 17, \"revitalization_score\": 21, \"duration_score\": 40, \"deep_sleep_in_minutes\": 85, \"resting_heart_rate\": 63, \"restlessness\": 0.090297790585975, \"bpm\": 64.23231185298016, \"Moon Phase\": \"Third Quarter\"}, {\"Unnamed: 0\": 58, \"date\": \"2022-02-25\", \"temperature\": -3.357936426737283, \"overall_score\": 75, \"composition_score\": 17, \"revitalization_score\": 21, \"duration_score\": 37, \"deep_sleep_in_minutes\": 51, \"resting_heart_rate\": 57, \"restlessness\": 0.070548712206047, \"bpm\": 66.2325818626951, \"Moon Phase\": \"Third Quarter\"}, {\"Unnamed: 0\": 59, \"date\": \"2021-12-28\", \"temperature\": -1.6269599713110463, \"overall_score\": 80, \"composition_score\": 19, \"revitalization_score\": 16, \"duration_score\": 45, \"deep_sleep_in_minutes\": 116, \"resting_heart_rate\": 62, \"restlessness\": 0.0951156812339331, \"bpm\": 74.05466720083456, \"Moon Phase\": \"Third Quarter\"}, {\"Unnamed: 0\": 61, \"date\": \"2022-05-10\", \"temperature\": -1.5350836302819606, \"overall_score\": 77, \"composition_score\": 21, \"revitalization_score\": 15, \"duration_score\": 41, \"deep_sleep_in_minutes\": 100, \"resting_heart_rate\": 56, \"restlessness\": 0.0872037914691943, \"bpm\": 59.46086959521212, \"Moon Phase\": \"First Quarter\"}, {\"Unnamed: 0\": 62, \"date\": \"2022-05-28\", \"temperature\": -1.7525553439018289, \"overall_score\": 69, \"composition_score\": 17, \"revitalization_score\": 15, \"duration_score\": 37, \"deep_sleep_in_minutes\": 55, \"resting_heart_rate\": 55, \"restlessness\": 0.0699052132701421, \"bpm\": 61.60589415358797, \"Moon Phase\": \"New Moon\"}, {\"Unnamed: 0\": 63, \"date\": \"2022-05-14\", \"temperature\": -2.239869042874227, \"overall_score\": 73, \"composition_score\": 15, \"revitalization_score\": 23, \"duration_score\": 35, \"deep_sleep_in_minutes\": 92, \"resting_heart_rate\": 55, \"restlessness\": 0.0674418604651162, \"bpm\": 64.41115559360544, \"Moon Phase\": \"Full Moon\"}, {\"Unnamed: 0\": 64, \"date\": \"2022-02-09\", \"temperature\": -2.387436341127144, \"overall_score\": 80, \"composition_score\": 22, \"revitalization_score\": 18, \"duration_score\": 40, \"deep_sleep_in_minutes\": 89, \"resting_heart_rate\": 61, \"restlessness\": 0.075654704170708, \"bpm\": 65.66631232582785, \"Moon Phase\": \"First Quarter\"}, {\"Unnamed: 0\": 65, \"date\": \"2022-02-08\", \"temperature\": -2.1212751962082868, \"overall_score\": 80, \"composition_score\": 20, \"revitalization_score\": 18, \"duration_score\": 42, \"deep_sleep_in_minutes\": 82, \"resting_heart_rate\": 61, \"restlessness\": 0.0625630676084762, \"bpm\": 65.94356924241572, \"Moon Phase\": \"First Quarter\"}, {\"Unnamed: 0\": 66, \"date\": \"2022-05-01\", \"temperature\": -1.810887613950518, \"overall_score\": 74, \"composition_score\": 18, \"revitalization_score\": 17, \"duration_score\": 39, \"deep_sleep_in_minutes\": 61, \"resting_heart_rate\": 58, \"restlessness\": 0.0980207351555136, \"bpm\": 61.82956239496937, \"Moon Phase\": \"New Moon\"}, {\"Unnamed: 0\": 67, \"date\": \"2022-05-15\", \"temperature\": -1.6142941086691114, \"overall_score\": 76, \"composition_score\": 22, \"revitalization_score\": 17, \"duration_score\": 37, \"deep_sleep_in_minutes\": 97, \"resting_heart_rate\": 53, \"restlessness\": 0.0993897122929381, \"bpm\": 56.163099808283896, \"Moon Phase\": \"Full Moon\"}, {\"Unnamed: 0\": 68, \"date\": \"2021-12-11\", \"temperature\": -2.9183476052231967, \"overall_score\": 68, \"composition_score\": 17, \"revitalization_score\": 18, \"duration_score\": 33, \"deep_sleep_in_minutes\": 78, \"resting_heart_rate\": 60, \"restlessness\": 0.1107994389901823, \"bpm\": 64.97499560555458, \"Moon Phase\": \"First Quarter\"}, {\"Unnamed: 0\": 69, \"date\": \"2022-05-29\", \"temperature\": -1.4195662473326145, \"overall_score\": 76, \"composition_score\": 19, \"revitalization_score\": 21, \"duration_score\": 36, \"deep_sleep_in_minutes\": 95, \"resting_heart_rate\": 56, \"restlessness\": 0.0750816104461371, \"bpm\": 62.00503727531683, \"Moon Phase\": \"New Moon\"}, {\"Unnamed: 0\": 71, \"date\": \"2021-12-13\", \"temperature\": -2.6309578407187324, \"overall_score\": 75, \"composition_score\": 17, \"revitalization_score\": 21, \"duration_score\": 37, \"deep_sleep_in_minutes\": 76, \"resting_heart_rate\": 58, \"restlessness\": 0.0813559322033898, \"bpm\": 68.49991437969906, \"Moon Phase\": \"First Quarter\"}, {\"Unnamed: 0\": 72, \"date\": \"2022-02-22\", \"temperature\": -1.8176034191561383, \"overall_score\": 80, \"composition_score\": 20, \"revitalization_score\": 19, \"duration_score\": 41, \"deep_sleep_in_minutes\": 33, \"resting_heart_rate\": 57, \"restlessness\": 0.0656219392752203, \"bpm\": 67.50659081448592, \"Moon Phase\": \"Third Quarter\"}, {\"Unnamed: 0\": 74, \"date\": \"2022-05-17\", \"temperature\": -2.076041666666665, \"overall_score\": 78, \"composition_score\": 18, \"revitalization_score\": 19, \"duration_score\": 41, \"deep_sleep_in_minutes\": 94, \"resting_heart_rate\": 50, \"restlessness\": 0.0646506777893639, \"bpm\": 59.04314674587784, \"Moon Phase\": \"Full Moon\"}, {\"Unnamed: 0\": 75, \"date\": \"2022-05-16\", \"temperature\": -3.003006329113923, \"overall_score\": 80, \"composition_score\": 19, \"revitalization_score\": 22, \"duration_score\": 39, \"deep_sleep_in_minutes\": 86, \"resting_heart_rate\": 52, \"restlessness\": 0.0711111111111111, \"bpm\": 57.145133200978805, \"Moon Phase\": \"Full Moon\"}, {\"Unnamed: 0\": 76, \"date\": \"2022-05-02\", \"temperature\": -3.120821091260121, \"overall_score\": 86, \"composition_score\": 22, \"revitalization_score\": 19, \"duration_score\": 45, \"deep_sleep_in_minutes\": 84, \"resting_heart_rate\": 58, \"restlessness\": 0.0644038294168842, \"bpm\": 63.373297560310135, \"Moon Phase\": \"New Moon\"}, {\"Unnamed: 0\": 77, \"date\": \"2021-12-12\", \"temperature\": -1.393574329738934, \"overall_score\": 85, \"composition_score\": 20, \"revitalization_score\": 21, \"duration_score\": 44, \"deep_sleep_in_minutes\": 92, \"resting_heart_rate\": 60, \"restlessness\": 0.0857392825896763, \"bpm\": 62.95947933935464, \"Moon Phase\": \"First Quarter\"}, {\"Unnamed: 0\": 81, \"date\": \"2022-02-06\", \"temperature\": -2.890408533069765, \"overall_score\": 76, \"composition_score\": 21, \"revitalization_score\": 14, \"duration_score\": 41, \"deep_sleep_in_minutes\": 73, \"resting_heart_rate\": 59, \"restlessness\": 0.0658561296859169, \"bpm\": 70.24940876111943, \"Moon Phase\": \"First Quarter\"}, {\"Unnamed: 0\": 83, \"date\": \"2022-02-07\", \"temperature\": -2.4533802479774, \"overall_score\": 77, \"composition_score\": 20, \"revitalization_score\": 19, \"duration_score\": 38, \"deep_sleep_in_minutes\": 52, \"resting_heart_rate\": 61, \"restlessness\": 0.059371362048894, \"bpm\": 67.57732457983693, \"Moon Phase\": \"First Quarter\"}, {\"Unnamed: 0\": 86, \"date\": \"2022-05-30\", \"temperature\": -2.712636029323538, \"overall_score\": 75, \"composition_score\": 21, \"revitalization_score\": 17, \"duration_score\": 37, \"deep_sleep_in_minutes\": 70, \"resting_heart_rate\": 55, \"restlessness\": 0.0529344073647871, \"bpm\": 61.95880717247915, \"Moon Phase\": \"New Moon\"}, {\"Unnamed: 0\": 87, \"date\": \"2022-05-24\", \"temperature\": -1.7344634955752196, \"overall_score\": 74, \"composition_score\": 18, \"revitalization_score\": 20, \"duration_score\": 36, \"deep_sleep_in_minutes\": 47, \"resting_heart_rate\": 57, \"restlessness\": 0.088335220838052, \"bpm\": 62.03506841877629, \"Moon Phase\": \"Third Quarter\"}, {\"Unnamed: 0\": 89, \"date\": \"2021-12-20\", \"temperature\": -2.6894677495291908, \"overall_score\": 79, \"composition_score\": 21, \"revitalization_score\": 21, \"duration_score\": 37, \"deep_sleep_in_minutes\": 80, \"resting_heart_rate\": 63, \"restlessness\": 0.1226330027051397, \"bpm\": 63.25652813106353, \"Moon Phase\": \"Full Moon\"}, {\"Unnamed: 0\": 90, \"date\": \"2022-05-18\", \"temperature\": -2.789927080226658, \"overall_score\": 74, \"composition_score\": 21, \"revitalization_score\": 14, \"duration_score\": 39, \"deep_sleep_in_minutes\": 113, \"resting_heart_rate\": 50, \"restlessness\": 0.0672645739910313, \"bpm\": 74.24828200706295, \"Moon Phase\": \"Full Moon\"}, {\"Unnamed: 0\": 93, \"date\": \"2022-02-10\", \"temperature\": -2.755822489428384, \"overall_score\": 83, \"composition_score\": 22, \"revitalization_score\": 22, \"duration_score\": 39, \"deep_sleep_in_minutes\": 101, \"resting_heart_rate\": 61, \"restlessness\": 0.0654307524536532, \"bpm\": 64.77025146487284, \"Moon Phase\": \"First Quarter\"}, {\"Unnamed: 0\": 95, \"date\": \"2021-12-21\", \"temperature\": -1.555367154811716, \"overall_score\": 78, \"composition_score\": 20, \"revitalization_score\": 21, \"duration_score\": 37, \"deep_sleep_in_minutes\": 74, \"resting_heart_rate\": 62, \"restlessness\": 0.0878306878306878, \"bpm\": 68.83196196448473, \"Moon Phase\": \"Full Moon\"}, {\"Unnamed: 0\": 97, \"date\": \"2022-05-31\", \"temperature\": 0.1810827648646024, \"overall_score\": 79, \"composition_score\": 20, \"revitalization_score\": 18, \"duration_score\": 41, \"deep_sleep_in_minutes\": 90, \"resting_heart_rate\": 55, \"restlessness\": 0.067127344521224, \"bpm\": 59.6306023408507, \"Moon Phase\": \"New Moon\"}, {\"Unnamed: 0\": 98, \"date\": \"2021-12-25\", \"temperature\": -2.185402821793334, \"overall_score\": 82, \"composition_score\": 21, \"revitalization_score\": 22, \"duration_score\": 39, \"deep_sleep_in_minutes\": 73, \"resting_heart_rate\": 61, \"restlessness\": 0.0747889022919179, \"bpm\": 73.49270557716034, \"Moon Phase\": \"Third Quarter\"}, {\"Unnamed: 0\": 99, \"date\": \"2022-05-09\", \"temperature\": -3.090023847376788, \"overall_score\": 78, \"composition_score\": 21, \"revitalization_score\": 16, \"duration_score\": 41, \"deep_sleep_in_minutes\": 66, \"resting_heart_rate\": 55, \"restlessness\": 0.0908152734778121, \"bpm\": 63.70636201802296, \"Moon Phase\": \"First Quarter\"}, {\"Unnamed: 0\": 100, \"date\": \"2022-02-14\", \"temperature\": -2.1149066299489494, \"overall_score\": 72, \"composition_score\": 18, \"revitalization_score\": 19, \"duration_score\": 35, \"deep_sleep_in_minutes\": 76, \"resting_heart_rate\": 58, \"restlessness\": 0.0842639593908629, \"bpm\": 61.355771461588034, \"Moon Phase\": \"Full Moon\"}, {\"Unnamed: 0\": 101, \"date\": \"2021-12-31\", \"temperature\": -2.3260636830627828, \"overall_score\": 88, \"composition_score\": 22, \"revitalization_score\": 20, \"duration_score\": 46, \"deep_sleep_in_minutes\": 86, \"resting_heart_rate\": 61, \"restlessness\": 0.0520930232558139, \"bpm\": 72.08677342379268, \"Moon Phase\": \"New Moon\"}, {\"Unnamed: 0\": 102, \"date\": \"2021-12-19\", \"temperature\": -2.2838700031476247, \"overall_score\": 71, \"composition_score\": 21, \"revitalization_score\": 15, \"duration_score\": 35, \"deep_sleep_in_minutes\": 80, \"resting_heart_rate\": 61, \"restlessness\": 0.0821917808219178, \"bpm\": 65.88107221208267, \"Moon Phase\": \"Full Moon\"}, {\"Unnamed: 0\": 103, \"date\": \"2022-02-28\", \"temperature\": -3.531549787229834, \"overall_score\": 74, \"composition_score\": 17, \"revitalization_score\": 20, \"duration_score\": 37, \"deep_sleep_in_minutes\": 58, \"resting_heart_rate\": 59, \"restlessness\": 0.0838117106773823, \"bpm\": 65.48538544417433, \"Moon Phase\": \"New Moon\"}, {\"Unnamed: 0\": 104, \"date\": \"2022-05-21\", \"temperature\": -2.164060133447946, \"overall_score\": 77, \"composition_score\": 21, \"revitalization_score\": 19, \"duration_score\": 37, \"deep_sleep_in_minutes\": 72, \"resting_heart_rate\": 57, \"restlessness\": 0.068893528183716, \"bpm\": 64.59503652904763, \"Moon Phase\": \"Third Quarter\"}, {\"Unnamed: 0\": 105, \"date\": \"2022-05-20\", \"temperature\": -1.2969664902998277, \"overall_score\": 65, \"composition_score\": 17, \"revitalization_score\": 14, \"duration_score\": 34, \"deep_sleep_in_minutes\": 57, \"resting_heart_rate\": 54, \"restlessness\": 0.0963704630788485, \"bpm\": 63.74117495971368, \"Moon Phase\": \"Third Quarter\"}, {\"Unnamed: 0\": 106, \"date\": \"2021-12-18\", \"temperature\": -3.3292683298163235, \"overall_score\": 82, \"composition_score\": 19, \"revitalization_score\": 19, \"duration_score\": 44, \"deep_sleep_in_minutes\": 61, \"resting_heart_rate\": 61, \"restlessness\": 0.121131741821397, \"bpm\": 78.8785749738767, \"Moon Phase\": \"Full Moon\"}, {\"Unnamed: 0\": 107, \"date\": \"2022-02-15\", \"temperature\": -1.7827604019911722, \"overall_score\": 83, \"composition_score\": 21, \"revitalization_score\": 21, \"duration_score\": 41, \"deep_sleep_in_minutes\": 64, \"resting_heart_rate\": 58, \"restlessness\": 0.0705009276437847, \"bpm\": 62.22179691021242, \"Moon Phase\": \"Full Moon\"}, {\"Unnamed: 0\": 109, \"date\": \"2022-05-08\", \"temperature\": -1.8856018631557192, \"overall_score\": 76, \"composition_score\": 20, \"revitalization_score\": 16, \"duration_score\": 40, \"deep_sleep_in_minutes\": 71, \"resting_heart_rate\": 54, \"restlessness\": 0.1043129388164493, \"bpm\": 66.94439768276943, \"Moon Phase\": \"First Quarter\"}, {\"Unnamed: 0\": 111, \"date\": \"2022-02-01\", \"temperature\": -2.532299245755705, \"overall_score\": 81, \"composition_score\": 21, \"revitalization_score\": 19, \"duration_score\": 41, \"deep_sleep_in_minutes\": 54, \"resting_heart_rate\": 59, \"restlessness\": 0.0643821391484942, \"bpm\": 69.10186414864737, \"Moon Phase\": \"New Moon\"}, {\"Unnamed: 0\": 112, \"date\": \"2022-02-17\", \"temperature\": -3.8608609387949913, \"overall_score\": 74, \"composition_score\": 20, \"revitalization_score\": 18, \"duration_score\": 36, \"deep_sleep_in_minutes\": 67, \"resting_heart_rate\": 57, \"restlessness\": 0.076049943246311, \"bpm\": 70.92480825384291, \"Moon Phase\": \"Full Moon\"}, {\"Unnamed: 0\": 113, \"date\": \"2021-12-26\", \"temperature\": -1.212971772220608, \"overall_score\": 72, \"composition_score\": 17, \"revitalization_score\": 16, \"duration_score\": 39, \"deep_sleep_in_minutes\": 58, \"resting_heart_rate\": 61, \"restlessness\": 0.0639730639730639, \"bpm\": 66.88439507190347, \"Moon Phase\": \"Third Quarter\"}, {\"Unnamed: 0\": 114, \"date\": \"2022-05-22\", \"temperature\": -1.4445226086375735, \"overall_score\": 71, \"composition_score\": 17, \"revitalization_score\": 19, \"duration_score\": 35, \"deep_sleep_in_minutes\": 49, \"resting_heart_rate\": 56, \"restlessness\": 0.074315514993481, \"bpm\": 61.1174329962948, \"Moon Phase\": \"Third Quarter\"}, {\"Unnamed: 0\": 115, \"date\": \"2022-05-23\", \"temperature\": -2.348421828908553, \"overall_score\": 75, \"composition_score\": 21, \"revitalization_score\": 17, \"duration_score\": 37, \"deep_sleep_in_minutes\": 48, \"resting_heart_rate\": 56, \"restlessness\": 0.0696409140369967, \"bpm\": 61.52390269203168, \"Moon Phase\": \"Third Quarter\"}, {\"Unnamed: 0\": 116, \"date\": \"2022-02-02\", \"temperature\": -2.392940659407271, \"overall_score\": 83, \"composition_score\": 22, \"revitalization_score\": 18, \"duration_score\": 43, \"deep_sleep_in_minutes\": 100, \"resting_heart_rate\": 59, \"restlessness\": 0.054910242872228, \"bpm\": 68.96670595167943, \"Moon Phase\": \"New Moon\"}, {\"Unnamed: 0\": 117, \"date\": \"2021-12-27\", \"temperature\": -1.8309459274469544, \"overall_score\": 83, \"composition_score\": 21, \"revitalization_score\": 21, \"duration_score\": 41, \"deep_sleep_in_minutes\": 78, \"resting_heart_rate\": 62, \"restlessness\": 0.0651769087523277, \"bpm\": 68.56923958725918, \"Moon Phase\": \"Third Quarter\"}, {\"Unnamed: 0\": 118, \"date\": \"2022-02-16\", \"temperature\": -1.744211925889532, \"overall_score\": 80, \"composition_score\": 23, \"revitalization_score\": 19, \"duration_score\": 38, \"deep_sleep_in_minutes\": 108, \"resting_heart_rate\": 57, \"restlessness\": 0.0815370196813495, \"bpm\": 65.7956591353483, \"Moon Phase\": \"Full Moon\"}, {\"Unnamed: 0\": 119, \"date\": \"2022-03-31\", \"temperature\": -3.030668435507141, \"overall_score\": 71, \"composition_score\": 18, \"revitalization_score\": 13, \"duration_score\": 40, \"deep_sleep_in_minutes\": 102, \"resting_heart_rate\": 56, \"restlessness\": 0.0824544582933844, \"bpm\": 72.62338020402537, \"Moon Phase\": \"New Moon\"}, {\"Unnamed: 0\": 120, \"date\": \"2022-03-19\", \"temperature\": -2.275387767613703, \"overall_score\": 79, \"composition_score\": 22, \"revitalization_score\": 16, \"duration_score\": 41, \"deep_sleep_in_minutes\": 104, \"resting_heart_rate\": 56, \"restlessness\": 0.0651499482936918, \"bpm\": 66.01680341880342, \"Moon Phase\": \"Full Moon\"}, {\"Unnamed: 0\": 121, \"date\": \"2022-04-10\", \"temperature\": -2.05513894839879, \"overall_score\": 81, \"composition_score\": 22, \"revitalization_score\": 15, \"duration_score\": 44, \"deep_sleep_in_minutes\": 98, \"resting_heart_rate\": 57, \"restlessness\": 0.1140562248995984, \"bpm\": 60.32466064376864, \"Moon Phase\": \"First Quarter\"}, {\"Unnamed: 0\": 123, \"date\": \"2022-01-20\", \"temperature\": -2.7088424475922968, \"overall_score\": 79, \"composition_score\": 22, \"revitalization_score\": 16, \"duration_score\": 41, \"deep_sleep_in_minutes\": 85, \"resting_heart_rate\": 59, \"restlessness\": 0.0644549763033175, \"bpm\": 66.67346475343399, \"Moon Phase\": \"Full Moon\"}, {\"Unnamed: 0\": 124, \"date\": \"2022-06-15\", \"temperature\": -2.0861524968106444, \"overall_score\": 80, \"composition_score\": 21, \"revitalization_score\": 20, \"duration_score\": 39, \"deep_sleep_in_minutes\": 103, \"resting_heart_rate\": 55, \"restlessness\": 0.0621592148309705, \"bpm\": 73.1701165479138, \"Moon Phase\": \"Full Moon\"}, {\"Unnamed: 0\": 125, \"date\": \"2022-01-09\", \"temperature\": -1.9699640454650904, \"overall_score\": 76, \"composition_score\": 19, \"revitalization_score\": 19, \"duration_score\": 38, \"deep_sleep_in_minutes\": 107, \"resting_heart_rate\": 65, \"restlessness\": 0.084304932735426, \"bpm\": 65.02090194421396, \"Moon Phase\": \"First Quarter\"}, {\"Unnamed: 0\": 126, \"date\": \"2022-06-14\", \"temperature\": -1.996431451612904, \"overall_score\": 70, \"composition_score\": 21, \"revitalization_score\": 14, \"duration_score\": 35, \"deep_sleep_in_minutes\": 68, \"resting_heart_rate\": 53, \"restlessness\": 0.0895361380798274, \"bpm\": 61.8637091503268, \"Moon Phase\": \"Full Moon\"}, {\"Unnamed: 0\": 129, \"date\": \"2022-03-18\", \"temperature\": -1.9134698860553472, \"overall_score\": 78, \"composition_score\": 18, \"revitalization_score\": 18, \"duration_score\": 42, \"deep_sleep_in_minutes\": 69, \"resting_heart_rate\": 56, \"restlessness\": 0.09072375127421, \"bpm\": 64.597782090536, \"Moon Phase\": \"Full Moon\"}, {\"Unnamed: 0\": 130, \"date\": \"2022-04-11\", \"temperature\": -2.370998265568859, \"overall_score\": 77, \"composition_score\": 19, \"revitalization_score\": 21, \"duration_score\": 37, \"deep_sleep_in_minutes\": 55, \"resting_heart_rate\": 57, \"restlessness\": 0.0651387213510253, \"bpm\": 64.95759067419297, \"Moon Phase\": \"First Quarter\"}, {\"Unnamed: 0\": 131, \"date\": \"2022-03-30\", \"temperature\": -2.192451402794695, \"overall_score\": 74, \"composition_score\": 16, \"revitalization_score\": 22, \"duration_score\": 36, \"deep_sleep_in_minutes\": 65, \"resting_heart_rate\": 57, \"restlessness\": 0.0648464163822525, \"bpm\": 72.36756474097741, \"Moon Phase\": \"New Moon\"}, {\"Unnamed: 0\": 132, \"date\": \"2022-03-26\", \"temperature\": -2.6895530015297764, \"overall_score\": 74, \"composition_score\": 18, \"revitalization_score\": 19, \"duration_score\": 37, \"deep_sleep_in_minutes\": 71, \"resting_heart_rate\": 58, \"restlessness\": 0.0625, \"bpm\": 65.11811688502192, \"Moon Phase\": \"Third Quarter\"}, {\"Unnamed: 0\": 133, \"date\": \"2022-04-07\", \"temperature\": -2.4553732030392057, \"overall_score\": 72, \"composition_score\": 18, \"revitalization_score\": 13, \"duration_score\": 41, \"deep_sleep_in_minutes\": 80, \"resting_heart_rate\": 59, \"restlessness\": 0.0871327254305977, \"bpm\": 64.06526118909852, \"Moon Phase\": \"First Quarter\"}, {\"Unnamed: 0\": 135, \"date\": \"2022-01-23\", \"temperature\": -1.9276375650810231, \"overall_score\": 85, \"composition_score\": 22, \"revitalization_score\": 18, \"duration_score\": 45, \"deep_sleep_in_minutes\": 95, \"resting_heart_rate\": 59, \"restlessness\": 0.0842191332788225, \"bpm\": 64.29285300925926, \"Moon Phase\": \"Third Quarter\"}, {\"Unnamed: 0\": 137, \"date\": \"2022-06-16\", \"temperature\": -2.124997838317693, \"overall_score\": 69, \"composition_score\": 21, \"revitalization_score\": 13, \"duration_score\": 35, \"deep_sleep_in_minutes\": 81, \"resting_heart_rate\": 56, \"restlessness\": 0.1008991008991009, \"bpm\": 64.14419900493225, \"Moon Phase\": \"Full Moon\"}, {\"Unnamed: 0\": 143, \"date\": \"2022-03-27\", \"temperature\": -1.230610546664921, \"overall_score\": 69, \"composition_score\": 17, \"revitalization_score\": 19, \"duration_score\": 33, \"deep_sleep_in_minutes\": 95, \"resting_heart_rate\": 58, \"restlessness\": 0.0992438563327032, \"bpm\": 63.22277713883227, \"Moon Phase\": \"Third Quarter\"}, {\"Unnamed: 0\": 144, \"date\": \"2022-04-02\", \"temperature\": -2.859982090986525, \"overall_score\": 69, \"composition_score\": 18, \"revitalization_score\": 15, \"duration_score\": 36, \"deep_sleep_in_minutes\": 109, \"resting_heart_rate\": 57, \"restlessness\": 0.071504802561366, \"bpm\": 64.86565579019201, \"Moon Phase\": \"New Moon\"}, {\"Unnamed: 0\": 145, \"date\": \"2022-04-16\", \"temperature\": -2.3302065545064594, \"overall_score\": 85, \"composition_score\": 22, \"revitalization_score\": 21, \"duration_score\": 42, \"deep_sleep_in_minutes\": 89, \"resting_heart_rate\": 56, \"restlessness\": 0.0770031217481789, \"bpm\": 64.3385815467075, \"Moon Phase\": \"Full Moon\"}, {\"Unnamed: 0\": 146, \"date\": \"2022-03-23\", \"temperature\": -1.6620981597346622, \"overall_score\": 83, \"composition_score\": 22, \"revitalization_score\": 21, \"duration_score\": 40, \"deep_sleep_in_minutes\": 103, \"resting_heart_rate\": 58, \"restlessness\": 0.0834105653382761, \"bpm\": 63.98512771996215, \"Moon Phase\": \"Third Quarter\"}, {\"Unnamed: 0\": 147, \"date\": \"2022-06-07\", \"temperature\": -1.3669989632605497, \"overall_score\": 75, \"composition_score\": 19, \"revitalization_score\": 19, \"duration_score\": 37, \"deep_sleep_in_minutes\": 74, \"resting_heart_rate\": 55, \"restlessness\": 0.0596379126730564, \"bpm\": 62.04917702013508, \"Moon Phase\": \"First Quarter\"}, {\"Unnamed: 0\": 148, \"date\": \"2022-06-13\", \"temperature\": -2.986431451612904, \"overall_score\": 76, \"composition_score\": 21, \"revitalization_score\": 18, \"duration_score\": 37, \"deep_sleep_in_minutes\": 54, \"resting_heart_rate\": 53, \"restlessness\": 0.0796555435952637, \"bpm\": 62.71976274697938, \"Moon Phase\": \"Full Moon\"}, {\"Unnamed: 0\": 149, \"date\": \"2022-01-26\", \"temperature\": -1.9255295747041268, \"overall_score\": 78, \"composition_score\": 20, \"revitalization_score\": 17, \"duration_score\": 41, \"deep_sleep_in_minutes\": 102, \"resting_heart_rate\": 60, \"restlessness\": 0.0668724279835391, \"bpm\": 65.98507083720793, \"Moon Phase\": \"Third Quarter\"}, {\"Unnamed: 0\": 150, \"date\": \"2022-01-27\", \"temperature\": 0.0687000792634581, \"overall_score\": 63, \"composition_score\": 21, \"revitalization_score\": 19, \"duration_score\": 23, \"deep_sleep_in_minutes\": 44, \"resting_heart_rate\": 61, \"restlessness\": 0.0739371534195933, \"bpm\": 60.321266968325794, \"Moon Phase\": \"Third Quarter\"}, {\"Unnamed: 0\": 151, \"date\": \"2022-06-12\", \"temperature\": -1.7800101388835758, \"overall_score\": 80, \"composition_score\": 21, \"revitalization_score\": 18, \"duration_score\": 41, \"deep_sleep_in_minutes\": 64, \"resting_heart_rate\": 53, \"restlessness\": 0.057633973710819, \"bpm\": 60.81682238552318, \"Moon Phase\": \"Full Moon\"}, {\"Unnamed: 0\": 152, \"date\": \"2022-06-06\", \"temperature\": -1.9660584969700343, \"overall_score\": 78, \"composition_score\": 17, \"revitalization_score\": 20, \"duration_score\": 41, \"deep_sleep_in_minutes\": 78, \"resting_heart_rate\": 55, \"restlessness\": 0.0701071080817916, \"bpm\": 59.796485312352, \"Moon Phase\": \"First Quarter\"}, {\"Unnamed: 0\": 153, \"date\": \"2022-04-17\", \"temperature\": -1.7851387586006395, \"overall_score\": 75, \"composition_score\": 16, \"revitalization_score\": 18, \"duration_score\": 41, \"deep_sleep_in_minutes\": 64, \"resting_heart_rate\": 54, \"restlessness\": 0.1043397968605724, \"bpm\": 56.729494384380736, \"Moon Phase\": \"Full Moon\"}, {\"Unnamed: 0\": 154, \"date\": \"2022-04-03\", \"temperature\": -2.311031071411418, \"overall_score\": 80, \"composition_score\": 22, \"revitalization_score\": 22, \"duration_score\": 36, \"deep_sleep_in_minutes\": 95, \"resting_heart_rate\": 59, \"restlessness\": 0.083594566353187, \"bpm\": 61.12217211682568, \"Moon Phase\": \"New Moon\"}, {\"Unnamed: 0\": 155, \"date\": \"2022-04-15\", \"temperature\": -2.487121420793033, \"overall_score\": 85, \"composition_score\": 21, \"revitalization_score\": 22, \"duration_score\": 42, \"deep_sleep_in_minutes\": 63, \"resting_heart_rate\": 58, \"restlessness\": 0.0861889927310488, \"bpm\": 63.11762252522945, \"Moon Phase\": \"Full Moon\"}, {\"Unnamed: 0\": 156, \"date\": \"2022-04-29\", \"temperature\": -2.9471061250727013, \"overall_score\": 80, \"composition_score\": 22, \"revitalization_score\": 17, \"duration_score\": 41, \"deep_sleep_in_minutes\": 100, \"resting_heart_rate\": 57, \"restlessness\": 0.0762970498474059, \"bpm\": 66.65839014293971, \"Moon Phase\": \"New Moon\"}, {\"Unnamed: 0\": 157, \"date\": \"2022-03-20\", \"temperature\": -2.288679229850647, \"overall_score\": 66, \"composition_score\": 16, \"revitalization_score\": 17, \"duration_score\": 33, \"deep_sleep_in_minutes\": 42, \"resting_heart_rate\": 57, \"restlessness\": 0.0816568047337278, \"bpm\": 70.17217461148874, \"Moon Phase\": \"Full Moon\"}, {\"Unnamed: 0\": 158, \"date\": \"2022-01-19\", \"temperature\": -1.6697744107390016, \"overall_score\": 78, \"composition_score\": 22, \"revitalization_score\": 17, \"duration_score\": 39, \"deep_sleep_in_minutes\": 105, \"resting_heart_rate\": 57, \"restlessness\": 0.0561056105610561, \"bpm\": 65.83345202925061, \"Moon Phase\": \"Full Moon\"}, {\"Unnamed: 0\": 161, \"date\": \"2022-01-25\", \"temperature\": -2.4248908192897574, \"overall_score\": 71, \"composition_score\": 17, \"revitalization_score\": 20, \"duration_score\": 34, \"deep_sleep_in_minutes\": 60, \"resting_heart_rate\": 60, \"restlessness\": 0.0684150513112884, \"bpm\": 64.5536610906217, \"Moon Phase\": \"Third Quarter\"}, {\"Unnamed: 0\": 162, \"date\": \"2022-01-31\", \"temperature\": -2.0636574513401187, \"overall_score\": 80, \"composition_score\": 21, \"revitalization_score\": 19, \"duration_score\": 40, \"deep_sleep_in_minutes\": 74, \"resting_heart_rate\": 59, \"restlessness\": 0.0584926884139482, \"bpm\": 61.964398678358656, \"Moon Phase\": \"New Moon\"}, {\"Unnamed: 0\": 163, \"date\": \"2022-01-30\", \"temperature\": -2.3247228816036105, \"overall_score\": 85, \"composition_score\": 21, \"revitalization_score\": 22, \"duration_score\": 42, \"deep_sleep_in_minutes\": 88, \"resting_heart_rate\": 61, \"restlessness\": 0.052200614124872, \"bpm\": 67.43137045561059, \"Moon Phase\": \"New Moon\"}, {\"Unnamed: 0\": 164, \"date\": \"2022-01-24\", \"temperature\": -1.7236301702143235, \"overall_score\": 72, \"composition_score\": 19, \"revitalization_score\": 20, \"duration_score\": 33, \"deep_sleep_in_minutes\": 70, \"resting_heart_rate\": 60, \"restlessness\": 0.0858960763520678, \"bpm\": 67.04716055738761, \"Moon Phase\": \"Third Quarter\"}, {\"Unnamed: 0\": 165, \"date\": \"2022-06-05\", \"temperature\": -1.596331967213119, \"overall_score\": 79, \"composition_score\": 19, \"revitalization_score\": 19, \"duration_score\": 41, \"deep_sleep_in_minutes\": 93, \"resting_heart_rate\": 55, \"restlessness\": 0.0821917808219178, \"bpm\": 58.89645775873417, \"Moon Phase\": \"First Quarter\"}, {\"Unnamed: 0\": 166, \"date\": \"2022-01-18\", \"temperature\": -2.356941756857033, \"overall_score\": 66, \"composition_score\": 15, \"revitalization_score\": 20, \"duration_score\": 31, \"deep_sleep_in_minutes\": 37, \"resting_heart_rate\": 57, \"restlessness\": 0.0580296896086369, \"bpm\": 63.42855153006249, \"Moon Phase\": \"Full Moon\"}, {\"Unnamed: 0\": 168, \"date\": \"2022-04-28\", \"temperature\": -2.2398680675108227, \"overall_score\": 81, \"composition_score\": 21, \"revitalization_score\": 18, \"duration_score\": 42, \"deep_sleep_in_minutes\": 64, \"resting_heart_rate\": 57, \"restlessness\": 0.0542476970317297, \"bpm\": 65.74298742644494, \"Moon Phase\": \"New Moon\"}, {\"Unnamed: 0\": 170, \"date\": \"2022-03-09\", \"temperature\": -1.638228438228436, \"overall_score\": 74, \"composition_score\": 18, \"revitalization_score\": 17, \"duration_score\": 39, \"deep_sleep_in_minutes\": 99, \"resting_heart_rate\": 61, \"restlessness\": 0.0807651434643995, \"bpm\": 62.51116522279548, \"Moon Phase\": \"First Quarter\"}, {\"Unnamed: 0\": 171, \"date\": \"2022-04-14\", \"temperature\": -2.758289640179626, \"overall_score\": 77, \"composition_score\": 23, \"revitalization_score\": 14, \"duration_score\": 40, \"deep_sleep_in_minutes\": 107, \"resting_heart_rate\": 56, \"restlessness\": 0.0693467336683417, \"bpm\": 63.09548840862185, \"Moon Phase\": \"Full Moon\"}]}}, {\"mode\": \"vega-lite\"});\n",
       "</script>"
      ],
      "text/plain": [
       "alt.Chart(...)"
      ]
     },
     "execution_count": 4,
     "metadata": {},
     "output_type": "execute_result"
    }
   ],
   "source": [
    "import altair as alt\n",
    "from altair import to_values\n",
    "\n",
    "values = to_values(df)\n",
    "\n",
    "alt.Chart.from_dict({\n",
    "    \"data\": values,\n",
    "    \"mark\": \"point\",\n",
    "    \"encoding\": {\n",
    "        \"x\": {\n",
    "            \"field\": \"date\",\n",
    "            \"type\": \"temporal\",\n",
    "        },\n",
    "        \"color\": {\n",
    "            \"field\": \"Moon Phase\",\n",
    "            \"type\": \"nominal\",\n",
    "        },\n",
    "         \"y\": {\n",
    "            \"field\": \"overall_score\",\n",
    "            \"type\": \"quantitative\",\n",
    "        },\n",
    "    }\n",
    "})"
   ]
  },
  {
   "cell_type": "code",
   "execution_count": 5,
   "id": "05d18dc9",
   "metadata": {
    "pycharm": {
     "name": "#%%\n"
    }
   },
   "outputs": [],
   "source": [
    "df_avg = df.copy()"
   ]
  },
  {
   "cell_type": "code",
   "execution_count": 13,
   "id": "2cc108a7",
   "metadata": {
    "pycharm": {
     "name": "#%%\n"
    }
   },
   "outputs": [],
   "source": [
    "df.dr"
   ]
  }
 ],
 "metadata": {
  "kernelspec": {
   "display_name": "Python 3 (ipykernel)",
   "language": "python",
   "name": "python3"
  },
  "language_info": {
   "codemirror_mode": {
    "name": "ipython",
    "version": 3
   },
   "file_extension": ".py",
   "mimetype": "text/x-python",
   "name": "python",
   "nbconvert_exporter": "python",
   "pygments_lexer": "ipython3",
   "version": "3.9.12"
  }
 },
 "nbformat": 4,
 "nbformat_minor": 5
}
