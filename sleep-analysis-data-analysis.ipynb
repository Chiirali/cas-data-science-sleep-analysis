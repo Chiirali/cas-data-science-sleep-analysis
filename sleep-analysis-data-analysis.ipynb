{
 "cells": [
  {
   "cell_type": "code",
   "execution_count": 1,
   "id": "3327f158",
   "metadata": {
    "pycharm": {
     "name": "#%%\n"
    }
   },
   "outputs": [],
   "source": [
    "import numpy as np\n",
    "import seaborn as sns\n",
    "import matplotlib.pyplot as plt\n",
    "import pandas as pd\n",
    "import datetime\n",
    "from datetime import timedelta\n",
    "import altair as alt\n",
    "import glob\n",
    "import os"
   ]
  },
  {
   "cell_type": "markdown",
   "source": [
    "# CAS Data Science Projekt Sleep Analysis - Data Analysis"
   ],
   "metadata": {
    "collapsed": false,
    "pycharm": {
     "name": "#%% md\n"
    }
   }
  },
  {
   "cell_type": "code",
   "execution_count": 4,
   "outputs": [],
   "source": [
    "df = pd.read_csv('prepared/fitbit_data.csv')"
   ],
   "metadata": {
    "collapsed": false,
    "pycharm": {
     "name": "#%%\n"
    }
   }
  },
  {
   "cell_type": "code",
   "execution_count": 5,
   "outputs": [
    {
     "data": {
      "text/plain": "   Unnamed: 0        date  temperature  overall_score  composition_score  \\\n0           0  2022-03-04    -2.494845             67                 17   \n1           1  2022-03-04    -2.494845             67                 17   \n2           2  2022-04-19    -2.374779             75                 16   \n3           3  2022-04-19    -2.374779             75                 16   \n4           4  2022-03-10    -3.100641             88                 21   \n5           5  2022-03-10    -3.100641             88                 21   \n6           6  2022-04-25    -3.082295             56                 15   \n7           7  2022-04-25    -3.082295             56                 15   \n8           8  2022-06-08    -2.983674             75                 20   \n9           9  2022-06-08    -2.983674             75                 20   \n\n   revitalization_score  duration_score  deep_sleep_in_minutes  \\\n0                    15              35                     66   \n1                    15              35                     66   \n2                    17              42                     62   \n3                    17              42                     62   \n4                    22              45                    126   \n5                    22              45                    126   \n6                    15              26                     23   \n7                    15              26                     23   \n8                    19              36                     69   \n9                    19              36                     69   \n\n   resting_heart_rate  restlessness        bpm  \n0                  60      0.073479  71.721032  \n1                  60      0.073479  66.026906  \n2                  52      0.071966  62.902086  \n3                  52      0.071966  62.771123  \n4                  60      0.054695  68.815310  \n5                  60      0.054695  65.598152  \n6                  56      0.100186  73.691659  \n7                  56      0.100186  60.684324  \n8                  55      0.087816  65.124722  \n9                  55      0.087816  73.201905  ",
      "text/html": "<div>\n<style scoped>\n    .dataframe tbody tr th:only-of-type {\n        vertical-align: middle;\n    }\n\n    .dataframe tbody tr th {\n        vertical-align: top;\n    }\n\n    .dataframe thead th {\n        text-align: right;\n    }\n</style>\n<table border=\"1\" class=\"dataframe\">\n  <thead>\n    <tr style=\"text-align: right;\">\n      <th></th>\n      <th>Unnamed: 0</th>\n      <th>date</th>\n      <th>temperature</th>\n      <th>overall_score</th>\n      <th>composition_score</th>\n      <th>revitalization_score</th>\n      <th>duration_score</th>\n      <th>deep_sleep_in_minutes</th>\n      <th>resting_heart_rate</th>\n      <th>restlessness</th>\n      <th>bpm</th>\n    </tr>\n  </thead>\n  <tbody>\n    <tr>\n      <th>0</th>\n      <td>0</td>\n      <td>2022-03-04</td>\n      <td>-2.494845</td>\n      <td>67</td>\n      <td>17</td>\n      <td>15</td>\n      <td>35</td>\n      <td>66</td>\n      <td>60</td>\n      <td>0.073479</td>\n      <td>71.721032</td>\n    </tr>\n    <tr>\n      <th>1</th>\n      <td>1</td>\n      <td>2022-03-04</td>\n      <td>-2.494845</td>\n      <td>67</td>\n      <td>17</td>\n      <td>15</td>\n      <td>35</td>\n      <td>66</td>\n      <td>60</td>\n      <td>0.073479</td>\n      <td>66.026906</td>\n    </tr>\n    <tr>\n      <th>2</th>\n      <td>2</td>\n      <td>2022-04-19</td>\n      <td>-2.374779</td>\n      <td>75</td>\n      <td>16</td>\n      <td>17</td>\n      <td>42</td>\n      <td>62</td>\n      <td>52</td>\n      <td>0.071966</td>\n      <td>62.902086</td>\n    </tr>\n    <tr>\n      <th>3</th>\n      <td>3</td>\n      <td>2022-04-19</td>\n      <td>-2.374779</td>\n      <td>75</td>\n      <td>16</td>\n      <td>17</td>\n      <td>42</td>\n      <td>62</td>\n      <td>52</td>\n      <td>0.071966</td>\n      <td>62.771123</td>\n    </tr>\n    <tr>\n      <th>4</th>\n      <td>4</td>\n      <td>2022-03-10</td>\n      <td>-3.100641</td>\n      <td>88</td>\n      <td>21</td>\n      <td>22</td>\n      <td>45</td>\n      <td>126</td>\n      <td>60</td>\n      <td>0.054695</td>\n      <td>68.815310</td>\n    </tr>\n    <tr>\n      <th>5</th>\n      <td>5</td>\n      <td>2022-03-10</td>\n      <td>-3.100641</td>\n      <td>88</td>\n      <td>21</td>\n      <td>22</td>\n      <td>45</td>\n      <td>126</td>\n      <td>60</td>\n      <td>0.054695</td>\n      <td>65.598152</td>\n    </tr>\n    <tr>\n      <th>6</th>\n      <td>6</td>\n      <td>2022-04-25</td>\n      <td>-3.082295</td>\n      <td>56</td>\n      <td>15</td>\n      <td>15</td>\n      <td>26</td>\n      <td>23</td>\n      <td>56</td>\n      <td>0.100186</td>\n      <td>73.691659</td>\n    </tr>\n    <tr>\n      <th>7</th>\n      <td>7</td>\n      <td>2022-04-25</td>\n      <td>-3.082295</td>\n      <td>56</td>\n      <td>15</td>\n      <td>15</td>\n      <td>26</td>\n      <td>23</td>\n      <td>56</td>\n      <td>0.100186</td>\n      <td>60.684324</td>\n    </tr>\n    <tr>\n      <th>8</th>\n      <td>8</td>\n      <td>2022-06-08</td>\n      <td>-2.983674</td>\n      <td>75</td>\n      <td>20</td>\n      <td>19</td>\n      <td>36</td>\n      <td>69</td>\n      <td>55</td>\n      <td>0.087816</td>\n      <td>65.124722</td>\n    </tr>\n    <tr>\n      <th>9</th>\n      <td>9</td>\n      <td>2022-06-08</td>\n      <td>-2.983674</td>\n      <td>75</td>\n      <td>20</td>\n      <td>19</td>\n      <td>36</td>\n      <td>69</td>\n      <td>55</td>\n      <td>0.087816</td>\n      <td>73.201905</td>\n    </tr>\n  </tbody>\n</table>\n</div>"
     },
     "execution_count": 5,
     "metadata": {},
     "output_type": "execute_result"
    }
   ],
   "source": [
    "df.head(10)"
   ],
   "metadata": {
    "collapsed": false,
    "pycharm": {
     "name": "#%%\n"
    }
   }
  },
  {
   "cell_type": "code",
   "execution_count": null,
   "outputs": [],
   "source": [],
   "metadata": {
    "collapsed": false,
    "pycharm": {
     "name": "#%%\n"
    }
   }
  },
  {
   "cell_type": "code",
   "execution_count": null,
   "outputs": [],
   "source": [],
   "metadata": {
    "collapsed": false,
    "pycharm": {
     "name": "#%%\n"
    }
   }
  },
  {
   "cell_type": "code",
   "execution_count": null,
   "outputs": [],
   "source": [],
   "metadata": {
    "collapsed": false,
    "pycharm": {
     "name": "#%%\n"
    }
   }
  },
  {
   "cell_type": "code",
   "execution_count": null,
   "outputs": [],
   "source": [],
   "metadata": {
    "collapsed": false,
    "pycharm": {
     "name": "#%%\n"
    }
   }
  },
  {
   "cell_type": "code",
   "execution_count": null,
   "outputs": [],
   "source": [],
   "metadata": {
    "collapsed": false,
    "pycharm": {
     "name": "#%%\n"
    }
   }
  }
 ],
 "metadata": {
  "kernelspec": {
   "display_name": "Python 3 (ipykernel)",
   "language": "python",
   "name": "python3"
  },
  "language_info": {
   "codemirror_mode": {
    "name": "ipython",
    "version": 3
   },
   "file_extension": ".py",
   "mimetype": "text/x-python",
   "name": "python",
   "nbconvert_exporter": "python",
   "pygments_lexer": "ipython3",
   "version": "3.9.7"
  }
 },
 "nbformat": 4,
 "nbformat_minor": 5
}