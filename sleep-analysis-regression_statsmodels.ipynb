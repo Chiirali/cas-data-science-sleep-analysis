{
 "cells": [
  {
   "cell_type": "code",
   "execution_count": 1,
   "id": "3327f158",
   "metadata": {
    "pycharm": {
     "name": "#%%\n"
    }
   },
   "outputs": [],
   "source": [
    "import numpy as np\n",
    "import pandas as pd\n",
    "from sklearn.model_selection import train_test_split\n",
    "import statsmodels.formula.api as smf\n",
    "from statsmodels.stats.anova import anova_lm\n",
    "import matplotlib.pyplot as plt\n",
    "import warnings\n",
    "warnings.filterwarnings('ignore')"
   ]
  },
  {
   "cell_type": "markdown",
   "id": "96a15e56",
   "metadata": {
    "pycharm": {
     "name": "#%% md\n"
    }
   },
   "source": [
    "# CAS Data Science Projekt Sleep Analysis - Linear Regression"
   ]
  },
  {
   "cell_type": "markdown",
   "source": [
    "# Prepare data\n"
   ],
   "metadata": {
    "collapsed": false,
    "pycharm": {
     "name": "#%% md\n"
    }
   }
  },
  {
   "cell_type": "code",
   "execution_count": 2,
   "outputs": [
    {
     "name": "stdout",
     "output_type": "stream",
     "text": [
      "         date  temp_delta  overall_score  composition_score  \\\n",
      "0  2022-03-04   -2.494845             67                 17   \n",
      "1  2022-04-19   -2.374779             75                 16   \n",
      "2  2022-03-10   -3.100641             88                 21   \n",
      "\n",
      "   revitalization_score  duration_score  deep_sleep_in_minutes  \\\n",
      "0                    15              35                     66   \n",
      "1                    17              42                     62   \n",
      "2                    22              45                    126   \n",
      "\n",
      "   resting_heart_rate  restlessness    avg_bpm     Moon Phase  \n",
      "0                  60      0.073479  66.494309       New Moon  \n",
      "1                  52      0.071966  58.762171            NaN  \n",
      "2                  60      0.054695  60.620142  First Quarter  \n"
     ]
    }
   ],
   "source": [
    "data = pd.read_csv('prepared/fitbit_data_moon_crisp.csv', index_col=0)\n",
    "print(data.head(3))\n",
    "data.dropna(inplace=True)\n",
    "data.drop(columns=['date', 'revitalization_score'], inplace=True)\n",
    "data.drop(columns=['restlessness'], inplace=True)\n",
    "baseline_temp = 33\n",
    "data['scaled_temp'] = data['temp_delta'].apply(lambda x: baseline_temp+x)\n",
    "data.drop(columns=['temp_delta'], inplace=True)\n",
    "\n",
    "data.rename(columns={'overall_score':'score', 'duration_score':'DUS', 'deep_sleep_in_minutes':'DS', 'composition_score':'CS', 'Moon Phase': 'moon', 'scaled_temp':'temp','resting_heart_rate':'RHR', 'bpm':\"BPM\"}, inplace=True)"
   ],
   "metadata": {
    "collapsed": false,
    "pycharm": {
     "name": "#%%\n"
    }
   }
  },
  {
   "cell_type": "code",
   "execution_count": 3,
   "outputs": [
    {
     "data": {
      "text/plain": "   score  CS  DUS   DS  RHR    avg_bpm           moon       temp\n0     67  17   35   66   60  66.494309       New Moon  29.505155\n2     88  21   45  126   60  60.620142  First Quarter  28.899359\n3     56  15   26   23   56  60.969515  Third Quarter  28.917705\n4     75  20   36   69   55  59.398694  First Quarter  29.016326\n5     68  19   31   69   60  58.885041       New Moon  29.858560",
      "text/html": "<div>\n<style scoped>\n    .dataframe tbody tr th:only-of-type {\n        vertical-align: middle;\n    }\n\n    .dataframe tbody tr th {\n        vertical-align: top;\n    }\n\n    .dataframe thead th {\n        text-align: right;\n    }\n</style>\n<table border=\"1\" class=\"dataframe\">\n  <thead>\n    <tr style=\"text-align: right;\">\n      <th></th>\n      <th>score</th>\n      <th>CS</th>\n      <th>DUS</th>\n      <th>DS</th>\n      <th>RHR</th>\n      <th>avg_bpm</th>\n      <th>moon</th>\n      <th>temp</th>\n    </tr>\n  </thead>\n  <tbody>\n    <tr>\n      <th>0</th>\n      <td>67</td>\n      <td>17</td>\n      <td>35</td>\n      <td>66</td>\n      <td>60</td>\n      <td>66.494309</td>\n      <td>New Moon</td>\n      <td>29.505155</td>\n    </tr>\n    <tr>\n      <th>2</th>\n      <td>88</td>\n      <td>21</td>\n      <td>45</td>\n      <td>126</td>\n      <td>60</td>\n      <td>60.620142</td>\n      <td>First Quarter</td>\n      <td>28.899359</td>\n    </tr>\n    <tr>\n      <th>3</th>\n      <td>56</td>\n      <td>15</td>\n      <td>26</td>\n      <td>23</td>\n      <td>56</td>\n      <td>60.969515</td>\n      <td>Third Quarter</td>\n      <td>28.917705</td>\n    </tr>\n    <tr>\n      <th>4</th>\n      <td>75</td>\n      <td>20</td>\n      <td>36</td>\n      <td>69</td>\n      <td>55</td>\n      <td>59.398694</td>\n      <td>First Quarter</td>\n      <td>29.016326</td>\n    </tr>\n    <tr>\n      <th>5</th>\n      <td>68</td>\n      <td>19</td>\n      <td>31</td>\n      <td>69</td>\n      <td>60</td>\n      <td>58.885041</td>\n      <td>New Moon</td>\n      <td>29.858560</td>\n    </tr>\n  </tbody>\n</table>\n</div>"
     },
     "execution_count": 3,
     "metadata": {},
     "output_type": "execute_result"
    }
   ],
   "source": [
    "data.head(5)"
   ],
   "metadata": {
    "collapsed": false,
    "pycharm": {
     "name": "#%%\n"
    }
   }
  },
  {
   "cell_type": "code",
   "execution_count": 4,
   "outputs": [
    {
     "ename": "PatsyError",
     "evalue": "Error evaluating factor: NameError: name 'BPM' is not defined\n    score ~ CS + DUS + DS + RHR + BPM + moon + temp\n                                  ^^^",
     "output_type": "error",
     "traceback": [
      "\u001B[0;31m---------------------------------------------------------------------------\u001B[0m",
      "\u001B[0;31mNameError\u001B[0m                                 Traceback (most recent call last)",
      "File \u001B[0;32m/usr/local/lib/python3.9/site-packages/patsy/compat.py:36\u001B[0m, in \u001B[0;36mcall_and_wrap_exc\u001B[0;34m(msg, origin, f, *args, **kwargs)\u001B[0m\n\u001B[1;32m     35\u001B[0m \u001B[38;5;28;01mtry\u001B[39;00m:\n\u001B[0;32m---> 36\u001B[0m     \u001B[38;5;28;01mreturn\u001B[39;00m \u001B[43mf\u001B[49m\u001B[43m(\u001B[49m\u001B[38;5;241;43m*\u001B[39;49m\u001B[43margs\u001B[49m\u001B[43m,\u001B[49m\u001B[43m \u001B[49m\u001B[38;5;241;43m*\u001B[39;49m\u001B[38;5;241;43m*\u001B[39;49m\u001B[43mkwargs\u001B[49m\u001B[43m)\u001B[49m\n\u001B[1;32m     37\u001B[0m \u001B[38;5;28;01mexcept\u001B[39;00m \u001B[38;5;167;01mException\u001B[39;00m \u001B[38;5;28;01mas\u001B[39;00m e:\n",
      "File \u001B[0;32m/usr/local/lib/python3.9/site-packages/patsy/eval.py:165\u001B[0m, in \u001B[0;36mEvalEnvironment.eval\u001B[0;34m(self, expr, source_name, inner_namespace)\u001B[0m\n\u001B[1;32m    164\u001B[0m code \u001B[38;5;241m=\u001B[39m \u001B[38;5;28mcompile\u001B[39m(expr, source_name, \u001B[38;5;124m\"\u001B[39m\u001B[38;5;124meval\u001B[39m\u001B[38;5;124m\"\u001B[39m, \u001B[38;5;28mself\u001B[39m\u001B[38;5;241m.\u001B[39mflags, \u001B[38;5;28;01mFalse\u001B[39;00m)\n\u001B[0;32m--> 165\u001B[0m \u001B[38;5;28;01mreturn\u001B[39;00m \u001B[38;5;28;43meval\u001B[39;49m\u001B[43m(\u001B[49m\u001B[43mcode\u001B[49m\u001B[43m,\u001B[49m\u001B[43m \u001B[49m\u001B[43m{\u001B[49m\u001B[43m}\u001B[49m\u001B[43m,\u001B[49m\u001B[43m \u001B[49m\u001B[43mVarLookupDict\u001B[49m\u001B[43m(\u001B[49m\u001B[43m[\u001B[49m\u001B[43minner_namespace\u001B[49m\u001B[43m]\u001B[49m\n\u001B[1;32m    166\u001B[0m \u001B[43m                                    \u001B[49m\u001B[38;5;241;43m+\u001B[39;49m\u001B[43m \u001B[49m\u001B[38;5;28;43mself\u001B[39;49m\u001B[38;5;241;43m.\u001B[39;49m\u001B[43m_namespaces\u001B[49m\u001B[43m)\u001B[49m\u001B[43m)\u001B[49m\n",
      "File \u001B[0;32m<string>:1\u001B[0m, in \u001B[0;36m<module>\u001B[0;34m\u001B[0m\n",
      "\u001B[0;31mNameError\u001B[0m: name 'BPM' is not defined",
      "\nThe above exception was the direct cause of the following exception:\n",
      "\u001B[0;31mPatsyError\u001B[0m                                Traceback (most recent call last)",
      "Input \u001B[0;32mIn [4]\u001B[0m, in \u001B[0;36m<module>\u001B[0;34m\u001B[0m\n\u001B[0;32m----> 1\u001B[0m mod \u001B[38;5;241m=\u001B[39m \u001B[43msmf\u001B[49m\u001B[38;5;241;43m.\u001B[39;49m\u001B[43mols\u001B[49m\u001B[43m(\u001B[49m\u001B[43mformula\u001B[49m\u001B[38;5;241;43m=\u001B[39;49m\u001B[38;5;124;43m'\u001B[39;49m\u001B[38;5;124;43mscore ~ CS + DUS + DS + RHR + BPM + moon + temp\u001B[39;49m\u001B[38;5;124;43m'\u001B[39;49m\u001B[43m,\u001B[49m\u001B[43m \u001B[49m\u001B[43mdata\u001B[49m\u001B[38;5;241;43m=\u001B[39;49m\u001B[43mdata\u001B[49m\u001B[43m)\u001B[49m\u001B[38;5;241m.\u001B[39mfit()\n",
      "File \u001B[0;32m/usr/local/lib/python3.9/site-packages/statsmodels/base/model.py:200\u001B[0m, in \u001B[0;36mModel.from_formula\u001B[0;34m(cls, formula, data, subset, drop_cols, *args, **kwargs)\u001B[0m\n\u001B[1;32m    197\u001B[0m \u001B[38;5;28;01mif\u001B[39;00m missing \u001B[38;5;241m==\u001B[39m \u001B[38;5;124m'\u001B[39m\u001B[38;5;124mnone\u001B[39m\u001B[38;5;124m'\u001B[39m:  \u001B[38;5;66;03m# with patsy it's drop or raise. let's raise.\u001B[39;00m\n\u001B[1;32m    198\u001B[0m     missing \u001B[38;5;241m=\u001B[39m \u001B[38;5;124m'\u001B[39m\u001B[38;5;124mraise\u001B[39m\u001B[38;5;124m'\u001B[39m\n\u001B[0;32m--> 200\u001B[0m tmp \u001B[38;5;241m=\u001B[39m \u001B[43mhandle_formula_data\u001B[49m\u001B[43m(\u001B[49m\u001B[43mdata\u001B[49m\u001B[43m,\u001B[49m\u001B[43m \u001B[49m\u001B[38;5;28;43;01mNone\u001B[39;49;00m\u001B[43m,\u001B[49m\u001B[43m \u001B[49m\u001B[43mformula\u001B[49m\u001B[43m,\u001B[49m\u001B[43m \u001B[49m\u001B[43mdepth\u001B[49m\u001B[38;5;241;43m=\u001B[39;49m\u001B[43meval_env\u001B[49m\u001B[43m,\u001B[49m\n\u001B[1;32m    201\u001B[0m \u001B[43m                          \u001B[49m\u001B[43mmissing\u001B[49m\u001B[38;5;241;43m=\u001B[39;49m\u001B[43mmissing\u001B[49m\u001B[43m)\u001B[49m\n\u001B[1;32m    202\u001B[0m ((endog, exog), missing_idx, design_info) \u001B[38;5;241m=\u001B[39m tmp\n\u001B[1;32m    203\u001B[0m max_endog \u001B[38;5;241m=\u001B[39m \u001B[38;5;28mcls\u001B[39m\u001B[38;5;241m.\u001B[39m_formula_max_endog\n",
      "File \u001B[0;32m/usr/local/lib/python3.9/site-packages/statsmodels/formula/formulatools.py:63\u001B[0m, in \u001B[0;36mhandle_formula_data\u001B[0;34m(Y, X, formula, depth, missing)\u001B[0m\n\u001B[1;32m     61\u001B[0m \u001B[38;5;28;01melse\u001B[39;00m:\n\u001B[1;32m     62\u001B[0m     \u001B[38;5;28;01mif\u001B[39;00m data_util\u001B[38;5;241m.\u001B[39m_is_using_pandas(Y, \u001B[38;5;28;01mNone\u001B[39;00m):\n\u001B[0;32m---> 63\u001B[0m         result \u001B[38;5;241m=\u001B[39m \u001B[43mdmatrices\u001B[49m\u001B[43m(\u001B[49m\u001B[43mformula\u001B[49m\u001B[43m,\u001B[49m\u001B[43m \u001B[49m\u001B[43mY\u001B[49m\u001B[43m,\u001B[49m\u001B[43m \u001B[49m\u001B[43mdepth\u001B[49m\u001B[43m,\u001B[49m\u001B[43m \u001B[49m\u001B[43mreturn_type\u001B[49m\u001B[38;5;241;43m=\u001B[39;49m\u001B[38;5;124;43m'\u001B[39;49m\u001B[38;5;124;43mdataframe\u001B[39;49m\u001B[38;5;124;43m'\u001B[39;49m\u001B[43m,\u001B[49m\n\u001B[1;32m     64\u001B[0m \u001B[43m                           \u001B[49m\u001B[43mNA_action\u001B[49m\u001B[38;5;241;43m=\u001B[39;49m\u001B[43mna_action\u001B[49m\u001B[43m)\u001B[49m\n\u001B[1;32m     65\u001B[0m     \u001B[38;5;28;01melse\u001B[39;00m:\n\u001B[1;32m     66\u001B[0m         result \u001B[38;5;241m=\u001B[39m dmatrices(formula, Y, depth, return_type\u001B[38;5;241m=\u001B[39m\u001B[38;5;124m'\u001B[39m\u001B[38;5;124mdataframe\u001B[39m\u001B[38;5;124m'\u001B[39m,\n\u001B[1;32m     67\u001B[0m                            NA_action\u001B[38;5;241m=\u001B[39mna_action)\n",
      "File \u001B[0;32m/usr/local/lib/python3.9/site-packages/patsy/highlevel.py:309\u001B[0m, in \u001B[0;36mdmatrices\u001B[0;34m(formula_like, data, eval_env, NA_action, return_type)\u001B[0m\n\u001B[1;32m    299\u001B[0m \u001B[38;5;124;03m\"\"\"Construct two design matrices given a formula_like and data.\u001B[39;00m\n\u001B[1;32m    300\u001B[0m \n\u001B[1;32m    301\u001B[0m \u001B[38;5;124;03mThis function is identical to :func:`dmatrix`, except that it requires\u001B[39;00m\n\u001B[0;32m   (...)\u001B[0m\n\u001B[1;32m    306\u001B[0m \u001B[38;5;124;03mSee :func:`dmatrix` for details.\u001B[39;00m\n\u001B[1;32m    307\u001B[0m \u001B[38;5;124;03m\"\"\"\u001B[39;00m\n\u001B[1;32m    308\u001B[0m eval_env \u001B[38;5;241m=\u001B[39m EvalEnvironment\u001B[38;5;241m.\u001B[39mcapture(eval_env, reference\u001B[38;5;241m=\u001B[39m\u001B[38;5;241m1\u001B[39m)\n\u001B[0;32m--> 309\u001B[0m (lhs, rhs) \u001B[38;5;241m=\u001B[39m \u001B[43m_do_highlevel_design\u001B[49m\u001B[43m(\u001B[49m\u001B[43mformula_like\u001B[49m\u001B[43m,\u001B[49m\u001B[43m \u001B[49m\u001B[43mdata\u001B[49m\u001B[43m,\u001B[49m\u001B[43m \u001B[49m\u001B[43meval_env\u001B[49m\u001B[43m,\u001B[49m\n\u001B[1;32m    310\u001B[0m \u001B[43m                                  \u001B[49m\u001B[43mNA_action\u001B[49m\u001B[43m,\u001B[49m\u001B[43m \u001B[49m\u001B[43mreturn_type\u001B[49m\u001B[43m)\u001B[49m\n\u001B[1;32m    311\u001B[0m \u001B[38;5;28;01mif\u001B[39;00m lhs\u001B[38;5;241m.\u001B[39mshape[\u001B[38;5;241m1\u001B[39m] \u001B[38;5;241m==\u001B[39m \u001B[38;5;241m0\u001B[39m:\n\u001B[1;32m    312\u001B[0m     \u001B[38;5;28;01mraise\u001B[39;00m PatsyError(\u001B[38;5;124m\"\u001B[39m\u001B[38;5;124mmodel is missing required outcome variables\u001B[39m\u001B[38;5;124m\"\u001B[39m)\n",
      "File \u001B[0;32m/usr/local/lib/python3.9/site-packages/patsy/highlevel.py:164\u001B[0m, in \u001B[0;36m_do_highlevel_design\u001B[0;34m(formula_like, data, eval_env, NA_action, return_type)\u001B[0m\n\u001B[1;32m    162\u001B[0m \u001B[38;5;28;01mdef\u001B[39;00m \u001B[38;5;21mdata_iter_maker\u001B[39m():\n\u001B[1;32m    163\u001B[0m     \u001B[38;5;28;01mreturn\u001B[39;00m \u001B[38;5;28miter\u001B[39m([data])\n\u001B[0;32m--> 164\u001B[0m design_infos \u001B[38;5;241m=\u001B[39m \u001B[43m_try_incr_builders\u001B[49m\u001B[43m(\u001B[49m\u001B[43mformula_like\u001B[49m\u001B[43m,\u001B[49m\u001B[43m \u001B[49m\u001B[43mdata_iter_maker\u001B[49m\u001B[43m,\u001B[49m\u001B[43m \u001B[49m\u001B[43meval_env\u001B[49m\u001B[43m,\u001B[49m\n\u001B[1;32m    165\u001B[0m \u001B[43m                                  \u001B[49m\u001B[43mNA_action\u001B[49m\u001B[43m)\u001B[49m\n\u001B[1;32m    166\u001B[0m \u001B[38;5;28;01mif\u001B[39;00m design_infos \u001B[38;5;129;01mis\u001B[39;00m \u001B[38;5;129;01mnot\u001B[39;00m \u001B[38;5;28;01mNone\u001B[39;00m:\n\u001B[1;32m    167\u001B[0m     \u001B[38;5;28;01mreturn\u001B[39;00m build_design_matrices(design_infos, data,\n\u001B[1;32m    168\u001B[0m                                  NA_action\u001B[38;5;241m=\u001B[39mNA_action,\n\u001B[1;32m    169\u001B[0m                                  return_type\u001B[38;5;241m=\u001B[39mreturn_type)\n",
      "File \u001B[0;32m/usr/local/lib/python3.9/site-packages/patsy/highlevel.py:66\u001B[0m, in \u001B[0;36m_try_incr_builders\u001B[0;34m(formula_like, data_iter_maker, eval_env, NA_action)\u001B[0m\n\u001B[1;32m     64\u001B[0m \u001B[38;5;28;01mif\u001B[39;00m \u001B[38;5;28misinstance\u001B[39m(formula_like, ModelDesc):\n\u001B[1;32m     65\u001B[0m     \u001B[38;5;28;01massert\u001B[39;00m \u001B[38;5;28misinstance\u001B[39m(eval_env, EvalEnvironment)\n\u001B[0;32m---> 66\u001B[0m     \u001B[38;5;28;01mreturn\u001B[39;00m \u001B[43mdesign_matrix_builders\u001B[49m\u001B[43m(\u001B[49m\u001B[43m[\u001B[49m\u001B[43mformula_like\u001B[49m\u001B[38;5;241;43m.\u001B[39;49m\u001B[43mlhs_termlist\u001B[49m\u001B[43m,\u001B[49m\n\u001B[1;32m     67\u001B[0m \u001B[43m                                   \u001B[49m\u001B[43mformula_like\u001B[49m\u001B[38;5;241;43m.\u001B[39;49m\u001B[43mrhs_termlist\u001B[49m\u001B[43m]\u001B[49m\u001B[43m,\u001B[49m\n\u001B[1;32m     68\u001B[0m \u001B[43m                                  \u001B[49m\u001B[43mdata_iter_maker\u001B[49m\u001B[43m,\u001B[49m\n\u001B[1;32m     69\u001B[0m \u001B[43m                                  \u001B[49m\u001B[43meval_env\u001B[49m\u001B[43m,\u001B[49m\n\u001B[1;32m     70\u001B[0m \u001B[43m                                  \u001B[49m\u001B[43mNA_action\u001B[49m\u001B[43m)\u001B[49m\n\u001B[1;32m     71\u001B[0m \u001B[38;5;28;01melse\u001B[39;00m:\n\u001B[1;32m     72\u001B[0m     \u001B[38;5;28;01mreturn\u001B[39;00m \u001B[38;5;28;01mNone\u001B[39;00m\n",
      "File \u001B[0;32m/usr/local/lib/python3.9/site-packages/patsy/build.py:693\u001B[0m, in \u001B[0;36mdesign_matrix_builders\u001B[0;34m(termlists, data_iter_maker, eval_env, NA_action)\u001B[0m\n\u001B[1;32m    689\u001B[0m factor_states \u001B[38;5;241m=\u001B[39m _factors_memorize(all_factors, data_iter_maker, eval_env)\n\u001B[1;32m    690\u001B[0m \u001B[38;5;66;03m# Now all the factors have working eval methods, so we can evaluate them\u001B[39;00m\n\u001B[1;32m    691\u001B[0m \u001B[38;5;66;03m# on some data to find out what type of data they return.\u001B[39;00m\n\u001B[1;32m    692\u001B[0m (num_column_counts,\n\u001B[0;32m--> 693\u001B[0m  cat_levels_contrasts) \u001B[38;5;241m=\u001B[39m \u001B[43m_examine_factor_types\u001B[49m\u001B[43m(\u001B[49m\u001B[43mall_factors\u001B[49m\u001B[43m,\u001B[49m\n\u001B[1;32m    694\u001B[0m \u001B[43m                                               \u001B[49m\u001B[43mfactor_states\u001B[49m\u001B[43m,\u001B[49m\n\u001B[1;32m    695\u001B[0m \u001B[43m                                               \u001B[49m\u001B[43mdata_iter_maker\u001B[49m\u001B[43m,\u001B[49m\n\u001B[1;32m    696\u001B[0m \u001B[43m                                               \u001B[49m\u001B[43mNA_action\u001B[49m\u001B[43m)\u001B[49m\n\u001B[1;32m    697\u001B[0m \u001B[38;5;66;03m# Now we need the factor infos, which encapsulate the knowledge of\u001B[39;00m\n\u001B[1;32m    698\u001B[0m \u001B[38;5;66;03m# how to turn any given factor into a chunk of data:\u001B[39;00m\n\u001B[1;32m    699\u001B[0m factor_infos \u001B[38;5;241m=\u001B[39m {}\n",
      "File \u001B[0;32m/usr/local/lib/python3.9/site-packages/patsy/build.py:443\u001B[0m, in \u001B[0;36m_examine_factor_types\u001B[0;34m(factors, factor_states, data_iter_maker, NA_action)\u001B[0m\n\u001B[1;32m    441\u001B[0m \u001B[38;5;28;01mfor\u001B[39;00m data \u001B[38;5;129;01min\u001B[39;00m data_iter_maker():\n\u001B[1;32m    442\u001B[0m     \u001B[38;5;28;01mfor\u001B[39;00m factor \u001B[38;5;129;01min\u001B[39;00m \u001B[38;5;28mlist\u001B[39m(examine_needed):\n\u001B[0;32m--> 443\u001B[0m         value \u001B[38;5;241m=\u001B[39m \u001B[43mfactor\u001B[49m\u001B[38;5;241;43m.\u001B[39;49m\u001B[43meval\u001B[49m\u001B[43m(\u001B[49m\u001B[43mfactor_states\u001B[49m\u001B[43m[\u001B[49m\u001B[43mfactor\u001B[49m\u001B[43m]\u001B[49m\u001B[43m,\u001B[49m\u001B[43m \u001B[49m\u001B[43mdata\u001B[49m\u001B[43m)\u001B[49m\n\u001B[1;32m    444\u001B[0m         \u001B[38;5;28;01mif\u001B[39;00m factor \u001B[38;5;129;01min\u001B[39;00m cat_sniffers \u001B[38;5;129;01mor\u001B[39;00m guess_categorical(value):\n\u001B[1;32m    445\u001B[0m             \u001B[38;5;28;01mif\u001B[39;00m factor \u001B[38;5;129;01mnot\u001B[39;00m \u001B[38;5;129;01min\u001B[39;00m cat_sniffers:\n",
      "File \u001B[0;32m/usr/local/lib/python3.9/site-packages/patsy/eval.py:564\u001B[0m, in \u001B[0;36mEvalFactor.eval\u001B[0;34m(self, memorize_state, data)\u001B[0m\n\u001B[1;32m    563\u001B[0m \u001B[38;5;28;01mdef\u001B[39;00m \u001B[38;5;21meval\u001B[39m(\u001B[38;5;28mself\u001B[39m, memorize_state, data):\n\u001B[0;32m--> 564\u001B[0m     \u001B[38;5;28;01mreturn\u001B[39;00m \u001B[38;5;28;43mself\u001B[39;49m\u001B[38;5;241;43m.\u001B[39;49m\u001B[43m_eval\u001B[49m\u001B[43m(\u001B[49m\u001B[43mmemorize_state\u001B[49m\u001B[43m[\u001B[49m\u001B[38;5;124;43m\"\u001B[39;49m\u001B[38;5;124;43meval_code\u001B[39;49m\u001B[38;5;124;43m\"\u001B[39;49m\u001B[43m]\u001B[49m\u001B[43m,\u001B[49m\n\u001B[1;32m    565\u001B[0m \u001B[43m                      \u001B[49m\u001B[43mmemorize_state\u001B[49m\u001B[43m,\u001B[49m\n\u001B[1;32m    566\u001B[0m \u001B[43m                      \u001B[49m\u001B[43mdata\u001B[49m\u001B[43m)\u001B[49m\n",
      "File \u001B[0;32m/usr/local/lib/python3.9/site-packages/patsy/eval.py:547\u001B[0m, in \u001B[0;36mEvalFactor._eval\u001B[0;34m(self, code, memorize_state, data)\u001B[0m\n\u001B[1;32m    545\u001B[0m \u001B[38;5;28;01mdef\u001B[39;00m \u001B[38;5;21m_eval\u001B[39m(\u001B[38;5;28mself\u001B[39m, code, memorize_state, data):\n\u001B[1;32m    546\u001B[0m     inner_namespace \u001B[38;5;241m=\u001B[39m VarLookupDict([data, memorize_state[\u001B[38;5;124m\"\u001B[39m\u001B[38;5;124mtransforms\u001B[39m\u001B[38;5;124m\"\u001B[39m]])\n\u001B[0;32m--> 547\u001B[0m     \u001B[38;5;28;01mreturn\u001B[39;00m \u001B[43mcall_and_wrap_exc\u001B[49m\u001B[43m(\u001B[49m\u001B[38;5;124;43m\"\u001B[39;49m\u001B[38;5;124;43mError evaluating factor\u001B[39;49m\u001B[38;5;124;43m\"\u001B[39;49m\u001B[43m,\u001B[49m\n\u001B[1;32m    548\u001B[0m \u001B[43m                             \u001B[49m\u001B[38;5;28;43mself\u001B[39;49m\u001B[43m,\u001B[49m\n\u001B[1;32m    549\u001B[0m \u001B[43m                             \u001B[49m\u001B[43mmemorize_state\u001B[49m\u001B[43m[\u001B[49m\u001B[38;5;124;43m\"\u001B[39;49m\u001B[38;5;124;43meval_env\u001B[39;49m\u001B[38;5;124;43m\"\u001B[39;49m\u001B[43m]\u001B[49m\u001B[38;5;241;43m.\u001B[39;49m\u001B[43meval\u001B[49m\u001B[43m,\u001B[49m\n\u001B[1;32m    550\u001B[0m \u001B[43m                             \u001B[49m\u001B[43mcode\u001B[49m\u001B[43m,\u001B[49m\n\u001B[1;32m    551\u001B[0m \u001B[43m                             \u001B[49m\u001B[43minner_namespace\u001B[49m\u001B[38;5;241;43m=\u001B[39;49m\u001B[43minner_namespace\u001B[49m\u001B[43m)\u001B[49m\n",
      "File \u001B[0;32m/usr/local/lib/python3.9/site-packages/patsy/compat.py:43\u001B[0m, in \u001B[0;36mcall_and_wrap_exc\u001B[0;34m(msg, origin, f, *args, **kwargs)\u001B[0m\n\u001B[1;32m     39\u001B[0m     new_exc \u001B[38;5;241m=\u001B[39m PatsyError(\u001B[38;5;124m\"\u001B[39m\u001B[38;5;132;01m%s\u001B[39;00m\u001B[38;5;124m: \u001B[39m\u001B[38;5;132;01m%s\u001B[39;00m\u001B[38;5;124m: \u001B[39m\u001B[38;5;132;01m%s\u001B[39;00m\u001B[38;5;124m\"\u001B[39m\n\u001B[1;32m     40\u001B[0m                          \u001B[38;5;241m%\u001B[39m (msg, e\u001B[38;5;241m.\u001B[39m\u001B[38;5;18m__class__\u001B[39m\u001B[38;5;241m.\u001B[39m\u001B[38;5;18m__name__\u001B[39m, e),\n\u001B[1;32m     41\u001B[0m                          origin)\n\u001B[1;32m     42\u001B[0m     \u001B[38;5;66;03m# Use 'exec' to hide this syntax from the Python 2 parser:\u001B[39;00m\n\u001B[0;32m---> 43\u001B[0m     \u001B[43mexec\u001B[49m\u001B[43m(\u001B[49m\u001B[38;5;124;43m\"\u001B[39;49m\u001B[38;5;124;43mraise new_exc from e\u001B[39;49m\u001B[38;5;124;43m\"\u001B[39;49m\u001B[43m)\u001B[49m\n\u001B[1;32m     44\u001B[0m \u001B[38;5;28;01melse\u001B[39;00m:\n\u001B[1;32m     45\u001B[0m     \u001B[38;5;66;03m# In python 2, we just let the original exception escape -- better\u001B[39;00m\n\u001B[1;32m     46\u001B[0m     \u001B[38;5;66;03m# than destroying the traceback. But if it's a PatsyError, we can\u001B[39;00m\n\u001B[1;32m     47\u001B[0m     \u001B[38;5;66;03m# at least set the origin properly.\u001B[39;00m\n\u001B[1;32m     48\u001B[0m     \u001B[38;5;28;01mif\u001B[39;00m \u001B[38;5;28misinstance\u001B[39m(e, PatsyError):\n",
      "File \u001B[0;32m<string>:1\u001B[0m, in \u001B[0;36m<module>\u001B[0;34m\u001B[0m\n",
      "\u001B[0;31mPatsyError\u001B[0m: Error evaluating factor: NameError: name 'BPM' is not defined\n    score ~ CS + DUS + DS + RHR + BPM + moon + temp\n                                  ^^^"
     ]
    }
   ],
   "source": [
    "mod = smf.ols(formula='score ~ CS + DUS + DS + RHR + BPM + moon + temp', data=data).fit()"
   ],
   "metadata": {
    "collapsed": false,
    "pycharm": {
     "name": "#%%\n"
    }
   }
  },
  {
   "cell_type": "code",
   "execution_count": null,
   "outputs": [],
   "source": [
    "print(mod.summary())"
   ],
   "metadata": {
    "collapsed": false,
    "pycharm": {
     "name": "#%%\n"
    }
   }
  },
  {
   "cell_type": "code",
   "execution_count": null,
   "outputs": [],
   "source": [
    "np.sqrt(mod.scale)"
   ],
   "metadata": {
    "collapsed": false,
    "pycharm": {
     "name": "#%%\n"
    }
   }
  },
  {
   "cell_type": "code",
   "execution_count": null,
   "outputs": [],
   "source": [
    "plt.close()\n",
    "\n",
    "plt.scatter(data.score, mod.fittedvalues.values, color='red')\n",
    "plt.xlim([40,100])\n",
    "plt.ylim([40,100])\n",
    "plt.grid()\n",
    "plt.axhline(y=0, color='black', linewidth=0.5)\n",
    "plt.axvline(x=0, color='black', linewidth=0.5)\n",
    "plt.title('Sleep Overall Score: Measured versus Fitted')\n",
    "plt.xlabel('mod.fittedvalues.values')\n",
    "plt.ylabel('score')\n",
    "plt.axline((1, 1), slope=1, color='black', ls=\"--\")\n",
    "plt.show()\n",
    "\n"
   ],
   "metadata": {
    "collapsed": false,
    "pycharm": {
     "name": "#%%\n"
    }
   }
  },
  {
   "cell_type": "code",
   "execution_count": null,
   "outputs": [],
   "source": [
    "mod.mse_total"
   ],
   "metadata": {
    "collapsed": false,
    "pycharm": {
     "name": "#%%\n"
    }
   }
  },
  {
   "cell_type": "code",
   "execution_count": null,
   "outputs": [],
   "source": [],
   "metadata": {
    "collapsed": false,
    "pycharm": {
     "name": "#%%\n"
    }
   }
  }
 ],
 "metadata": {
  "kernelspec": {
   "display_name": "Python 3 (ipykernel)",
   "language": "python",
   "name": "python3"
  },
  "language_info": {
   "codemirror_mode": {
    "name": "ipython",
    "version": 3
   },
   "file_extension": ".py",
   "mimetype": "text/x-python",
   "name": "python",
   "nbconvert_exporter": "python",
   "pygments_lexer": "ipython3",
   "version": "3.9.7"
  }
 },
 "nbformat": 4,
 "nbformat_minor": 5
}