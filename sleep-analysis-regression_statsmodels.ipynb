{
 "cells": [
  {
   "cell_type": "code",
   "execution_count": 17,
   "id": "3327f158",
   "metadata": {
    "pycharm": {
     "name": "#%%\n"
    }
   },
   "outputs": [],
   "source": [
    "import numpy as np\n",
    "import pandas as pd\n",
    "from sklearn.model_selection import train_test_split\n",
    "import statsmodels.formula.api as smf\n",
    "from statsmodels.stats.anova import anova_lm\n",
    "import matplotlib.pyplot as plt\n",
    "import warnings\n",
    "warnings.filterwarnings('ignore')"
   ]
  },
  {
   "cell_type": "markdown",
   "id": "96a15e56",
   "metadata": {
    "pycharm": {
     "name": "#%% md\n"
    }
   },
   "source": [
    "# CAS Data Science Projekt Sleep Analysis - Linear Regression"
   ]
  },
  {
   "cell_type": "markdown",
   "source": [
    "# Prepare data\n"
   ],
   "metadata": {
    "collapsed": false,
    "pycharm": {
     "name": "#%% md\n"
    }
   }
  },
  {
   "cell_type": "code",
   "execution_count": 18,
   "outputs": [
    {
     "name": "stdout",
     "output_type": "stream",
     "text": [
      "         date  skin_temp_avg  overall_score  composition_score  \\\n",
      "0  2022-03-04      30.505155             67                 17   \n",
      "1  2022-04-19      30.625221             75                 16   \n",
      "2  2022-03-10      29.899359             88                 21   \n",
      "\n",
      "   revitalization_score  duration_score  deep_sleep_in_minutes  \\\n",
      "0                    15              35                     66   \n",
      "1                    17              42                     62   \n",
      "2                    22              45                    126   \n",
      "\n",
      "   resting_heart_rate  restlessness    avg_bpm     Moon Phase  \n",
      "0                  60      0.073479  66.494309       New Moon  \n",
      "1                  52      0.071966  58.762171            NaN  \n",
      "2                  60      0.054695  60.620142  First Quarter  \n"
     ]
    }
   ],
   "source": [
    "data = pd.read_csv('prepared/fitbit_data_moon_crisp.csv', index_col=0)\n",
    "print(data.head(3))\n",
    "data.dropna(inplace=True)\n",
    "data.drop(columns=['date', 'revitalization_score'], inplace=True)\n",
    "data.drop(columns=['restlessness'], inplace=True)\n",
    "data.rename(columns={'overall_score':'score', 'duration_score':'DUS', 'deep_sleep_in_minutes':'DS', 'composition_score':'CS', 'Moon Phase': 'moon', 'skin_temp_avg':'temp','resting_heart_rate':'RHR', 'avg_bpm':\"BPM\"}, inplace=True)"
   ],
   "metadata": {
    "collapsed": false,
    "pycharm": {
     "name": "#%%\n"
    }
   }
  },
  {
   "cell_type": "code",
   "execution_count": 19,
   "outputs": [
    {
     "data": {
      "text/plain": "        temp  score  CS  DUS   DS  RHR        BPM           moon\n0  30.505155     67  17   35   66   60  66.494309       New Moon\n2  29.899359     88  21   45  126   60  60.620142  First Quarter\n3  29.917705     56  15   26   23   56  60.969515  Third Quarter\n4  30.016326     75  20   36   69   55  59.398694  First Quarter\n5  30.858560     68  19   31   69   60  58.885041       New Moon",
      "text/html": "<div>\n<style scoped>\n    .dataframe tbody tr th:only-of-type {\n        vertical-align: middle;\n    }\n\n    .dataframe tbody tr th {\n        vertical-align: top;\n    }\n\n    .dataframe thead th {\n        text-align: right;\n    }\n</style>\n<table border=\"1\" class=\"dataframe\">\n  <thead>\n    <tr style=\"text-align: right;\">\n      <th></th>\n      <th>temp</th>\n      <th>score</th>\n      <th>CS</th>\n      <th>DUS</th>\n      <th>DS</th>\n      <th>RHR</th>\n      <th>BPM</th>\n      <th>moon</th>\n    </tr>\n  </thead>\n  <tbody>\n    <tr>\n      <th>0</th>\n      <td>30.505155</td>\n      <td>67</td>\n      <td>17</td>\n      <td>35</td>\n      <td>66</td>\n      <td>60</td>\n      <td>66.494309</td>\n      <td>New Moon</td>\n    </tr>\n    <tr>\n      <th>2</th>\n      <td>29.899359</td>\n      <td>88</td>\n      <td>21</td>\n      <td>45</td>\n      <td>126</td>\n      <td>60</td>\n      <td>60.620142</td>\n      <td>First Quarter</td>\n    </tr>\n    <tr>\n      <th>3</th>\n      <td>29.917705</td>\n      <td>56</td>\n      <td>15</td>\n      <td>26</td>\n      <td>23</td>\n      <td>56</td>\n      <td>60.969515</td>\n      <td>Third Quarter</td>\n    </tr>\n    <tr>\n      <th>4</th>\n      <td>30.016326</td>\n      <td>75</td>\n      <td>20</td>\n      <td>36</td>\n      <td>69</td>\n      <td>55</td>\n      <td>59.398694</td>\n      <td>First Quarter</td>\n    </tr>\n    <tr>\n      <th>5</th>\n      <td>30.858560</td>\n      <td>68</td>\n      <td>19</td>\n      <td>31</td>\n      <td>69</td>\n      <td>60</td>\n      <td>58.885041</td>\n      <td>New Moon</td>\n    </tr>\n  </tbody>\n</table>\n</div>"
     },
     "execution_count": 19,
     "metadata": {},
     "output_type": "execute_result"
    }
   ],
   "source": [
    "data.head(5)"
   ],
   "metadata": {
    "collapsed": false,
    "pycharm": {
     "name": "#%%\n"
    }
   }
  },
  {
   "cell_type": "code",
   "execution_count": 20,
   "outputs": [],
   "source": [
    "mod = smf.ols(formula='score ~ CS + DUS + DS + RHR + BPM + moon + temp', data=data).fit()"
   ],
   "metadata": {
    "collapsed": false,
    "pycharm": {
     "name": "#%%\n"
    }
   }
  },
  {
   "cell_type": "code",
   "execution_count": 21,
   "outputs": [
    {
     "name": "stdout",
     "output_type": "stream",
     "text": [
      "                            OLS Regression Results                            \n",
      "==============================================================================\n",
      "Dep. Variable:                  score   R-squared:                       0.847\n",
      "Model:                            OLS   Adj. R-squared:                  0.834\n",
      "Method:                 Least Squares   F-statistic:                     65.75\n",
      "Date:                Tue, 28 Jun 2022   Prob (F-statistic):           1.59e-39\n",
      "Time:                        14:56:54   Log-Likelihood:                -259.46\n",
      "No. Observations:                 117   AIC:                             538.9\n",
      "Df Residuals:                     107   BIC:                             566.5\n",
      "Df Model:                           9                                         \n",
      "Covariance Type:            nonrobust                                         \n",
      "=========================================================================================\n",
      "                            coef    std err          t      P>|t|      [0.025      0.975]\n",
      "-----------------------------------------------------------------------------------------\n",
      "Intercept                 9.2753     11.724      0.791      0.431     -13.966      32.516\n",
      "moon[T.Full Moon]         0.6382      0.611      1.044      0.299      -0.574       1.850\n",
      "moon[T.New Moon]          0.1716      0.618      0.278      0.782      -1.053       1.396\n",
      "moon[T.Third Quarter]     0.1253      0.655      0.191      0.849      -1.173       1.423\n",
      "CS                        0.8585      0.127      6.786      0.000       0.608       1.109\n",
      "DUS                       1.1025      0.067     16.462      0.000       0.970       1.235\n",
      "DS                       -0.0046      0.013     -0.357      0.722      -0.030       0.021\n",
      "RHR                       0.3927      0.088      4.470      0.000       0.219       0.567\n",
      "BPM                      -0.2559      0.067     -3.801      0.000      -0.389      -0.122\n",
      "temp                      0.0258      0.321      0.080      0.936      -0.611       0.662\n",
      "==============================================================================\n",
      "Omnibus:                        1.823   Durbin-Watson:                   1.926\n",
      "Prob(Omnibus):                  0.402   Jarque-Bera (JB):                1.737\n",
      "Skew:                          -0.207   Prob(JB):                        0.420\n",
      "Kurtosis:                       2.569   Cond. No.                     6.90e+03\n",
      "==============================================================================\n",
      "\n",
      "Notes:\n",
      "[1] Standard Errors assume that the covariance matrix of the errors is correctly specified.\n",
      "[2] The condition number is large, 6.9e+03. This might indicate that there are\n",
      "strong multicollinearity or other numerical problems.\n"
     ]
    }
   ],
   "source": [
    "print(mod.summary())"
   ],
   "metadata": {
    "collapsed": false,
    "pycharm": {
     "name": "#%%\n"
    }
   }
  },
  {
   "cell_type": "code",
   "execution_count": 25,
   "outputs": [
    {
     "data": {
      "text/plain": "<bound method RegressionResults.summary of <statsmodels.regression.linear_model.OLSResults object at 0x1500969a0>>"
     },
     "execution_count": 25,
     "metadata": {},
     "output_type": "execute_result"
    }
   ],
   "source": [
    "np.sqrt(mod.scale)\n"
   ],
   "metadata": {
    "collapsed": false,
    "pycharm": {
     "name": "#%%\n"
    }
   }
  },
  {
   "cell_type": "code",
   "execution_count": 23,
   "outputs": [
    {
     "data": {
      "text/plain": "<Figure size 432x288 with 1 Axes>",
      "image/png": "[encoded data removed]"
     },
     "metadata": {},
     "output_type": "display_data"
    }
   ],
   "source": [
    "plt.close()\n",
    "\n",
    "plt.scatter(data.score, mod.fittedvalues.values, color='red')\n",
    "plt.xlim([40,100])\n",
    "plt.ylim([40,100])\n",
    "plt.grid()\n",
    "plt.axhline(y=0, color='black', linewidth=0.5)\n",
    "plt.axvline(x=0, color='black', linewidth=0.5)\n",
    "plt.title('Sleep Overall Score: Measured versus Fitted')\n",
    "plt.xlabel('mod.fittedvalues.values')\n",
    "plt.ylabel('score')\n",
    "plt.axline((1, 1), slope=1, color='black', ls=\"--\")\n",
    "plt.show()\n",
    "\n"
   ],
   "metadata": {
    "collapsed": false,
    "pycharm": {
     "name": "#%%\n"
    }
   }
  },
  {
   "cell_type": "code",
   "execution_count": 26,
   "outputs": [
    {
     "data": {
      "text/plain": "4.93944668736501"
     },
     "execution_count": 26,
     "metadata": {},
     "output_type": "execute_result"
    }
   ],
   "source": [
    "from statsmodels.tools.eval_measures import mse\n",
    "mse(data['score'], mod.fittedvalues.values)"
   ],
   "metadata": {
    "collapsed": false,
    "pycharm": {
     "name": "#%%\n"
    }
   }
  }
 ],
 "metadata": {
  "kernelspec": {
   "display_name": "Python 3 (ipykernel)",
   "language": "python",
   "name": "python3"
  },
  "language_info": {
   "codemirror_mode": {
    "name": "ipython",
    "version": 3
   },
   "file_extension": ".py",
   "mimetype": "text/x-python",
   "name": "python",
   "nbconvert_exporter": "python",
   "pygments_lexer": "ipython3",
   "version": "3.9.7"
  }
 },
 "nbformat": 4,
 "nbformat_minor": 5
}