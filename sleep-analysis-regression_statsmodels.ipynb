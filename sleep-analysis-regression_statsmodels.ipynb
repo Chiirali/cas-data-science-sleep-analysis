{
 "cells": [
  {
   "cell_type": "code",
   "execution_count": 91,
   "id": "3327f158",
   "metadata": {
    "pycharm": {
     "name": "#%%\n"
    }
   },
   "outputs": [],
   "source": [
    "import numpy as np\n",
    "import pandas as pd\n",
    "from sklearn.model_selection import train_test_split\n",
    "import statsmodels.formula.api as smf\n",
    "from statsmodels.stats.anova import anova_lm\n",
    "import matplotlib.pyplot as plt"
   ]
  },
  {
   "cell_type": "markdown",
   "id": "96a15e56",
   "metadata": {
    "pycharm": {
     "name": "#%% md\n"
    }
   },
   "source": [
    "# CAS Data Science Projekt Sleep Analysis - Linear Regression"
   ]
  },
  {
   "cell_type": "markdown",
   "source": [
    "# Prepare data\n"
   ],
   "metadata": {
    "collapsed": false,
    "pycharm": {
     "name": "#%% md\n"
    }
   }
  },
  {
   "cell_type": "code",
   "execution_count": 92,
   "outputs": [],
   "source": [
    "data = pd.read_csv('prepared/fitbit_data_moon_crisp.csv', index_col=0)\n",
    "data.dropna(inplace=True)\n",
    "data.drop(columns=['date', 'revitalization_score'], inplace=True)\n",
    "data.drop(columns=['restlessness'], inplace=True)\n",
    "data['scaled_temperature'] = data['temperature'].apply(lambda x: 80+x)\n",
    "data.drop(columns=['temperature'], inplace=True)\n",
    "\n",
    "data.rename(columns={'overall_score':'score', 'duration_score':'DUS', 'deep_sleep_in_minutes':'DS', 'composition_score':'CS', 'Moon Phase': 'moon', 'scaled_temperature':'temp','resting_heart_rate':'RHR', 'bpm':\"BPM\"}, inplace=True)"
   ],
   "metadata": {
    "collapsed": false,
    "pycharm": {
     "name": "#%%\n"
    }
   }
  },
  {
   "cell_type": "code",
   "execution_count": 93,
   "outputs": [
    {
     "data": {
      "text/plain": "   score  CS  DUS   DS  RHR        BPM           moon       temp\n0     67  17   35   66   60  68.873969       New Moon  77.505155\n2     88  21   45  126   60  67.206731  First Quarter  76.899359\n3     56  15   26   23   56  67.187992  Third Quarter  76.917705\n4     75  20   36   69   55  69.163313  First Quarter  77.016326\n5     68  19   31   69   60  61.607115       New Moon  77.858560",
      "text/html": "<div>\n<style scoped>\n    .dataframe tbody tr th:only-of-type {\n        vertical-align: middle;\n    }\n\n    .dataframe tbody tr th {\n        vertical-align: top;\n    }\n\n    .dataframe thead th {\n        text-align: right;\n    }\n</style>\n<table border=\"1\" class=\"dataframe\">\n  <thead>\n    <tr style=\"text-align: right;\">\n      <th></th>\n      <th>score</th>\n      <th>CS</th>\n      <th>DUS</th>\n      <th>DS</th>\n      <th>RHR</th>\n      <th>BPM</th>\n      <th>moon</th>\n      <th>temp</th>\n    </tr>\n  </thead>\n  <tbody>\n    <tr>\n      <th>0</th>\n      <td>67</td>\n      <td>17</td>\n      <td>35</td>\n      <td>66</td>\n      <td>60</td>\n      <td>68.873969</td>\n      <td>New Moon</td>\n      <td>77.505155</td>\n    </tr>\n    <tr>\n      <th>2</th>\n      <td>88</td>\n      <td>21</td>\n      <td>45</td>\n      <td>126</td>\n      <td>60</td>\n      <td>67.206731</td>\n      <td>First Quarter</td>\n      <td>76.899359</td>\n    </tr>\n    <tr>\n      <th>3</th>\n      <td>56</td>\n      <td>15</td>\n      <td>26</td>\n      <td>23</td>\n      <td>56</td>\n      <td>67.187992</td>\n      <td>Third Quarter</td>\n      <td>76.917705</td>\n    </tr>\n    <tr>\n      <th>4</th>\n      <td>75</td>\n      <td>20</td>\n      <td>36</td>\n      <td>69</td>\n      <td>55</td>\n      <td>69.163313</td>\n      <td>First Quarter</td>\n      <td>77.016326</td>\n    </tr>\n    <tr>\n      <th>5</th>\n      <td>68</td>\n      <td>19</td>\n      <td>31</td>\n      <td>69</td>\n      <td>60</td>\n      <td>61.607115</td>\n      <td>New Moon</td>\n      <td>77.858560</td>\n    </tr>\n  </tbody>\n</table>\n</div>"
     },
     "execution_count": 93,
     "metadata": {},
     "output_type": "execute_result"
    }
   ],
   "source": [
    "data.head(5)"
   ],
   "metadata": {
    "collapsed": false,
    "pycharm": {
     "name": "#%%\n"
    }
   }
  },
  {
   "cell_type": "code",
   "execution_count": 94,
   "outputs": [
    {
     "name": "stdout",
     "output_type": "stream",
     "text": [
      "                            OLS Regression Results                            \n",
      "==============================================================================\n",
      "Dep. Variable:                  score   R-squared:                       0.831\n",
      "Model:                            OLS   Adj. R-squared:                  0.817\n",
      "Method:                 Least Squares   F-statistic:                     58.46\n",
      "Date:                Fri, 24 Jun 2022   Prob (F-statistic):           2.89e-37\n",
      "Time:                        11:44:14   Log-Likelihood:                -265.22\n",
      "No. Observations:                 117   AIC:                             550.4\n",
      "Df Residuals:                     107   BIC:                             578.1\n",
      "Df Model:                           9                                         \n",
      "Covariance Type:            nonrobust                                         \n",
      "=========================================================================================\n",
      "                            coef    std err          t      P>|t|      [0.025      0.975]\n",
      "-----------------------------------------------------------------------------------------\n",
      "Intercept                 0.2158     28.897      0.007      0.994     -57.070      57.502\n",
      "moon[T.Full Moon]         0.7691      0.643      1.197      0.234      -0.505       2.043\n",
      "moon[T.New Moon]          0.0970      0.650      0.149      0.882      -1.191       1.385\n",
      "moon[T.Third Quarter]     0.2611      0.697      0.375      0.708      -1.120       1.642\n",
      "CS                        0.8901      0.133      6.689      0.000       0.626       1.154\n",
      "DUS                       1.1104      0.072     15.525      0.000       0.969       1.252\n",
      "DS                       -0.0074      0.013     -0.551      0.583      -0.034       0.019\n",
      "RHR                       0.3114      0.090      3.462      0.001       0.133       0.490\n",
      "BPM                      -0.1063      0.061     -1.749      0.083      -0.227       0.014\n",
      "temp                      0.0686      0.356      0.193      0.848      -0.637       0.774\n",
      "==============================================================================\n",
      "Omnibus:                        3.674   Durbin-Watson:                   1.906\n",
      "Prob(Omnibus):                  0.159   Jarque-Bera (JB):                2.752\n",
      "Skew:                          -0.233   Prob(JB):                        0.253\n",
      "Kurtosis:                       2.410   Cond. No.                     1.88e+04\n",
      "==============================================================================\n",
      "\n",
      "Notes:\n",
      "[1] Standard Errors assume that the covariance matrix of the errors is correctly specified.\n",
      "[2] The condition number is large, 1.88e+04. This might indicate that there are\n",
      "strong multicollinearity or other numerical problems.\n"
     ]
    }
   ],
   "source": [
    "mod = smf.ols(formula='score ~ CS + DUS + DS + RHR + BPM + moon + temp', data=data).fit()"
   ],
   "metadata": {
    "collapsed": false,
    "pycharm": {
     "name": "#%%\n"
    }
   }
  },
  {
   "cell_type": "code",
   "execution_count": null,
   "outputs": [],
   "source": [
    "print(mod.summary())"
   ],
   "metadata": {
    "collapsed": false,
    "pycharm": {
     "name": "#%%\n"
    }
   }
  },
  {
   "cell_type": "code",
   "execution_count": 95,
   "outputs": [
    {
     "data": {
      "text/plain": "2.4413498021446323"
     },
     "execution_count": 95,
     "metadata": {},
     "output_type": "execute_result"
    }
   ],
   "source": [
    "np.sqrt(mod.scale)"
   ],
   "metadata": {
    "collapsed": false,
    "pycharm": {
     "name": "#%%\n"
    }
   }
  },
  {
   "cell_type": "code",
   "execution_count": 99,
   "outputs": [
    {
     "data": {
      "text/plain": "<Figure size 432x288 with 1 Axes>",
      "image/png": "[encoded data removed]"
     },
     "metadata": {},
     "output_type": "display_data"
    }
   ],
   "source": [
    "plt.close()\n",
    "\n",
    "plt.scatter(data.score, mod.fittedvalues.values, color='red')\n",
    "plt.xlim([40,100])\n",
    "plt.ylim([40,100])\n",
    "plt.grid()\n",
    "plt.axhline(y=0, color='black', linewidth=0.5)\n",
    "plt.axvline(x=0, color='black', linewidth=0.5)\n",
    "plt.title('Sleep Overall Score: Measured versus Fitted')\n",
    "plt.xlabel('mod.fittedvalues.values')\n",
    "plt.ylabel('score')\n",
    "plt.axline((1, 1), slope=1, color='black', ls=\"--\")\n",
    "plt.show()\n",
    "\n"
   ],
   "metadata": {
    "collapsed": false,
    "pycharm": {
     "name": "#%%\n"
    }
   }
  },
  {
   "cell_type": "code",
   "execution_count": 101,
   "outputs": [
    {
     "data": {
      "text/plain": "32.533303860890065"
     },
     "execution_count": 101,
     "metadata": {},
     "output_type": "execute_result"
    }
   ],
   "source": [
    "mod.mse_total"
   ],
   "metadata": {
    "collapsed": false,
    "pycharm": {
     "name": "#%%\n"
    }
   }
  },
  {
   "cell_type": "code",
   "execution_count": null,
   "outputs": [],
   "source": [],
   "metadata": {
    "collapsed": false,
    "pycharm": {
     "name": "#%%\n"
    }
   }
  }
 ],
 "metadata": {
  "kernelspec": {
   "display_name": "Python 3 (ipykernel)",
   "language": "python",
   "name": "python3"
  },
  "language_info": {
   "codemirror_mode": {
    "name": "ipython",
    "version": 3
   },
   "file_extension": ".py",
   "mimetype": "text/x-python",
   "name": "python",
   "nbconvert_exporter": "python",
   "pygments_lexer": "ipython3",
   "version": "3.9.7"
  }
 },
 "nbformat": 4,
 "nbformat_minor": 5
}